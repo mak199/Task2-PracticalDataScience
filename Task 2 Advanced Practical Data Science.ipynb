{
 "cells": [
  {
   "cell_type": "code",
   "execution_count": 12,
   "metadata": {},
   "outputs": [],
   "source": [
    "import pandas as pd\n",
    "import numpy as np\n",
    "import matplotlib.pyplot as plt\n",
    "import seaborn as sns\n",
    "from sklearn import preprocessing"
   ]
  },
  {
   "cell_type": "code",
   "execution_count": 13,
   "metadata": {},
   "outputs": [],
   "source": [
    "#intial_dataset = pd.read_csv(\"train.csv\")"
   ]
  },
  {
   "cell_type": "code",
   "execution_count": 14,
   "metadata": {},
   "outputs": [],
   "source": [
    "#dataset = pd.read_csv(\"train.csv\")"
   ]
  },
  {
   "cell_type": "code",
   "execution_count": 15,
   "metadata": {},
   "outputs": [],
   "source": [
    "#dataset = intial_dataset.sample(frac = 0.1,random_state=0)"
   ]
  },
  {
   "cell_type": "code",
   "execution_count": 16,
   "metadata": {},
   "outputs": [],
   "source": [
    "#dataset.to_csv(\"dataset_sampled.csv\")"
   ]
  },
  {
   "cell_type": "code",
   "execution_count": 113,
   "metadata": {},
   "outputs": [],
   "source": [
    "dataset = pd.read_csv(\"dataset_sampled.csv\")\n",
    "test_dataset = pd.read_csv(\"test_revised.csv\")"
   ]
  },
  {
   "cell_type": "markdown",
   "metadata": {},
   "source": [
    "### Analysis of dataset"
   ]
  },
  {
   "cell_type": "code",
   "execution_count": 36,
   "metadata": {},
   "outputs": [
    {
     "data": {
      "text/plain": [
       "(1113547, 20)"
      ]
     },
     "execution_count": 36,
     "metadata": {},
     "output_type": "execute_result"
    }
   ],
   "source": [
    "dataset.shape"
   ]
  },
  {
   "cell_type": "code",
   "execution_count": 312,
   "metadata": {},
   "outputs": [
    {
     "data": {
      "text/plain": [
       "(64000, 16)"
      ]
     },
     "execution_count": 312,
     "metadata": {},
     "output_type": "execute_result"
    }
   ],
   "source": [
    "test_dataset.shape"
   ]
  },
  {
   "cell_type": "code",
   "execution_count": 13,
   "metadata": {},
   "outputs": [
    {
     "data": {
      "text/html": [
       "<div>\n",
       "<style scoped>\n",
       "    .dataframe tbody tr th:only-of-type {\n",
       "        vertical-align: middle;\n",
       "    }\n",
       "\n",
       "    .dataframe tbody tr th {\n",
       "        vertical-align: top;\n",
       "    }\n",
       "\n",
       "    .dataframe thead th {\n",
       "        text-align: right;\n",
       "    }\n",
       "</style>\n",
       "<table border=\"1\" class=\"dataframe\">\n",
       "  <thead>\n",
       "    <tr style=\"text-align: right;\">\n",
       "      <th></th>\n",
       "      <th>Unnamed: 0</th>\n",
       "      <th>VendorID</th>\n",
       "      <th>passenger_count</th>\n",
       "      <th>trip_distance</th>\n",
       "      <th>pickup_longitude</th>\n",
       "      <th>pickup_latitude</th>\n",
       "      <th>RatecodeID</th>\n",
       "      <th>dropoff_longitude</th>\n",
       "      <th>dropoff_latitude</th>\n",
       "      <th>payment_type</th>\n",
       "      <th>fare_amount</th>\n",
       "      <th>extra</th>\n",
       "      <th>mta_tax</th>\n",
       "      <th>tip_amount</th>\n",
       "      <th>tolls_amount</th>\n",
       "      <th>improvement_surcharge</th>\n",
       "      <th>total_amount</th>\n",
       "    </tr>\n",
       "  </thead>\n",
       "  <tbody>\n",
       "    <tr>\n",
       "      <th>count</th>\n",
       "      <td>1.113547e+06</td>\n",
       "      <td>1.113547e+06</td>\n",
       "      <td>1.113547e+06</td>\n",
       "      <td>1.113547e+06</td>\n",
       "      <td>1.113547e+06</td>\n",
       "      <td>1.113547e+06</td>\n",
       "      <td>1.113547e+06</td>\n",
       "      <td>1.113547e+06</td>\n",
       "      <td>1.113547e+06</td>\n",
       "      <td>1.113547e+06</td>\n",
       "      <td>1.113547e+06</td>\n",
       "      <td>1.113547e+06</td>\n",
       "      <td>1.113547e+06</td>\n",
       "      <td>1.113547e+06</td>\n",
       "      <td>1.113547e+06</td>\n",
       "      <td>1.113547e+06</td>\n",
       "      <td>1.113547e+06</td>\n",
       "    </tr>\n",
       "    <tr>\n",
       "      <th>mean</th>\n",
       "      <td>5.571050e+06</td>\n",
       "      <td>1.529188e+00</td>\n",
       "      <td>1.657283e+00</td>\n",
       "      <td>3.029327e+00</td>\n",
       "      <td>-7.305962e+01</td>\n",
       "      <td>4.024766e+01</td>\n",
       "      <td>1.043692e+00</td>\n",
       "      <td>-7.313092e+01</td>\n",
       "      <td>4.028782e+01</td>\n",
       "      <td>1.349625e+00</td>\n",
       "      <td>1.333468e+01</td>\n",
       "      <td>3.405538e-01</td>\n",
       "      <td>4.972738e-01</td>\n",
       "      <td>1.835671e+00</td>\n",
       "      <td>3.377642e-01</td>\n",
       "      <td>2.996659e-01</td>\n",
       "      <td>1.664871e+01</td>\n",
       "    </tr>\n",
       "    <tr>\n",
       "      <th>std</th>\n",
       "      <td>3.214538e+06</td>\n",
       "      <td>4.991475e-01</td>\n",
       "      <td>1.302624e+00</td>\n",
       "      <td>3.816946e+00</td>\n",
       "      <td>8.169789e+00</td>\n",
       "      <td>4.500594e+00</td>\n",
       "      <td>5.862743e-01</td>\n",
       "      <td>7.849238e+00</td>\n",
       "      <td>4.323112e+00</td>\n",
       "      <td>4.947822e-01</td>\n",
       "      <td>1.394672e+01</td>\n",
       "      <td>4.530082e-01</td>\n",
       "      <td>3.966875e-02</td>\n",
       "      <td>2.716106e+00</td>\n",
       "      <td>1.741324e+00</td>\n",
       "      <td>1.350077e-02</td>\n",
       "      <td>1.622029e+01</td>\n",
       "    </tr>\n",
       "    <tr>\n",
       "      <th>min</th>\n",
       "      <td>2.200000e+01</td>\n",
       "      <td>1.000000e+00</td>\n",
       "      <td>0.000000e+00</td>\n",
       "      <td>0.000000e+00</td>\n",
       "      <td>-1.161129e+02</td>\n",
       "      <td>0.000000e+00</td>\n",
       "      <td>1.000000e+00</td>\n",
       "      <td>-1.151684e+02</td>\n",
       "      <td>0.000000e+00</td>\n",
       "      <td>1.000000e+00</td>\n",
       "      <td>-2.300000e+02</td>\n",
       "      <td>-4.500000e+00</td>\n",
       "      <td>-5.000000e-01</td>\n",
       "      <td>-7.920000e+00</td>\n",
       "      <td>-1.050000e+01</td>\n",
       "      <td>-3.000000e-01</td>\n",
       "      <td>-2.413000e+02</td>\n",
       "    </tr>\n",
       "    <tr>\n",
       "      <th>25%</th>\n",
       "      <td>2.791410e+06</td>\n",
       "      <td>1.000000e+00</td>\n",
       "      <td>1.000000e+00</td>\n",
       "      <td>1.000000e+00</td>\n",
       "      <td>-7.399177e+01</td>\n",
       "      <td>4.073658e+01</td>\n",
       "      <td>1.000000e+00</td>\n",
       "      <td>-7.399123e+01</td>\n",
       "      <td>4.073494e+01</td>\n",
       "      <td>1.000000e+00</td>\n",
       "      <td>6.500000e+00</td>\n",
       "      <td>0.000000e+00</td>\n",
       "      <td>5.000000e-01</td>\n",
       "      <td>0.000000e+00</td>\n",
       "      <td>0.000000e+00</td>\n",
       "      <td>3.000000e-01</td>\n",
       "      <td>8.800000e+00</td>\n",
       "    </tr>\n",
       "    <tr>\n",
       "      <th>50%</th>\n",
       "      <td>5.573538e+06</td>\n",
       "      <td>2.000000e+00</td>\n",
       "      <td>1.000000e+00</td>\n",
       "      <td>1.710000e+00</td>\n",
       "      <td>-7.398134e+01</td>\n",
       "      <td>4.075361e+01</td>\n",
       "      <td>1.000000e+00</td>\n",
       "      <td>-7.397936e+01</td>\n",
       "      <td>4.075410e+01</td>\n",
       "      <td>1.000000e+00</td>\n",
       "      <td>9.500000e+00</td>\n",
       "      <td>0.000000e+00</td>\n",
       "      <td>5.000000e-01</td>\n",
       "      <td>1.350000e+00</td>\n",
       "      <td>0.000000e+00</td>\n",
       "      <td>3.000000e-01</td>\n",
       "      <td>1.230000e+01</td>\n",
       "    </tr>\n",
       "    <tr>\n",
       "      <th>75%</th>\n",
       "      <td>8.353019e+06</td>\n",
       "      <td>2.000000e+00</td>\n",
       "      <td>2.000000e+00</td>\n",
       "      <td>3.220000e+00</td>\n",
       "      <td>-7.396619e+01</td>\n",
       "      <td>4.076831e+01</td>\n",
       "      <td>1.000000e+00</td>\n",
       "      <td>-7.396199e+01</td>\n",
       "      <td>4.076954e+01</td>\n",
       "      <td>2.000000e+00</td>\n",
       "      <td>1.550000e+01</td>\n",
       "      <td>5.000000e-01</td>\n",
       "      <td>5.000000e-01</td>\n",
       "      <td>2.450000e+00</td>\n",
       "      <td>0.000000e+00</td>\n",
       "      <td>3.000000e-01</td>\n",
       "      <td>1.836000e+01</td>\n",
       "    </tr>\n",
       "    <tr>\n",
       "      <th>max</th>\n",
       "      <td>1.113545e+07</td>\n",
       "      <td>2.000000e+00</td>\n",
       "      <td>9.000000e+00</td>\n",
       "      <td>5.055000e+02</td>\n",
       "      <td>0.000000e+00</td>\n",
       "      <td>6.409648e+01</td>\n",
       "      <td>9.900000e+01</td>\n",
       "      <td>1.062469e+02</td>\n",
       "      <td>4.623993e+01</td>\n",
       "      <td>4.000000e+00</td>\n",
       "      <td>8.452000e+03</td>\n",
       "      <td>5.500000e+00</td>\n",
       "      <td>1.000000e+00</td>\n",
       "      <td>8.548500e+02</td>\n",
       "      <td>5.800000e+02</td>\n",
       "      <td>9.400000e-01</td>\n",
       "      <td>8.452800e+03</td>\n",
       "    </tr>\n",
       "  </tbody>\n",
       "</table>\n",
       "</div>"
      ],
      "text/plain": [
       "         Unnamed: 0      VendorID  passenger_count  trip_distance  \\\n",
       "count  1.113547e+06  1.113547e+06     1.113547e+06   1.113547e+06   \n",
       "mean   5.571050e+06  1.529188e+00     1.657283e+00   3.029327e+00   \n",
       "std    3.214538e+06  4.991475e-01     1.302624e+00   3.816946e+00   \n",
       "min    2.200000e+01  1.000000e+00     0.000000e+00   0.000000e+00   \n",
       "25%    2.791410e+06  1.000000e+00     1.000000e+00   1.000000e+00   \n",
       "50%    5.573538e+06  2.000000e+00     1.000000e+00   1.710000e+00   \n",
       "75%    8.353019e+06  2.000000e+00     2.000000e+00   3.220000e+00   \n",
       "max    1.113545e+07  2.000000e+00     9.000000e+00   5.055000e+02   \n",
       "\n",
       "       pickup_longitude  pickup_latitude    RatecodeID  dropoff_longitude  \\\n",
       "count      1.113547e+06     1.113547e+06  1.113547e+06       1.113547e+06   \n",
       "mean      -7.305962e+01     4.024766e+01  1.043692e+00      -7.313092e+01   \n",
       "std        8.169789e+00     4.500594e+00  5.862743e-01       7.849238e+00   \n",
       "min       -1.161129e+02     0.000000e+00  1.000000e+00      -1.151684e+02   \n",
       "25%       -7.399177e+01     4.073658e+01  1.000000e+00      -7.399123e+01   \n",
       "50%       -7.398134e+01     4.075361e+01  1.000000e+00      -7.397936e+01   \n",
       "75%       -7.396619e+01     4.076831e+01  1.000000e+00      -7.396199e+01   \n",
       "max        0.000000e+00     6.409648e+01  9.900000e+01       1.062469e+02   \n",
       "\n",
       "       dropoff_latitude  payment_type   fare_amount         extra  \\\n",
       "count      1.113547e+06  1.113547e+06  1.113547e+06  1.113547e+06   \n",
       "mean       4.028782e+01  1.349625e+00  1.333468e+01  3.405538e-01   \n",
       "std        4.323112e+00  4.947822e-01  1.394672e+01  4.530082e-01   \n",
       "min        0.000000e+00  1.000000e+00 -2.300000e+02 -4.500000e+00   \n",
       "25%        4.073494e+01  1.000000e+00  6.500000e+00  0.000000e+00   \n",
       "50%        4.075410e+01  1.000000e+00  9.500000e+00  0.000000e+00   \n",
       "75%        4.076954e+01  2.000000e+00  1.550000e+01  5.000000e-01   \n",
       "max        4.623993e+01  4.000000e+00  8.452000e+03  5.500000e+00   \n",
       "\n",
       "            mta_tax    tip_amount  tolls_amount  improvement_surcharge  \\\n",
       "count  1.113547e+06  1.113547e+06  1.113547e+06           1.113547e+06   \n",
       "mean   4.972738e-01  1.835671e+00  3.377642e-01           2.996659e-01   \n",
       "std    3.966875e-02  2.716106e+00  1.741324e+00           1.350077e-02   \n",
       "min   -5.000000e-01 -7.920000e+00 -1.050000e+01          -3.000000e-01   \n",
       "25%    5.000000e-01  0.000000e+00  0.000000e+00           3.000000e-01   \n",
       "50%    5.000000e-01  1.350000e+00  0.000000e+00           3.000000e-01   \n",
       "75%    5.000000e-01  2.450000e+00  0.000000e+00           3.000000e-01   \n",
       "max    1.000000e+00  8.548500e+02  5.800000e+02           9.400000e-01   \n",
       "\n",
       "       total_amount  \n",
       "count  1.113547e+06  \n",
       "mean   1.664871e+01  \n",
       "std    1.622029e+01  \n",
       "min   -2.413000e+02  \n",
       "25%    8.800000e+00  \n",
       "50%    1.230000e+01  \n",
       "75%    1.836000e+01  \n",
       "max    8.452800e+03  "
      ]
     },
     "execution_count": 13,
     "metadata": {},
     "output_type": "execute_result"
    }
   ],
   "source": [
    "dataset.describe()"
   ]
  },
  {
   "cell_type": "code",
   "execution_count": 114,
   "metadata": {},
   "outputs": [
    {
     "data": {
      "text/html": [
       "<div>\n",
       "<style scoped>\n",
       "    .dataframe tbody tr th:only-of-type {\n",
       "        vertical-align: middle;\n",
       "    }\n",
       "\n",
       "    .dataframe tbody tr th {\n",
       "        vertical-align: top;\n",
       "    }\n",
       "\n",
       "    .dataframe thead th {\n",
       "        text-align: right;\n",
       "    }\n",
       "</style>\n",
       "<table border=\"1\" class=\"dataframe\">\n",
       "  <thead>\n",
       "    <tr style=\"text-align: right;\">\n",
       "      <th></th>\n",
       "      <th>ID</th>\n",
       "      <th>VendorID</th>\n",
       "      <th>passenger_count</th>\n",
       "      <th>trip_distance</th>\n",
       "      <th>pickup_longitude</th>\n",
       "      <th>pickup_latitude</th>\n",
       "      <th>RatecodeID</th>\n",
       "      <th>dropoff_longitude</th>\n",
       "      <th>dropoff_latitude</th>\n",
       "      <th>payment_type</th>\n",
       "      <th>tolls_amount</th>\n",
       "      <th>improvement_surcharge</th>\n",
       "    </tr>\n",
       "  </thead>\n",
       "  <tbody>\n",
       "    <tr>\n",
       "      <th>count</th>\n",
       "      <td>64000.000000</td>\n",
       "      <td>64000.000000</td>\n",
       "      <td>64000.000000</td>\n",
       "      <td>64000.000000</td>\n",
       "      <td>64000.000000</td>\n",
       "      <td>64000.000000</td>\n",
       "      <td>64000.000000</td>\n",
       "      <td>64000.000000</td>\n",
       "      <td>64000.000000</td>\n",
       "      <td>64000.000000</td>\n",
       "      <td>64000.000000</td>\n",
       "      <td>64000.000000</td>\n",
       "    </tr>\n",
       "    <tr>\n",
       "      <th>mean</th>\n",
       "      <td>32000.500000</td>\n",
       "      <td>1.532219</td>\n",
       "      <td>1.683312</td>\n",
       "      <td>5.814134</td>\n",
       "      <td>-73.961224</td>\n",
       "      <td>40.744212</td>\n",
       "      <td>1.406250</td>\n",
       "      <td>-73.975563</td>\n",
       "      <td>40.746595</td>\n",
       "      <td>1.339938</td>\n",
       "      <td>1.720729</td>\n",
       "      <td>0.299986</td>\n",
       "    </tr>\n",
       "    <tr>\n",
       "      <th>std</th>\n",
       "      <td>18475.352951</td>\n",
       "      <td>0.498965</td>\n",
       "      <td>1.315349</td>\n",
       "      <td>7.143087</td>\n",
       "      <td>0.060814</td>\n",
       "      <td>0.038182</td>\n",
       "      <td>0.913769</td>\n",
       "      <td>0.084022</td>\n",
       "      <td>0.047569</td>\n",
       "      <td>0.494794</td>\n",
       "      <td>4.142556</td>\n",
       "      <td>0.002054</td>\n",
       "    </tr>\n",
       "    <tr>\n",
       "      <th>min</th>\n",
       "      <td>1.000000</td>\n",
       "      <td>1.000000</td>\n",
       "      <td>0.000000</td>\n",
       "      <td>0.010000</td>\n",
       "      <td>-74.822891</td>\n",
       "      <td>40.316776</td>\n",
       "      <td>1.000000</td>\n",
       "      <td>-74.816330</td>\n",
       "      <td>40.217930</td>\n",
       "      <td>1.000000</td>\n",
       "      <td>0.000000</td>\n",
       "      <td>0.000000</td>\n",
       "    </tr>\n",
       "    <tr>\n",
       "      <th>25%</th>\n",
       "      <td>16000.750000</td>\n",
       "      <td>1.000000</td>\n",
       "      <td>1.000000</td>\n",
       "      <td>1.190000</td>\n",
       "      <td>-73.991379</td>\n",
       "      <td>40.731735</td>\n",
       "      <td>1.000000</td>\n",
       "      <td>-73.993767</td>\n",
       "      <td>40.725551</td>\n",
       "      <td>1.000000</td>\n",
       "      <td>0.000000</td>\n",
       "      <td>0.300000</td>\n",
       "    </tr>\n",
       "    <tr>\n",
       "      <th>50%</th>\n",
       "      <td>32000.500000</td>\n",
       "      <td>2.000000</td>\n",
       "      <td>1.000000</td>\n",
       "      <td>2.230000</td>\n",
       "      <td>-73.980621</td>\n",
       "      <td>40.751961</td>\n",
       "      <td>1.000000</td>\n",
       "      <td>-73.980354</td>\n",
       "      <td>40.751427</td>\n",
       "      <td>1.000000</td>\n",
       "      <td>0.000000</td>\n",
       "      <td>0.300000</td>\n",
       "    </tr>\n",
       "    <tr>\n",
       "      <th>75%</th>\n",
       "      <td>48000.250000</td>\n",
       "      <td>2.000000</td>\n",
       "      <td>2.000000</td>\n",
       "      <td>7.700000</td>\n",
       "      <td>-73.962318</td>\n",
       "      <td>40.766659</td>\n",
       "      <td>1.000000</td>\n",
       "      <td>-73.960648</td>\n",
       "      <td>40.768589</td>\n",
       "      <td>2.000000</td>\n",
       "      <td>0.000000</td>\n",
       "      <td>0.300000</td>\n",
       "    </tr>\n",
       "    <tr>\n",
       "      <th>max</th>\n",
       "      <td>64000.000000</td>\n",
       "      <td>2.000000</td>\n",
       "      <td>9.000000</td>\n",
       "      <td>84.600000</td>\n",
       "      <td>-73.188499</td>\n",
       "      <td>41.422253</td>\n",
       "      <td>5.000000</td>\n",
       "      <td>-72.711067</td>\n",
       "      <td>41.435841</td>\n",
       "      <td>4.000000</td>\n",
       "      <td>95.540000</td>\n",
       "      <td>0.300000</td>\n",
       "    </tr>\n",
       "  </tbody>\n",
       "</table>\n",
       "</div>"
      ],
      "text/plain": [
       "                 ID      VendorID  passenger_count  trip_distance  \\\n",
       "count  64000.000000  64000.000000     64000.000000   64000.000000   \n",
       "mean   32000.500000      1.532219         1.683312       5.814134   \n",
       "std    18475.352951      0.498965         1.315349       7.143087   \n",
       "min        1.000000      1.000000         0.000000       0.010000   \n",
       "25%    16000.750000      1.000000         1.000000       1.190000   \n",
       "50%    32000.500000      2.000000         1.000000       2.230000   \n",
       "75%    48000.250000      2.000000         2.000000       7.700000   \n",
       "max    64000.000000      2.000000         9.000000      84.600000   \n",
       "\n",
       "       pickup_longitude  pickup_latitude    RatecodeID  dropoff_longitude  \\\n",
       "count      64000.000000     64000.000000  64000.000000       64000.000000   \n",
       "mean         -73.961224        40.744212      1.406250         -73.975563   \n",
       "std            0.060814         0.038182      0.913769           0.084022   \n",
       "min          -74.822891        40.316776      1.000000         -74.816330   \n",
       "25%          -73.991379        40.731735      1.000000         -73.993767   \n",
       "50%          -73.980621        40.751961      1.000000         -73.980354   \n",
       "75%          -73.962318        40.766659      1.000000         -73.960648   \n",
       "max          -73.188499        41.422253      5.000000         -72.711067   \n",
       "\n",
       "       dropoff_latitude  payment_type  tolls_amount  improvement_surcharge  \n",
       "count      64000.000000  64000.000000  64000.000000           64000.000000  \n",
       "mean          40.746595      1.339938      1.720729               0.299986  \n",
       "std            0.047569      0.494794      4.142556               0.002054  \n",
       "min           40.217930      1.000000      0.000000               0.000000  \n",
       "25%           40.725551      1.000000      0.000000               0.300000  \n",
       "50%           40.751427      1.000000      0.000000               0.300000  \n",
       "75%           40.768589      2.000000      0.000000               0.300000  \n",
       "max           41.435841      4.000000     95.540000               0.300000  "
      ]
     },
     "execution_count": 114,
     "metadata": {},
     "output_type": "execute_result"
    }
   ],
   "source": [
    "test_dataset.describe()"
   ]
  },
  {
   "cell_type": "code",
   "execution_count": 273,
   "metadata": {},
   "outputs": [
    {
     "data": {
      "text/html": [
       "<div>\n",
       "<style scoped>\n",
       "    .dataframe tbody tr th:only-of-type {\n",
       "        vertical-align: middle;\n",
       "    }\n",
       "\n",
       "    .dataframe tbody tr th {\n",
       "        vertical-align: top;\n",
       "    }\n",
       "\n",
       "    .dataframe thead th {\n",
       "        text-align: right;\n",
       "    }\n",
       "</style>\n",
       "<table border=\"1\" class=\"dataframe\">\n",
       "  <thead>\n",
       "    <tr style=\"text-align: right;\">\n",
       "      <th></th>\n",
       "      <th>Unnamed: 0</th>\n",
       "      <th>VendorID</th>\n",
       "      <th>tpep_pickup_datetime</th>\n",
       "      <th>tpep_dropoff_datetime</th>\n",
       "      <th>passenger_count</th>\n",
       "      <th>trip_distance</th>\n",
       "      <th>pickup_longitude</th>\n",
       "      <th>pickup_latitude</th>\n",
       "      <th>RatecodeID</th>\n",
       "      <th>store_and_fwd_flag</th>\n",
       "      <th>dropoff_longitude</th>\n",
       "      <th>dropoff_latitude</th>\n",
       "      <th>payment_type</th>\n",
       "      <th>fare_amount</th>\n",
       "      <th>extra</th>\n",
       "      <th>mta_tax</th>\n",
       "      <th>tip_amount</th>\n",
       "      <th>tolls_amount</th>\n",
       "      <th>improvement_surcharge</th>\n",
       "      <th>total_amount</th>\n",
       "    </tr>\n",
       "  </thead>\n",
       "  <tbody>\n",
       "    <tr>\n",
       "      <th>0</th>\n",
       "      <td>510205</td>\n",
       "      <td>2</td>\n",
       "      <td>2016-06-02 00:34:25</td>\n",
       "      <td>2016-06-02 00:54:42</td>\n",
       "      <td>1</td>\n",
       "      <td>6.10</td>\n",
       "      <td>-73.994568</td>\n",
       "      <td>40.725990</td>\n",
       "      <td>1</td>\n",
       "      <td>N</td>\n",
       "      <td>-73.960747</td>\n",
       "      <td>40.799648</td>\n",
       "      <td>1</td>\n",
       "      <td>20.0</td>\n",
       "      <td>0.5</td>\n",
       "      <td>0.5</td>\n",
       "      <td>1.00</td>\n",
       "      <td>0.0</td>\n",
       "      <td>0.3</td>\n",
       "      <td>22.30</td>\n",
       "    </tr>\n",
       "    <tr>\n",
       "      <th>1</th>\n",
       "      <td>2638457</td>\n",
       "      <td>1</td>\n",
       "      <td>2016-06-11 13:48:02</td>\n",
       "      <td>2016-06-11 13:53:24</td>\n",
       "      <td>1</td>\n",
       "      <td>1.00</td>\n",
       "      <td>-73.990570</td>\n",
       "      <td>40.771523</td>\n",
       "      <td>1</td>\n",
       "      <td>N</td>\n",
       "      <td>-73.995148</td>\n",
       "      <td>40.759354</td>\n",
       "      <td>1</td>\n",
       "      <td>6.0</td>\n",
       "      <td>0.0</td>\n",
       "      <td>0.5</td>\n",
       "      <td>1.70</td>\n",
       "      <td>0.0</td>\n",
       "      <td>0.3</td>\n",
       "      <td>8.50</td>\n",
       "    </tr>\n",
       "    <tr>\n",
       "      <th>2</th>\n",
       "      <td>7396380</td>\n",
       "      <td>1</td>\n",
       "      <td>2016-06-22 16:48:49</td>\n",
       "      <td>2016-06-22 16:55:02</td>\n",
       "      <td>1</td>\n",
       "      <td>0.70</td>\n",
       "      <td>-73.985054</td>\n",
       "      <td>40.768436</td>\n",
       "      <td>1</td>\n",
       "      <td>N</td>\n",
       "      <td>-73.983154</td>\n",
       "      <td>40.760925</td>\n",
       "      <td>1</td>\n",
       "      <td>6.0</td>\n",
       "      <td>1.0</td>\n",
       "      <td>0.5</td>\n",
       "      <td>1.95</td>\n",
       "      <td>0.0</td>\n",
       "      <td>0.3</td>\n",
       "      <td>9.75</td>\n",
       "    </tr>\n",
       "    <tr>\n",
       "      <th>3</th>\n",
       "      <td>4521493</td>\n",
       "      <td>2</td>\n",
       "      <td>2016-06-12 21:14:19</td>\n",
       "      <td>2016-06-12 21:20:48</td>\n",
       "      <td>1</td>\n",
       "      <td>1.05</td>\n",
       "      <td>-73.985710</td>\n",
       "      <td>40.750546</td>\n",
       "      <td>1</td>\n",
       "      <td>N</td>\n",
       "      <td>-73.978607</td>\n",
       "      <td>40.753746</td>\n",
       "      <td>2</td>\n",
       "      <td>6.5</td>\n",
       "      <td>0.5</td>\n",
       "      <td>0.5</td>\n",
       "      <td>0.00</td>\n",
       "      <td>0.0</td>\n",
       "      <td>0.3</td>\n",
       "      <td>7.80</td>\n",
       "    </tr>\n",
       "    <tr>\n",
       "      <th>4</th>\n",
       "      <td>7461453</td>\n",
       "      <td>2</td>\n",
       "      <td>2016-06-22 19:56:50</td>\n",
       "      <td>2016-06-22 19:57:45</td>\n",
       "      <td>1</td>\n",
       "      <td>0.37</td>\n",
       "      <td>-73.963051</td>\n",
       "      <td>40.766579</td>\n",
       "      <td>1</td>\n",
       "      <td>N</td>\n",
       "      <td>-73.959557</td>\n",
       "      <td>40.771191</td>\n",
       "      <td>1</td>\n",
       "      <td>3.0</td>\n",
       "      <td>1.0</td>\n",
       "      <td>0.5</td>\n",
       "      <td>1.20</td>\n",
       "      <td>0.0</td>\n",
       "      <td>0.3</td>\n",
       "      <td>6.00</td>\n",
       "    </tr>\n",
       "  </tbody>\n",
       "</table>\n",
       "</div>"
      ],
      "text/plain": [
       "   Unnamed: 0  VendorID tpep_pickup_datetime tpep_dropoff_datetime  \\\n",
       "0      510205         2  2016-06-02 00:34:25   2016-06-02 00:54:42   \n",
       "1     2638457         1  2016-06-11 13:48:02   2016-06-11 13:53:24   \n",
       "2     7396380         1  2016-06-22 16:48:49   2016-06-22 16:55:02   \n",
       "3     4521493         2  2016-06-12 21:14:19   2016-06-12 21:20:48   \n",
       "4     7461453         2  2016-06-22 19:56:50   2016-06-22 19:57:45   \n",
       "\n",
       "   passenger_count  trip_distance  pickup_longitude  pickup_latitude  \\\n",
       "0                1           6.10        -73.994568        40.725990   \n",
       "1                1           1.00        -73.990570        40.771523   \n",
       "2                1           0.70        -73.985054        40.768436   \n",
       "3                1           1.05        -73.985710        40.750546   \n",
       "4                1           0.37        -73.963051        40.766579   \n",
       "\n",
       "   RatecodeID store_and_fwd_flag  dropoff_longitude  dropoff_latitude  \\\n",
       "0           1                  N         -73.960747         40.799648   \n",
       "1           1                  N         -73.995148         40.759354   \n",
       "2           1                  N         -73.983154         40.760925   \n",
       "3           1                  N         -73.978607         40.753746   \n",
       "4           1                  N         -73.959557         40.771191   \n",
       "\n",
       "   payment_type  fare_amount  extra  mta_tax  tip_amount  tolls_amount  \\\n",
       "0             1         20.0    0.5      0.5        1.00           0.0   \n",
       "1             1          6.0    0.0      0.5        1.70           0.0   \n",
       "2             1          6.0    1.0      0.5        1.95           0.0   \n",
       "3             2          6.5    0.5      0.5        0.00           0.0   \n",
       "4             1          3.0    1.0      0.5        1.20           0.0   \n",
       "\n",
       "   improvement_surcharge  total_amount  \n",
       "0                    0.3         22.30  \n",
       "1                    0.3          8.50  \n",
       "2                    0.3          9.75  \n",
       "3                    0.3          7.80  \n",
       "4                    0.3          6.00  "
      ]
     },
     "execution_count": 273,
     "metadata": {},
     "output_type": "execute_result"
    }
   ],
   "source": [
    "dataset.head()"
   ]
  },
  {
   "cell_type": "code",
   "execution_count": 14,
   "metadata": {},
   "outputs": [
    {
     "data": {
      "text/html": [
       "<div>\n",
       "<style scoped>\n",
       "    .dataframe tbody tr th:only-of-type {\n",
       "        vertical-align: middle;\n",
       "    }\n",
       "\n",
       "    .dataframe tbody tr th {\n",
       "        vertical-align: top;\n",
       "    }\n",
       "\n",
       "    .dataframe thead th {\n",
       "        text-align: right;\n",
       "    }\n",
       "</style>\n",
       "<table border=\"1\" class=\"dataframe\">\n",
       "  <thead>\n",
       "    <tr style=\"text-align: right;\">\n",
       "      <th></th>\n",
       "      <th>Unnamed: 0</th>\n",
       "      <th>VendorID</th>\n",
       "      <th>tpep_pickup_datetime</th>\n",
       "      <th>tpep_dropoff_datetime</th>\n",
       "      <th>passenger_count</th>\n",
       "      <th>trip_distance</th>\n",
       "      <th>pickup_longitude</th>\n",
       "      <th>pickup_latitude</th>\n",
       "      <th>RatecodeID</th>\n",
       "      <th>store_and_fwd_flag</th>\n",
       "      <th>dropoff_longitude</th>\n",
       "      <th>dropoff_latitude</th>\n",
       "      <th>payment_type</th>\n",
       "      <th>fare_amount</th>\n",
       "      <th>extra</th>\n",
       "      <th>mta_tax</th>\n",
       "      <th>tip_amount</th>\n",
       "      <th>tolls_amount</th>\n",
       "      <th>improvement_surcharge</th>\n",
       "      <th>total_amount</th>\n",
       "    </tr>\n",
       "  </thead>\n",
       "  <tbody>\n",
       "    <tr>\n",
       "      <th>11130</th>\n",
       "      <td>4657460</td>\n",
       "      <td>1</td>\n",
       "      <td>2016-06-13 10:11:14</td>\n",
       "      <td>2016-06-13 10:27:42</td>\n",
       "      <td>1</td>\n",
       "      <td>1.40</td>\n",
       "      <td>-73.990150</td>\n",
       "      <td>40.757046</td>\n",
       "      <td>1</td>\n",
       "      <td>N</td>\n",
       "      <td>-74.004547</td>\n",
       "      <td>40.741978</td>\n",
       "      <td>2</td>\n",
       "      <td>11.0</td>\n",
       "      <td>0.0</td>\n",
       "      <td>0.5</td>\n",
       "      <td>0.00</td>\n",
       "      <td>0.0</td>\n",
       "      <td>0.3</td>\n",
       "      <td>11.80</td>\n",
       "    </tr>\n",
       "    <tr>\n",
       "      <th>11131</th>\n",
       "      <td>9441176</td>\n",
       "      <td>1</td>\n",
       "      <td>2016-06-28 06:48:39</td>\n",
       "      <td>2016-06-28 07:05:09</td>\n",
       "      <td>1</td>\n",
       "      <td>5.60</td>\n",
       "      <td>-74.008736</td>\n",
       "      <td>40.704525</td>\n",
       "      <td>1</td>\n",
       "      <td>N</td>\n",
       "      <td>-73.993027</td>\n",
       "      <td>40.753227</td>\n",
       "      <td>1</td>\n",
       "      <td>19.0</td>\n",
       "      <td>0.0</td>\n",
       "      <td>0.5</td>\n",
       "      <td>3.95</td>\n",
       "      <td>0.0</td>\n",
       "      <td>0.3</td>\n",
       "      <td>23.75</td>\n",
       "    </tr>\n",
       "    <tr>\n",
       "      <th>11132</th>\n",
       "      <td>6303569</td>\n",
       "      <td>2</td>\n",
       "      <td>2016-06-17 18:07:39</td>\n",
       "      <td>2016-06-17 18:30:21</td>\n",
       "      <td>1</td>\n",
       "      <td>3.47</td>\n",
       "      <td>-73.988815</td>\n",
       "      <td>40.736740</td>\n",
       "      <td>1</td>\n",
       "      <td>N</td>\n",
       "      <td>-73.951897</td>\n",
       "      <td>40.766586</td>\n",
       "      <td>1</td>\n",
       "      <td>16.5</td>\n",
       "      <td>1.0</td>\n",
       "      <td>0.5</td>\n",
       "      <td>3.66</td>\n",
       "      <td>0.0</td>\n",
       "      <td>0.3</td>\n",
       "      <td>21.96</td>\n",
       "    </tr>\n",
       "    <tr>\n",
       "      <th>11133</th>\n",
       "      <td>1063510</td>\n",
       "      <td>2</td>\n",
       "      <td>2016-06-03 11:53:20</td>\n",
       "      <td>2016-06-03 12:01:44</td>\n",
       "      <td>1</td>\n",
       "      <td>0.98</td>\n",
       "      <td>-73.962852</td>\n",
       "      <td>40.758400</td>\n",
       "      <td>1</td>\n",
       "      <td>N</td>\n",
       "      <td>-73.953659</td>\n",
       "      <td>40.770840</td>\n",
       "      <td>1</td>\n",
       "      <td>7.0</td>\n",
       "      <td>0.0</td>\n",
       "      <td>0.5</td>\n",
       "      <td>1.56</td>\n",
       "      <td>0.0</td>\n",
       "      <td>0.3</td>\n",
       "      <td>9.36</td>\n",
       "    </tr>\n",
       "    <tr>\n",
       "      <th>11134</th>\n",
       "      <td>3806545</td>\n",
       "      <td>1</td>\n",
       "      <td>2016-06-08 15:52:24</td>\n",
       "      <td>2016-06-08 16:24:32</td>\n",
       "      <td>2</td>\n",
       "      <td>1.90</td>\n",
       "      <td>-73.978882</td>\n",
       "      <td>40.785210</td>\n",
       "      <td>1</td>\n",
       "      <td>N</td>\n",
       "      <td>-73.976448</td>\n",
       "      <td>40.765652</td>\n",
       "      <td>1</td>\n",
       "      <td>19.0</td>\n",
       "      <td>0.0</td>\n",
       "      <td>0.5</td>\n",
       "      <td>3.95</td>\n",
       "      <td>0.0</td>\n",
       "      <td>0.3</td>\n",
       "      <td>23.75</td>\n",
       "    </tr>\n",
       "  </tbody>\n",
       "</table>\n",
       "</div>"
      ],
      "text/plain": [
       "       Unnamed: 0  VendorID tpep_pickup_datetime tpep_dropoff_datetime  \\\n",
       "11130     4657460         1  2016-06-13 10:11:14   2016-06-13 10:27:42   \n",
       "11131     9441176         1  2016-06-28 06:48:39   2016-06-28 07:05:09   \n",
       "11132     6303569         2  2016-06-17 18:07:39   2016-06-17 18:30:21   \n",
       "11133     1063510         2  2016-06-03 11:53:20   2016-06-03 12:01:44   \n",
       "11134     3806545         1  2016-06-08 15:52:24   2016-06-08 16:24:32   \n",
       "\n",
       "       passenger_count  trip_distance  pickup_longitude  pickup_latitude  \\\n",
       "11130                1           1.40        -73.990150        40.757046   \n",
       "11131                1           5.60        -74.008736        40.704525   \n",
       "11132                1           3.47        -73.988815        40.736740   \n",
       "11133                1           0.98        -73.962852        40.758400   \n",
       "11134                2           1.90        -73.978882        40.785210   \n",
       "\n",
       "       RatecodeID store_and_fwd_flag  dropoff_longitude  dropoff_latitude  \\\n",
       "11130           1                  N         -74.004547         40.741978   \n",
       "11131           1                  N         -73.993027         40.753227   \n",
       "11132           1                  N         -73.951897         40.766586   \n",
       "11133           1                  N         -73.953659         40.770840   \n",
       "11134           1                  N         -73.976448         40.765652   \n",
       "\n",
       "       payment_type  fare_amount  extra  mta_tax  tip_amount  tolls_amount  \\\n",
       "11130             2         11.0    0.0      0.5        0.00           0.0   \n",
       "11131             1         19.0    0.0      0.5        3.95           0.0   \n",
       "11132             1         16.5    1.0      0.5        3.66           0.0   \n",
       "11133             1          7.0    0.0      0.5        1.56           0.0   \n",
       "11134             1         19.0    0.0      0.5        3.95           0.0   \n",
       "\n",
       "       improvement_surcharge  total_amount  \n",
       "11130                    0.3         11.80  \n",
       "11131                    0.3         23.75  \n",
       "11132                    0.3         21.96  \n",
       "11133                    0.3          9.36  \n",
       "11134                    0.3         23.75  "
      ]
     },
     "execution_count": 14,
     "metadata": {},
     "output_type": "execute_result"
    }
   ],
   "source": [
    "dataset.tail()"
   ]
  },
  {
   "cell_type": "markdown",
   "metadata": {},
   "source": [
    "### VendorID"
   ]
  },
  {
   "cell_type": "markdown",
   "metadata": {},
   "source": [
    "A code indicating the TPEP provider that provided the record.\n",
    "1= Creative Mobile Technologies, LLC; 2= VeriFone Inc."
   ]
  },
  {
   "cell_type": "code",
   "execution_count": 5,
   "metadata": {},
   "outputs": [
    {
     "data": {
      "text/plain": [
       "2    117913\n",
       "1    104796\n",
       "Name: VendorID, dtype: int64"
      ]
     },
     "execution_count": 5,
     "metadata": {},
     "output_type": "execute_result"
    }
   ],
   "source": [
    "dataset[\"VendorID\"].value_counts()"
   ]
  },
  {
   "cell_type": "code",
   "execution_count": 6,
   "metadata": {},
   "outputs": [
    {
     "data": {
      "image/png": "[encoded data removed]",
      "text/plain": [
       "<matplotlib.figure.Figure at 0x248cf08ed30>"
      ]
     },
     "metadata": {},
     "output_type": "display_data"
    }
   ],
   "source": [
    "fig = plt.figure(figsize = (10,6))\n",
    "sns.set_style(\"whitegrid\")\n",
    "ax = sns.boxplot(x=\"VendorID\", y=\"total_amount\", data=dataset)"
   ]
  },
  {
   "cell_type": "markdown",
   "metadata": {},
   "source": [
    "### Passenger Count(Feature)"
   ]
  },
  {
   "cell_type": "markdown",
   "metadata": {},
   "source": [
    "The number of passengers in the vehicle.\n",
    "This is a driver-entered value."
   ]
  },
  {
   "cell_type": "code",
   "execution_count": 7,
   "metadata": {},
   "outputs": [
    {
     "data": {
      "text/plain": [
       "1    158259\n",
       "2     32071\n",
       "5     11410\n",
       "3      9263\n",
       "6      7202\n",
       "4      4498\n",
       "0         4\n",
       "8         1\n",
       "7         1\n",
       "Name: passenger_count, dtype: int64"
      ]
     },
     "execution_count": 7,
     "metadata": {},
     "output_type": "execute_result"
    }
   ],
   "source": [
    "dataset[\"passenger_count\"].value_counts()"
   ]
  },
  {
   "cell_type": "code",
   "execution_count": 10,
   "metadata": {},
   "outputs": [
    {
     "data": {
      "text/plain": [
       "1.6565159292639384"
      ]
     },
     "execution_count": 10,
     "metadata": {},
     "output_type": "execute_result"
    }
   ],
   "source": [
    "dataset[\"passenger_count\"].mean()"
   ]
  },
  {
   "cell_type": "code",
   "execution_count": 17,
   "metadata": {},
   "outputs": [
    {
     "data": {
      "image/png": "[encoded data removed]",
      "text/plain": [
       "<matplotlib.figure.Figure at 0x232099d3f60>"
      ]
     },
     "metadata": {},
     "output_type": "display_data"
    }
   ],
   "source": [
    "import seaborn as sns\n",
    "import matplotlib.pyplot as plt\n",
    "fig = plt.figure(figsize = (10,6))\n",
    "sns.set_style(\"whitegrid\")\n",
    "ax = sns.boxplot(x=\"passenger_count\", y=\"total_amount\", data=dataset)"
   ]
  },
  {
   "cell_type": "markdown",
   "metadata": {},
   "source": [
    "### store_and_fwd_flag"
   ]
  },
  {
   "cell_type": "markdown",
   "metadata": {},
   "source": [
    "This flag indicates whether the trip record was held in vehicle memory before sending to the vendor, aka “store and forward,” because the vehicle did not have a connection to the server.\n",
    "\n",
    "Y= store and forward trip\n",
    "\n",
    "N= not a store and forward trip"
   ]
  },
  {
   "cell_type": "code",
   "execution_count": 11,
   "metadata": {},
   "outputs": [
    {
     "data": {
      "text/plain": [
       "N    553457\n",
       "Y      3317\n",
       "Name: store_and_fwd_flag, dtype: int64"
      ]
     },
     "execution_count": 11,
     "metadata": {},
     "output_type": "execute_result"
    }
   ],
   "source": [
    "dataset[\"store_and_fwd_flag\"].value_counts()"
   ]
  },
  {
   "cell_type": "code",
   "execution_count": 12,
   "metadata": {},
   "outputs": [
    {
     "data": {
      "image/png": "[encoded data removed]",
      "text/plain": [
       "<matplotlib.figure.Figure at 0x25914b34588>"
      ]
     },
     "metadata": {},
     "output_type": "display_data"
    }
   ],
   "source": [
    "fig = plt.figure(figsize = (10,6))\n",
    "sns.set_style(\"whitegrid\")\n",
    "ax = sns.boxplot(x=\"store_and_fwd_flag\", y=\"total_amount\", data=dataset)"
   ]
  },
  {
   "cell_type": "code",
   "execution_count": null,
   "metadata": {},
   "outputs": [],
   "source": [
    "dataset.where(dataset[\"store_and_fwd_flag\"]==\"N\").mean().loc[\"total_amount\"]\n",
    "#dataset.where(dataset[\"store_and_fwd_flag\"]==0).mean().loc[\"total_amount\"]"
   ]
  },
  {
   "cell_type": "code",
   "execution_count": 52,
   "metadata": {},
   "outputs": [
    {
     "data": {
      "text/plain": [
       "22.456562499999986"
      ]
     },
     "execution_count": 52,
     "metadata": {},
     "output_type": "execute_result"
    }
   ],
   "source": [
    "dataset.where(dataset[\"store_and_fwd_flag\"]==\"Y\").mean().loc[\"total_amount\"]"
   ]
  },
  {
   "cell_type": "markdown",
   "metadata": {},
   "source": [
    "### Trip Distance(Feature)"
   ]
  },
  {
   "cell_type": "markdown",
   "metadata": {},
   "source": [
    "The elapsed trip distance in miles reported by the taximeter"
   ]
  },
  {
   "cell_type": "code",
   "execution_count": 8,
   "metadata": {},
   "outputs": [
    {
     "data": {
      "text/plain": [
       "3.032327656268944"
      ]
     },
     "execution_count": 8,
     "metadata": {},
     "output_type": "execute_result"
    }
   ],
   "source": [
    "dataset[\"trip_distance\"].mean()"
   ]
  },
  {
   "cell_type": "code",
   "execution_count": 39,
   "metadata": {},
   "outputs": [
    {
     "data": {
      "text/plain": [
       "<matplotlib.axes._subplots.AxesSubplot at 0x1a3935d6b38>"
      ]
     },
     "execution_count": 39,
     "metadata": {},
     "output_type": "execute_result"
    },
    {
     "data": {
      "image/png": "[encoded data removed]",
      "text/plain": [
       "<matplotlib.figure.Figure at 0x1a32d0cf748>"
      ]
     },
     "metadata": {},
     "output_type": "display_data"
    }
   ],
   "source": [
    "sns.set(color_codes=True)\n",
    "sns.distplot(dataset[\"trip_distance\"])"
   ]
  },
  {
   "cell_type": "code",
   "execution_count": null,
   "metadata": {},
   "outputs": [],
   "source": [
    "#dataset.hist(column=\"trip_distance\",bins=12)"
   ]
  },
  {
   "cell_type": "code",
   "execution_count": 46,
   "metadata": {},
   "outputs": [
    {
     "data": {
      "text/plain": [
       "array([0, 1, 2, 3, 7], dtype=int64)"
      ]
     },
     "execution_count": 46,
     "metadata": {},
     "output_type": "execute_result"
    }
   ],
   "source": [
    "custom_bucket_array = [-0.0754, 9.425,18.85, 28.275, 37.7, 47.125,56.55, 65.975,75.4]\n",
    "#dataset[\"trip_distance\"] = pd.cut(dataset[\"trip_distance\"], 8)\n",
    "dataset[\"trip_distance\"] = pd.DataFrame(pd.cut(dataset[\"trip_distance\"], bins = 8,labels = [0,1,2,3,4,5,6,7]))\n",
    "dataset[\"trip_distance\"].unique()"
   ]
  },
  {
   "cell_type": "code",
   "execution_count": 48,
   "metadata": {},
   "outputs": [
    {
     "data": {
      "text/plain": [
       "0    10368\n",
       "1      661\n",
       "2      102\n",
       "3        3\n",
       "7        1\n",
       "Name: trip_distance, dtype: int64"
      ]
     },
     "execution_count": 48,
     "metadata": {},
     "output_type": "execute_result"
    }
   ],
   "source": [
    "dataset[\"trip_distance\"].value_counts()"
   ]
  },
  {
   "cell_type": "code",
   "execution_count": 47,
   "metadata": {},
   "outputs": [
    {
     "data": {
      "image/png": "[encoded data removed]",
      "text/plain": [
       "<matplotlib.figure.Figure at 0x1a394250d68>"
      ]
     },
     "metadata": {},
     "output_type": "display_data"
    }
   ],
   "source": [
    "import seaborn as sns\n",
    "import matplotlib.pyplot as plt\n",
    "fig = plt.figure(figsize = (10,6))\n",
    "sns.set_style(\"whitegrid\")\n",
    "ax = sns.boxplot(x=\"trip_distance\", y=\"total_amount\", data=dataset)"
   ]
  },
  {
   "cell_type": "markdown",
   "metadata": {},
   "source": [
    "### RatecodeID"
   ]
  },
  {
   "cell_type": "markdown",
   "metadata": {},
   "source": [
    "The final rate code in effect at the end of the trip.\n",
    "1. Standard rate\n",
    "2. JFK\n",
    "3. Newark\n",
    "4. Nassau or Westchester\n",
    "5. Negotiated fare\n",
    "6. Group ride"
   ]
  },
  {
   "cell_type": "code",
   "execution_count": 50,
   "metadata": {},
   "outputs": [
    {
     "data": {
      "text/plain": [
       "1    10819\n",
       "2      262\n",
       "5       31\n",
       "3       16\n",
       "4        7\n",
       "Name: RatecodeID, dtype: int64"
      ]
     },
     "execution_count": 50,
     "metadata": {},
     "output_type": "execute_result"
    }
   ],
   "source": [
    "dataset[\"RatecodeID\"].value_counts()"
   ]
  },
  {
   "cell_type": "code",
   "execution_count": 49,
   "metadata": {},
   "outputs": [
    {
     "data": {
      "image/png": "[encoded data removed]",
      "text/plain": [
       "<matplotlib.figure.Figure at 0x1a39418feb8>"
      ]
     },
     "metadata": {},
     "output_type": "display_data"
    }
   ],
   "source": [
    "import seaborn as sns\n",
    "import matplotlib.pyplot as plt\n",
    "fig = plt.figure(figsize = (10,6))\n",
    "sns.set_style(\"whitegrid\")\n",
    "ax = sns.boxplot(x=\"RatecodeID\", y=\"total_amount\", data=dataset)"
   ]
  },
  {
   "cell_type": "markdown",
   "metadata": {},
   "source": [
    "### Payment Type"
   ]
  },
  {
   "cell_type": "markdown",
   "metadata": {},
   "source": [
    "A numeric code signifying how the passenger paid for the trip.\n",
    "1. Credit card\n",
    "2. Cash\n",
    "3. No charge\n",
    "4. Dispute\n",
    "5. Unknown\n",
    "6. Voided trip"
   ]
  },
  {
   "cell_type": "code",
   "execution_count": 51,
   "metadata": {},
   "outputs": [
    {
     "data": {
      "text/plain": [
       "1    7374\n",
       "2    3696\n",
       "3      47\n",
       "4      18\n",
       "Name: payment_type, dtype: int64"
      ]
     },
     "execution_count": 51,
     "metadata": {},
     "output_type": "execute_result"
    }
   ],
   "source": [
    "dataset[\"payment_type\"].value_counts()"
   ]
  },
  {
   "cell_type": "code",
   "execution_count": 52,
   "metadata": {},
   "outputs": [
    {
     "data": {
      "image/png": "[encoded data removed]",
      "text/plain": [
       "<matplotlib.figure.Figure at 0x1a3943f6160>"
      ]
     },
     "metadata": {},
     "output_type": "display_data"
    }
   ],
   "source": [
    "import seaborn as sns\n",
    "import matplotlib.pyplot as plt\n",
    "fig = plt.figure(figsize = (10,6))\n",
    "sns.set_style(\"whitegrid\")\n",
    "ax = sns.boxplot(x=\"payment_type\", y=\"total_amount\", data=dataset)"
   ]
  },
  {
   "cell_type": "markdown",
   "metadata": {},
   "source": [
    "### Fare amount "
   ]
  },
  {
   "cell_type": "markdown",
   "metadata": {},
   "source": [
    "The time-and-distance fare calculated by the meter."
   ]
  },
  {
   "cell_type": "code",
   "execution_count": 54,
   "metadata": {},
   "outputs": [
    {
     "data": {
      "text/plain": [
       "count    11135.000000\n",
       "mean        13.351907\n",
       "std         11.521606\n",
       "min          0.000000\n",
       "25%          6.500000\n",
       "50%         10.000000\n",
       "75%         15.000000\n",
       "max        300.000000\n",
       "Name: fare_amount, dtype: float64"
      ]
     },
     "execution_count": 54,
     "metadata": {},
     "output_type": "execute_result"
    }
   ],
   "source": [
    "dataset[\"fare_amount\"].describe()"
   ]
  },
  {
   "cell_type": "code",
   "execution_count": 55,
   "metadata": {},
   "outputs": [
    {
     "data": {
      "text/plain": [
       "<matplotlib.axes._subplots.AxesSubplot at 0x1a3938b5da0>"
      ]
     },
     "execution_count": 55,
     "metadata": {},
     "output_type": "execute_result"
    },
    {
     "data": {
      "image/png": "[encoded data removed]",
      "text/plain": [
       "<matplotlib.figure.Figure at 0x1a3941dbac8>"
      ]
     },
     "metadata": {},
     "output_type": "display_data"
    }
   ],
   "source": [
    "import seaborn as sns\n",
    "import matplotlib.pyplot as plt\n",
    "sns.set(color_codes=True)\n",
    "sns.distplot(dataset[\"fare_amount\"])"
   ]
  },
  {
   "cell_type": "code",
   "execution_count": 56,
   "metadata": {},
   "outputs": [
    {
     "data": {
      "image/png": "[encoded data removed]",
      "text/plain": [
       "<matplotlib.figure.Figure at 0x1a3938c6080>"
      ]
     },
     "metadata": {},
     "output_type": "display_data"
    }
   ],
   "source": [
    "gridA = sns.JointGrid(x=\"fare_amount\", y=\"total_amount\", data=dataset, size=6)\n",
    "#Draws a regression plot in the grid \n",
    "gridA = gridA.plot_joint(sns.regplot, scatter_kws={\"s\": 10})\n",
    "#Draws a distribution plot in the same grid\n",
    "gridA = gridA.plot_marginals(sns.distplot)"
   ]
  },
  {
   "cell_type": "code",
   "execution_count": 10,
   "metadata": {},
   "outputs": [
    {
     "data": {
      "image/png": "[encoded data removed]",
      "text/plain": [
       "<matplotlib.figure.Figure at 0x1c88e549550>"
      ]
     },
     "metadata": {},
     "output_type": "display_data"
    }
   ],
   "source": [
    "dataset[\"fare_amount\"] = pd.DataFrame(pd.cut(dataset[\"fare_amount\"], bins = 32,labels = [0,1,2,3,4,5,6,7,8,9,10,11,12,13,14,15,16,17,18,19,20,21,22,23,24,25,26,27,28,29,30,31]))\n",
    "import seaborn as sns\n",
    "import matplotlib.pyplot as plt\n",
    "fig = plt.figure(figsize = (10,6))\n",
    "sns.set_style(\"whitegrid\")\n",
    "ax = sns.boxplot(x=\"fare_amount\", y=\"total_amount\",data = dataset)"
   ]
  },
  {
   "cell_type": "markdown",
   "metadata": {},
   "source": [
    "### Extra"
   ]
  },
  {
   "cell_type": "markdown",
   "metadata": {},
   "source": [
    "Miscellaneous extras and surcharges. Currently, this only includes the $0.50 and $1 rush hour and overnight charges."
   ]
  },
  {
   "cell_type": "code",
   "execution_count": 18,
   "metadata": {},
   "outputs": [
    {
     "data": {
      "text/plain": [
       "count    11135.000000\n",
       "mean         0.344993\n",
       "std          0.460537\n",
       "min          0.000000\n",
       "25%          0.000000\n",
       "50%          0.000000\n",
       "75%          0.500000\n",
       "max          4.500000\n",
       "Name: extra, dtype: float64"
      ]
     },
     "execution_count": 18,
     "metadata": {},
     "output_type": "execute_result"
    }
   ],
   "source": [
    "dataset[\"extra\"].describe()"
   ]
  },
  {
   "cell_type": "code",
   "execution_count": 21,
   "metadata": {},
   "outputs": [
    {
     "data": {
      "text/plain": [
       "0.0    5584\n",
       "0.5    3769\n",
       "1.0    1732\n",
       "4.5      50\n",
       "Name: extra, dtype: int64"
      ]
     },
     "execution_count": 21,
     "metadata": {},
     "output_type": "execute_result"
    }
   ],
   "source": [
    "dataset[\"extra\"].value_counts()"
   ]
  },
  {
   "cell_type": "code",
   "execution_count": 19,
   "metadata": {},
   "outputs": [
    {
     "data": {
      "text/plain": [
       "<matplotlib.axes._subplots.AxesSubplot at 0x231987c6240>"
      ]
     },
     "execution_count": 19,
     "metadata": {},
     "output_type": "execute_result"
    },
    {
     "data": {
      "image/png": "[encoded data removed]",
      "text/plain": [
       "<matplotlib.figure.Figure at 0x23198793320>"
      ]
     },
     "metadata": {},
     "output_type": "display_data"
    }
   ],
   "source": [
    "sns.set(color_codes=True)\n",
    "sns.distplot(dataset[\"extra\"])"
   ]
  },
  {
   "cell_type": "code",
   "execution_count": 22,
   "metadata": {},
   "outputs": [
    {
     "data": {
      "image/png": "[encoded data removed]",
      "text/plain": [
       "<matplotlib.figure.Figure at 0x231987abd68>"
      ]
     },
     "metadata": {},
     "output_type": "display_data"
    }
   ],
   "source": [
    "fig = plt.figure(figsize = (10,6))\n",
    "sns.set_style(\"whitegrid\")\n",
    "ax = sns.boxplot(x=\"extra\", y=\"total_amount\", data=dataset)"
   ]
  },
  {
   "cell_type": "markdown",
   "metadata": {},
   "source": [
    "### mta_tax"
   ]
  },
  {
   "cell_type": "markdown",
   "metadata": {},
   "source": [
    "$0.50 MTA tax that is automatically triggered based on the metered rate in use."
   ]
  },
  {
   "cell_type": "code",
   "execution_count": 11,
   "metadata": {},
   "outputs": [
    {
     "data": {
      "text/plain": [
       " 0.50    1107956\n",
       " 0.00       5100\n",
       "-0.50        485\n",
       " 0.25          5\n",
       " 1.00          1\n",
       "Name: mta_tax, dtype: int64"
      ]
     },
     "execution_count": 11,
     "metadata": {},
     "output_type": "execute_result"
    }
   ],
   "source": [
    "dataset[\"mta_tax\"].value_counts()"
   ]
  },
  {
   "cell_type": "code",
   "execution_count": 12,
   "metadata": {},
   "outputs": [
    {
     "data": {
      "image/png": "[encoded data removed]",
      "text/plain": [
       "<matplotlib.figure.Figure at 0x1c88e4e89e8>"
      ]
     },
     "metadata": {},
     "output_type": "display_data"
    }
   ],
   "source": [
    "fig = plt.figure(figsize = (10,6))\n",
    "sns.set_style(\"whitegrid\")\n",
    "ax = sns.boxplot(x=\"mta_tax\", y=\"total_amount\", data=dataset)"
   ]
  },
  {
   "cell_type": "markdown",
   "metadata": {},
   "source": [
    "### tip_amount"
   ]
  },
  {
   "cell_type": "markdown",
   "metadata": {},
   "source": [
    "Tip amount – This field is automatically populated for credit card tips. Cash tips are not included."
   ]
  },
  {
   "cell_type": "code",
   "execution_count": 28,
   "metadata": {},
   "outputs": [
    {
     "data": {
      "text/plain": [
       "count    11135.000000\n",
       "mean         1.876583\n",
       "std          3.080116\n",
       "min          0.000000\n",
       "25%          0.000000\n",
       "50%          1.350000\n",
       "75%          2.460000\n",
       "max        160.000000\n",
       "Name: tip_amount, dtype: float64"
      ]
     },
     "execution_count": 28,
     "metadata": {},
     "output_type": "execute_result"
    }
   ],
   "source": [
    "dataset[\"tip_amount\"].describe()"
   ]
  },
  {
   "cell_type": "code",
   "execution_count": 29,
   "metadata": {},
   "outputs": [
    {
     "data": {
      "text/plain": [
       "<matplotlib.axes._subplots.AxesSubplot at 0x23199c22470>"
      ]
     },
     "execution_count": 29,
     "metadata": {},
     "output_type": "execute_result"
    },
    {
     "data": {
      "image/png": "[encoded data removed]",
      "text/plain": [
       "<matplotlib.figure.Figure at 0x23199bc4f28>"
      ]
     },
     "metadata": {},
     "output_type": "display_data"
    }
   ],
   "source": [
    "sns.set(color_codes=True)\n",
    "sns.distplot(dataset[\"tip_amount\"])"
   ]
  },
  {
   "cell_type": "code",
   "execution_count": 30,
   "metadata": {},
   "outputs": [
    {
     "data": {
      "image/png": "[encoded data removed]",
      "text/plain": [
       "<matplotlib.figure.Figure at 0x23199caeba8>"
      ]
     },
     "metadata": {},
     "output_type": "display_data"
    }
   ],
   "source": [
    "gridA = sns.JointGrid(x=\"tip_amount\", y=\"total_amount\", data=dataset, size=6)\n",
    "#Draws a regression plot in the grid \n",
    "gridA = gridA.plot_joint(sns.regplot, scatter_kws={\"s\": 10})\n",
    "#Draws a distribution plot in the same grid\n",
    "gridA = gridA.plot_marginals(sns.distplot)"
   ]
  },
  {
   "cell_type": "code",
   "execution_count": 13,
   "metadata": {},
   "outputs": [
    {
     "data": {
      "image/png": "[encoded data removed]",
      "text/plain": [
       "<matplotlib.figure.Figure at 0x1c89b316d30>"
      ]
     },
     "metadata": {},
     "output_type": "display_data"
    }
   ],
   "source": [
    "dataset[\"tip_amount\"] = pd.DataFrame(pd.cut(dataset[\"tip_amount\"], bins = 16,labels = [0,1,2,3,4,5,6,7,8,9,10,11,12,13,14,15]))\n",
    "import seaborn as sns\n",
    "import matplotlib.pyplot as plt\n",
    "fig = plt.figure(figsize = (10,6))\n",
    "sns.set_style(\"whitegrid\")\n",
    "ax = sns.boxplot(x=\"tip_amount\", y=\"total_amount\",data = dataset)"
   ]
  },
  {
   "cell_type": "markdown",
   "metadata": {},
   "source": [
    "### tolls_amount"
   ]
  },
  {
   "cell_type": "markdown",
   "metadata": {},
   "source": [
    "Total amount of all tolls paid in trip."
   ]
  },
  {
   "cell_type": "code",
   "execution_count": 32,
   "metadata": {},
   "outputs": [
    {
     "data": {
      "text/plain": [
       "count    11135.000000\n",
       "mean         0.341379\n",
       "std          1.595157\n",
       "min          0.000000\n",
       "25%          0.000000\n",
       "50%          0.000000\n",
       "75%          0.000000\n",
       "max         55.540000\n",
       "Name: tolls_amount, dtype: float64"
      ]
     },
     "execution_count": 32,
     "metadata": {},
     "output_type": "execute_result"
    }
   ],
   "source": [
    "dataset[\"tolls_amount\"].describe()"
   ]
  },
  {
   "cell_type": "code",
   "execution_count": 33,
   "metadata": {},
   "outputs": [
    {
     "data": {
      "text/plain": [
       "<matplotlib.axes._subplots.AxesSubplot at 0x2319a1af3c8>"
      ]
     },
     "execution_count": 33,
     "metadata": {},
     "output_type": "execute_result"
    },
    {
     "data": {
      "image/png": "[encoded data removed]",
      "text/plain": [
       "<matplotlib.figure.Figure at 0x231988ff9e8>"
      ]
     },
     "metadata": {},
     "output_type": "display_data"
    }
   ],
   "source": [
    "sns.set(color_codes=True)\n",
    "sns.distplot(dataset[\"tolls_amount\"])"
   ]
  },
  {
   "cell_type": "code",
   "execution_count": 35,
   "metadata": {},
   "outputs": [
    {
     "data": {
      "image/png": "[encoded data removed]",
      "text/plain": [
       "<matplotlib.figure.Figure at 0x2319a45d7b8>"
      ]
     },
     "metadata": {},
     "output_type": "display_data"
    }
   ],
   "source": [
    "gridA = sns.JointGrid(x=\"tolls_amount\", y=\"total_amount\", data=dataset, size=6)\n",
    "#Draws a regression plot in the grid \n",
    "gridA = gridA.plot_joint(sns.regplot, scatter_kws={\"s\": 10})\n",
    "#Draws a distribution plot in the same grid\n",
    "gridA = gridA.plot_marginals(sns.distplot)"
   ]
  },
  {
   "cell_type": "code",
   "execution_count": 14,
   "metadata": {},
   "outputs": [
    {
     "data": {
      "image/png": "[encoded data removed]",
      "text/plain": [
       "<matplotlib.figure.Figure at 0x1c8c2f3ebe0>"
      ]
     },
     "metadata": {},
     "output_type": "display_data"
    }
   ],
   "source": [
    "dataset[\"tolls_amount\"] = pd.DataFrame(pd.cut(dataset[\"tolls_amount\"], bins = 8,labels = [0,1,2,3,4,5,6,7]))\n",
    "import seaborn as sns\n",
    "import matplotlib.pyplot as plt\n",
    "fig = plt.figure(figsize = (10,6))\n",
    "sns.set_style(\"whitegrid\")\n",
    "ax = sns.boxplot(x=\"tolls_amount\", y=\"total_amount\",data = dataset)"
   ]
  },
  {
   "cell_type": "markdown",
   "metadata": {},
   "source": [
    "### improvement_surcharge"
   ]
  },
  {
   "cell_type": "markdown",
   "metadata": {},
   "source": [
    "$0.30 improvement surcharge assessed trips at the flag drop. The improvement surcharge began being levied in 2015."
   ]
  },
  {
   "cell_type": "code",
   "execution_count": 37,
   "metadata": {},
   "outputs": [
    {
     "data": {
      "text/plain": [
       "count    11135.000000\n",
       "mean         0.299946\n",
       "std          0.004020\n",
       "min          0.000000\n",
       "25%          0.300000\n",
       "50%          0.300000\n",
       "75%          0.300000\n",
       "max          0.300000\n",
       "Name: improvement_surcharge, dtype: float64"
      ]
     },
     "execution_count": 37,
     "metadata": {},
     "output_type": "execute_result"
    }
   ],
   "source": [
    "dataset[\"improvement_surcharge\"].describe()"
   ]
  },
  {
   "cell_type": "code",
   "execution_count": 3,
   "metadata": {},
   "outputs": [
    {
     "data": {
      "text/plain": [
       " 0.30    1112808\n",
       "-0.30        505\n",
       " 0.00        232\n",
       " 0.26          1\n",
       " 0.94          1\n",
       "Name: improvement_surcharge, dtype: int64"
      ]
     },
     "execution_count": 3,
     "metadata": {},
     "output_type": "execute_result"
    }
   ],
   "source": [
    "dataset[\"improvement_surcharge\"].value_counts()"
   ]
  },
  {
   "cell_type": "code",
   "execution_count": 4,
   "metadata": {},
   "outputs": [
    {
     "data": {
      "image/png": "[encoded data removed]",
      "text/plain": [
       "<matplotlib.figure.Figure at 0x2cbea5decf8>"
      ]
     },
     "metadata": {},
     "output_type": "display_data"
    }
   ],
   "source": [
    "fig = plt.figure(figsize = (10,6))\n",
    "sns.set_style(\"whitegrid\")\n",
    "ax = sns.boxplot(x=\"improvement_surcharge\", y=\"total_amount\", data=dataset)"
   ]
  },
  {
   "cell_type": "markdown",
   "metadata": {},
   "source": [
    "### Latiture and Longitude"
   ]
  },
  {
   "cell_type": "code",
   "execution_count": 15,
   "metadata": {},
   "outputs": [
    {
     "data": {
      "text/plain": [
       "<matplotlib.collections.PathCollection at 0x1c8a2d7ae48>"
      ]
     },
     "execution_count": 15,
     "metadata": {},
     "output_type": "execute_result"
    },
    {
     "data": {
      "image/png": "[encoded data removed]",
      "text/plain": [
       "<matplotlib.figure.Figure at 0x1c88e520940>"
      ]
     },
     "metadata": {},
     "output_type": "display_data"
    }
   ],
   "source": [
    "import matplotlib.pyplot as plt\n",
    "plt.scatter(dataset[\"pickup_longitude\"],dataset[\"pickup_latitude\"],c = \"blue\")\n",
    "plt.scatter(dataset[\"dropoff_longitude\"],dataset[\"dropoff_latitude\"],c = \"red\")"
   ]
  },
  {
   "cell_type": "code",
   "execution_count": 3,
   "metadata": {},
   "outputs": [
    {
     "data": {
      "image/png": "[encoded data removed]",
      "text/plain": [
       "<matplotlib.figure.Figure at 0x2255ed36080>"
      ]
     },
     "metadata": {},
     "output_type": "display_data"
    }
   ],
   "source": [
    "dataset[\"pickup_longitude\"] = pd.DataFrame(pd.cut(dataset[\"pickup_longitude\"], bins = 16,labels = [0,1,2,3,4,5,6,7,8,9,10,11,12,13,14,15]))\n",
    "import seaborn as sns\n",
    "import matplotlib.pyplot as palt\n",
    "fig = plt.figure(figsize = (10,6))\n",
    "sns.set_style(\"whitegrid\")\n",
    "ax = sns.boxplot(x=\"pickup_longitude\", y=\"total_amount\",data = dataset)"
   ]
  },
  {
   "cell_type": "markdown",
   "metadata": {},
   "source": [
    "## Correlation"
   ]
  },
  {
   "cell_type": "code",
   "execution_count": 459,
   "metadata": {},
   "outputs": [
    {
     "data": {
      "image/png": "[encoded data removed]",
      "text/plain": [
       "<matplotlib.figure.Figure at 0x1b19a8d8550>"
      ]
     },
     "metadata": {},
     "output_type": "display_data"
    }
   ],
   "source": [
    "#Correlation of features\n",
    "corr_features = dataset\n",
    "#corr_features = corr_features.drop(\"pickup_latitude\",axis = 1)\n",
    "#corr_features = corr_features.drop(\"pickup_longitude\",axis = 1)\n",
    "#corr_features = corr_features.drop(\"dropoff_latitude\",axis = 1)\n",
    "#corr_features = corr_features.drop(\"dropoff_longitude\",axis = 1)\n",
    "cmat = corr_features.corr()\n",
    "f, ax = plt.subplots(figsize=(14,12))\n",
    "sns.heatmap(cmat,square=True,annot=True,linewidths=0, vmin=-1,cmap=\"RdBu_r\")\n",
    "f.tight_layout()\n",
    "#plt.savefig(\"corr.png\")\n",
    "plt.show()"
   ]
  },
  {
   "cell_type": "markdown",
   "metadata": {},
   "source": [
    "## Feature Engineering"
   ]
  },
  {
   "cell_type": "markdown",
   "metadata": {},
   "source": [
    "### Time travelled - Pickup and Dropoff time(Minutes)"
   ]
  },
  {
   "cell_type": "code",
   "execution_count": 6,
   "metadata": {},
   "outputs": [],
   "source": [
    "dataset[\"tpep_pickup_datetime\"] = pd.to_datetime(dataset.tpep_pickup_datetime)\n",
    "dataset[\"tpep_dropoff_datetime\"] = pd.to_datetime(dataset.tpep_dropoff_datetime)\n",
    "test_dataset[\"tpep_pickup_datetime\"] = pd.to_datetime(test_dataset.tpep_pickup_datetime)\n",
    "test_dataset[\"tpep_dropoff_datetime\"] = pd.to_datetime(test_dataset.tpep_dropoff_datetime)"
   ]
  },
  {
   "cell_type": "code",
   "execution_count": 7,
   "metadata": {},
   "outputs": [],
   "source": [
    "#dataset[\"Travelling Time\"] = (dataset.tpep_dropoff_datetime - dataset.tpep_pickup_datetime)\n",
    "delta_hours = dataset[\"tpep_dropoff_datetime\"].dt.hour - dataset[\"tpep_pickup_datetime\"].dt.hour\n",
    "delta_minutes = dataset[\"tpep_dropoff_datetime\"].dt.minute - dataset[\"tpep_pickup_datetime\"].dt.minute\n",
    "\n",
    "delta_hours_test = test_dataset[\"tpep_dropoff_datetime\"].dt.hour - test_dataset[\"tpep_pickup_datetime\"].dt.hour\n",
    "delta_minutes_test = test_dataset[\"tpep_dropoff_datetime\"].dt.minute - test_dataset[\"tpep_pickup_datetime\"].dt.minute"
   ]
  },
  {
   "cell_type": "code",
   "execution_count": 8,
   "metadata": {},
   "outputs": [],
   "source": [
    "delta_minutes = delta_minutes.abs()\n",
    "delta_minutes_test = delta_minutes_test.abs()"
   ]
  },
  {
   "cell_type": "code",
   "execution_count": 9,
   "metadata": {},
   "outputs": [],
   "source": [
    "delta_hours = delta_hours.abs()\n",
    "delta_hours_test = delta_hours_test.abs()"
   ]
  },
  {
   "cell_type": "code",
   "execution_count": 14,
   "metadata": {},
   "outputs": [],
   "source": [
    "time_travelled = delta_hours*60 + delta_minutes\n",
    "test_time_travelled = delta_hours_test*60 + delta_minutes_test"
   ]
  },
  {
   "cell_type": "code",
   "execution_count": 15,
   "metadata": {},
   "outputs": [],
   "source": [
    "dataset[\"Time Travelled\"] =  time_travelled.abs()\n",
    "test_dataset[\"Time Travelled\"] =  test_time_travelled.abs()"
   ]
  },
  {
   "cell_type": "code",
   "execution_count": null,
   "metadata": {},
   "outputs": [],
   "source": [
    "sns.distplot(delta_hours)"
   ]
  },
  {
   "cell_type": "code",
   "execution_count": 161,
   "metadata": {},
   "outputs": [
    {
     "data": {
      "text/plain": [
       "<matplotlib.axes._subplots.AxesSubplot at 0x2277aff6c18>"
      ]
     },
     "execution_count": 161,
     "metadata": {},
     "output_type": "execute_result"
    },
    {
     "data": {
      "image/png": "[encoded data removed]",
      "text/plain": [
       "<matplotlib.figure.Figure at 0x2277afe9828>"
      ]
     },
     "metadata": {},
     "output_type": "display_data"
    }
   ],
   "source": [
    "sns.distplot(delta_minutes)"
   ]
  },
  {
   "cell_type": "code",
   "execution_count": 11,
   "metadata": {},
   "outputs": [
    {
     "data": {
      "text/plain": [
       "<matplotlib.axes._subplots.AxesSubplot at 0x2cbe6e48c50>"
      ]
     },
     "execution_count": 11,
     "metadata": {},
     "output_type": "execute_result"
    },
    {
     "data": {
      "image/png": "[encoded data removed]",
      "text/plain": [
       "<matplotlib.figure.Figure at 0x2cb81e99b38>"
      ]
     },
     "metadata": {},
     "output_type": "display_data"
    }
   ],
   "source": [
    "sns.distplot(time_travelled)"
   ]
  },
  {
   "cell_type": "code",
   "execution_count": null,
   "metadata": {},
   "outputs": [],
   "source": [
    "gridA = sns.JointGrid(x=\"Time Travelled\", y=\"total_amount\", data=dataset, size=6)\n",
    "#Draws a regression plot in the grid \n",
    "gridA = gridA.plot_joint(sns.regplot, scatter_kws={\"s\": 10})\n",
    "#Draws a distribution plot in the same grid\n",
    "gridA = gridA.plot_marginals(sns.distplot)"
   ]
  },
  {
   "cell_type": "code",
   "execution_count": null,
   "metadata": {},
   "outputs": [],
   "source": [
    "dataset[\"Time Travelled\"] = pd.DataFrame(pd.cut(dataset[\"Time Travelled\"], bins = 8,labels = [0,1,2,3,4,5,6,7]))\n",
    "import seaborn as sns\n",
    "import matplotlib.pyplot as palt\n",
    "fig = plt.figure(figsize = (10,6))\n",
    "sns.set_style(\"whitegrid\")\n",
    "ax = sns.boxplot(x=\"Time Travelled\", y=\"total_amount\",data = dataset)"
   ]
  },
  {
   "cell_type": "markdown",
   "metadata": {},
   "source": [
    "### PickUp time Feature"
   ]
  },
  {
   "cell_type": "code",
   "execution_count": 28,
   "metadata": {},
   "outputs": [
    {
     "ename": "AttributeError",
     "evalue": "Can only use .dt accessor with datetimelike values",
     "output_type": "error",
     "traceback": [
      "\u001b[1;31m---------------------------------------------------------------------------\u001b[0m",
      "\u001b[1;31mTypeError\u001b[0m                                 Traceback (most recent call last)",
      "\u001b[1;32m~\\Anaconda3\\lib\\site-packages\\pandas\\core\\indexes\\accessors.py\u001b[0m in \u001b[0;36m_make_accessor\u001b[1;34m(cls, data)\u001b[0m\n\u001b[0;32m    255\u001b[0m         \u001b[1;32mtry\u001b[0m\u001b[1;33m:\u001b[0m\u001b[1;33m\u001b[0m\u001b[0m\n\u001b[1;32m--> 256\u001b[1;33m             \u001b[1;32mreturn\u001b[0m \u001b[0mmaybe_to_datetimelike\u001b[0m\u001b[1;33m(\u001b[0m\u001b[0mdata\u001b[0m\u001b[1;33m)\u001b[0m\u001b[1;33m\u001b[0m\u001b[0m\n\u001b[0m\u001b[0;32m    257\u001b[0m         \u001b[1;32mexcept\u001b[0m \u001b[0mException\u001b[0m\u001b[1;33m:\u001b[0m\u001b[1;33m\u001b[0m\u001b[0m\n",
      "\u001b[1;32m~\\Anaconda3\\lib\\site-packages\\pandas\\core\\indexes\\accessors.py\u001b[0m in \u001b[0;36mmaybe_to_datetimelike\u001b[1;34m(data, copy)\u001b[0m\n\u001b[0;32m     81\u001b[0m     raise TypeError(\"cannot convert an object of type {0} to a \"\n\u001b[1;32m---> 82\u001b[1;33m                     \"datetimelike index\".format(type(data)))\n\u001b[0m\u001b[0;32m     83\u001b[0m \u001b[1;33m\u001b[0m\u001b[0m\n",
      "\u001b[1;31mTypeError\u001b[0m: cannot convert an object of type <class 'pandas.core.series.Series'> to a datetimelike index",
      "\nDuring handling of the above exception, another exception occurred:\n",
      "\u001b[1;31mAttributeError\u001b[0m                            Traceback (most recent call last)",
      "\u001b[1;32m<ipython-input-28-4ab2811cbcd3>\u001b[0m in \u001b[0;36m<module>\u001b[1;34m()\u001b[0m\n\u001b[0;32m      1\u001b[0m \u001b[1;31m#dataset[\"Travelling Time\"] = (dataset.tpep_dropoff_datetime - dataset.tpep_pickup_datetime)\u001b[0m\u001b[1;33m\u001b[0m\u001b[1;33m\u001b[0m\u001b[0m\n\u001b[1;32m----> 2\u001b[1;33m \u001b[0mhours\u001b[0m \u001b[1;33m=\u001b[0m \u001b[0mdataset\u001b[0m\u001b[1;33m[\u001b[0m\u001b[1;34m\"tpep_pickup_datetime\"\u001b[0m\u001b[1;33m]\u001b[0m\u001b[1;33m.\u001b[0m\u001b[0mdt\u001b[0m\u001b[1;33m.\u001b[0m\u001b[0mhour\u001b[0m\u001b[1;33m\u001b[0m\u001b[0m\n\u001b[0m\u001b[0;32m      3\u001b[0m \u001b[0mminutes\u001b[0m \u001b[1;33m=\u001b[0m \u001b[0mdataset\u001b[0m\u001b[1;33m[\u001b[0m\u001b[1;34m\"tpep_pickup_datetime\"\u001b[0m\u001b[1;33m]\u001b[0m\u001b[1;33m.\u001b[0m\u001b[0mdt\u001b[0m\u001b[1;33m.\u001b[0m\u001b[0mminute\u001b[0m\u001b[1;33m\u001b[0m\u001b[0m\n\u001b[0;32m      4\u001b[0m \u001b[0mhours_test\u001b[0m \u001b[1;33m=\u001b[0m \u001b[0mtest_dataset\u001b[0m\u001b[1;33m[\u001b[0m\u001b[1;34m\"tpep_pickup_datetime\"\u001b[0m\u001b[1;33m]\u001b[0m\u001b[1;33m.\u001b[0m\u001b[0mdt\u001b[0m\u001b[1;33m.\u001b[0m\u001b[0mhour\u001b[0m\u001b[1;33m\u001b[0m\u001b[0m\n\u001b[0;32m      5\u001b[0m \u001b[0mminutes_test\u001b[0m \u001b[1;33m=\u001b[0m \u001b[0mtest_dataset\u001b[0m\u001b[1;33m[\u001b[0m\u001b[1;34m\"tpep_pickup_datetime\"\u001b[0m\u001b[1;33m]\u001b[0m\u001b[1;33m.\u001b[0m\u001b[0mdt\u001b[0m\u001b[1;33m.\u001b[0m\u001b[0mminute\u001b[0m\u001b[1;33m\u001b[0m\u001b[0m\n",
      "\u001b[1;32m~\\Anaconda3\\lib\\site-packages\\pandas\\core\\generic.py\u001b[0m in \u001b[0;36m__getattr__\u001b[1;34m(self, name)\u001b[0m\n\u001b[0;32m   3608\u001b[0m         if (name in self._internal_names_set or name in self._metadata or\n\u001b[0;32m   3609\u001b[0m                 name in self._accessors):\n\u001b[1;32m-> 3610\u001b[1;33m             \u001b[1;32mreturn\u001b[0m \u001b[0mobject\u001b[0m\u001b[1;33m.\u001b[0m\u001b[0m__getattribute__\u001b[0m\u001b[1;33m(\u001b[0m\u001b[0mself\u001b[0m\u001b[1;33m,\u001b[0m \u001b[0mname\u001b[0m\u001b[1;33m)\u001b[0m\u001b[1;33m\u001b[0m\u001b[0m\n\u001b[0m\u001b[0;32m   3611\u001b[0m         \u001b[1;32melse\u001b[0m\u001b[1;33m:\u001b[0m\u001b[1;33m\u001b[0m\u001b[0m\n\u001b[0;32m   3612\u001b[0m             \u001b[1;32mif\u001b[0m \u001b[0mname\u001b[0m \u001b[1;32min\u001b[0m \u001b[0mself\u001b[0m\u001b[1;33m.\u001b[0m\u001b[0m_info_axis\u001b[0m\u001b[1;33m:\u001b[0m\u001b[1;33m\u001b[0m\u001b[0m\n",
      "\u001b[1;32m~\\Anaconda3\\lib\\site-packages\\pandas\\core\\accessor.py\u001b[0m in \u001b[0;36m__get__\u001b[1;34m(self, instance, owner)\u001b[0m\n\u001b[0;32m     52\u001b[0m             \u001b[1;31m# this ensures that Series.str.<method> is well defined\u001b[0m\u001b[1;33m\u001b[0m\u001b[1;33m\u001b[0m\u001b[0m\n\u001b[0;32m     53\u001b[0m             \u001b[1;32mreturn\u001b[0m \u001b[0mself\u001b[0m\u001b[1;33m.\u001b[0m\u001b[0maccessor_cls\u001b[0m\u001b[1;33m\u001b[0m\u001b[0m\n\u001b[1;32m---> 54\u001b[1;33m         \u001b[1;32mreturn\u001b[0m \u001b[0mself\u001b[0m\u001b[1;33m.\u001b[0m\u001b[0mconstruct_accessor\u001b[0m\u001b[1;33m(\u001b[0m\u001b[0minstance\u001b[0m\u001b[1;33m)\u001b[0m\u001b[1;33m\u001b[0m\u001b[0m\n\u001b[0m\u001b[0;32m     55\u001b[0m \u001b[1;33m\u001b[0m\u001b[0m\n\u001b[0;32m     56\u001b[0m     \u001b[1;32mdef\u001b[0m \u001b[0m__set__\u001b[0m\u001b[1;33m(\u001b[0m\u001b[0mself\u001b[0m\u001b[1;33m,\u001b[0m \u001b[0minstance\u001b[0m\u001b[1;33m,\u001b[0m \u001b[0mvalue\u001b[0m\u001b[1;33m)\u001b[0m\u001b[1;33m:\u001b[0m\u001b[1;33m\u001b[0m\u001b[0m\n",
      "\u001b[1;32m~\\Anaconda3\\lib\\site-packages\\pandas\\core\\indexes\\accessors.py\u001b[0m in \u001b[0;36m_make_accessor\u001b[1;34m(cls, data)\u001b[0m\n\u001b[0;32m    256\u001b[0m             \u001b[1;32mreturn\u001b[0m \u001b[0mmaybe_to_datetimelike\u001b[0m\u001b[1;33m(\u001b[0m\u001b[0mdata\u001b[0m\u001b[1;33m)\u001b[0m\u001b[1;33m\u001b[0m\u001b[0m\n\u001b[0;32m    257\u001b[0m         \u001b[1;32mexcept\u001b[0m \u001b[0mException\u001b[0m\u001b[1;33m:\u001b[0m\u001b[1;33m\u001b[0m\u001b[0m\n\u001b[1;32m--> 258\u001b[1;33m             raise AttributeError(\"Can only use .dt accessor with \"\n\u001b[0m\u001b[0;32m    259\u001b[0m                                  \"datetimelike values\")\n",
      "\u001b[1;31mAttributeError\u001b[0m: Can only use .dt accessor with datetimelike values"
     ]
    }
   ],
   "source": [
    "#dataset[\"Travelling Time\"] = (dataset.tpep_dropoff_datetime - dataset.tpep_pickup_datetime)\n",
    "hours = dataset[\"tpep_pickup_datetime\"].dt.hour\n",
    "minutes = dataset[\"tpep_pickup_datetime\"].dt.minute\n",
    "hours_test = test_dataset[\"tpep_pickup_datetime\"].dt.hour\n",
    "minutes_test = test_dataset[\"tpep_pickup_datetime\"].dt.minute"
   ]
  },
  {
   "cell_type": "code",
   "execution_count": 29,
   "metadata": {},
   "outputs": [
    {
     "ename": "NameError",
     "evalue": "name 'minutes' is not defined",
     "output_type": "error",
     "traceback": [
      "\u001b[1;31m---------------------------------------------------------------------------\u001b[0m",
      "\u001b[1;31mNameError\u001b[0m                                 Traceback (most recent call last)",
      "\u001b[1;32m<ipython-input-29-5d0c81896e60>\u001b[0m in \u001b[0;36m<module>\u001b[1;34m()\u001b[0m\n\u001b[1;32m----> 1\u001b[1;33m \u001b[0mminutes\u001b[0m \u001b[1;33m=\u001b[0m \u001b[0mminutes\u001b[0m\u001b[1;33m.\u001b[0m\u001b[0mabs\u001b[0m\u001b[1;33m(\u001b[0m\u001b[1;33m)\u001b[0m\u001b[1;33m\u001b[0m\u001b[0m\n\u001b[0m\u001b[0;32m      2\u001b[0m \u001b[0mhours\u001b[0m \u001b[1;33m=\u001b[0m \u001b[0mhours\u001b[0m\u001b[1;33m.\u001b[0m\u001b[0mabs\u001b[0m\u001b[1;33m(\u001b[0m\u001b[1;33m)\u001b[0m\u001b[1;33m\u001b[0m\u001b[0m\n\u001b[0;32m      3\u001b[0m \u001b[0mminutes_test\u001b[0m \u001b[1;33m=\u001b[0m \u001b[0mminutes_test\u001b[0m\u001b[1;33m.\u001b[0m\u001b[0mabs\u001b[0m\u001b[1;33m(\u001b[0m\u001b[1;33m)\u001b[0m\u001b[1;33m\u001b[0m\u001b[0m\n\u001b[0;32m      4\u001b[0m \u001b[0mhours_test\u001b[0m \u001b[1;33m=\u001b[0m \u001b[0mhours_test\u001b[0m\u001b[1;33m.\u001b[0m\u001b[0mabs\u001b[0m\u001b[1;33m(\u001b[0m\u001b[1;33m)\u001b[0m\u001b[1;33m\u001b[0m\u001b[0m\n",
      "\u001b[1;31mNameError\u001b[0m: name 'minutes' is not defined"
     ]
    }
   ],
   "source": [
    "minutes = minutes.abs()\n",
    "hours = hours.abs()\n",
    "minutes_test = minutes_test.abs()\n",
    "hours_test = hours_test.abs()"
   ]
  },
  {
   "cell_type": "code",
   "execution_count": 411,
   "metadata": {},
   "outputs": [
    {
     "data": {
      "text/plain": [
       "count    1.113547e+06\n",
       "mean     1.403356e+01\n",
       "std      6.481227e+00\n",
       "min      0.000000e+00\n",
       "25%      9.416667e+00\n",
       "50%      1.461667e+01\n",
       "75%      1.953333e+01\n",
       "max      2.398333e+01\n",
       "Name: tpep_pickup_datetime, dtype: float64"
      ]
     },
     "execution_count": 411,
     "metadata": {},
     "output_type": "execute_result"
    }
   ],
   "source": [
    "pickUpTime = hours + minutes/60\n",
    "pickUpTime.describe()"
   ]
  },
  {
   "cell_type": "code",
   "execution_count": 412,
   "metadata": {},
   "outputs": [
    {
     "data": {
      "text/plain": [
       "count    64000.000000\n",
       "mean        13.902751\n",
       "std          6.339230\n",
       "min          0.000000\n",
       "25%          9.350000\n",
       "50%         14.500000\n",
       "75%         19.200000\n",
       "max         23.983333\n",
       "Name: tpep_pickup_datetime, dtype: float64"
      ]
     },
     "execution_count": 412,
     "metadata": {},
     "output_type": "execute_result"
    }
   ],
   "source": [
    "pickUpTime_test = hours_test + minutes_test/60\n",
    "pickUpTime_test.describe()"
   ]
  },
  {
   "cell_type": "code",
   "execution_count": 413,
   "metadata": {},
   "outputs": [],
   "source": [
    "dataset[\"Pick Up Time\"] =  pickUpTime.abs()\n",
    "test_dataset[\"Pick Up Time\"] =  pickUpTime_test.abs()"
   ]
  },
  {
   "cell_type": "code",
   "execution_count": 22,
   "metadata": {},
   "outputs": [
    {
     "data": {
      "text/plain": [
       "<matplotlib.axes._subplots.AxesSubplot at 0x248d044af98>"
      ]
     },
     "execution_count": 22,
     "metadata": {},
     "output_type": "execute_result"
    },
    {
     "data": {
      "image/png": "[encoded data removed]",
      "text/plain": [
       "<matplotlib.figure.Figure at 0x248d0d77518>"
      ]
     },
     "metadata": {},
     "output_type": "display_data"
    }
   ],
   "source": [
    "sns.distplot(pickUpTime)"
   ]
  },
  {
   "cell_type": "code",
   "execution_count": 110,
   "metadata": {},
   "outputs": [
    {
     "data": {
      "image/png": "[encoded data removed]",
      "text/plain": [
       "<matplotlib.figure.Figure at 0x22779bdcf60>"
      ]
     },
     "metadata": {},
     "output_type": "display_data"
    }
   ],
   "source": [
    "gridA = sns.JointGrid(x=\"Pick Up Time\", y=\"total_amount\", data=dataset, size=6)\n",
    "#Draws a regression plot in the grid \n",
    "gridA = gridA.plot_joint(sns.regplot, scatter_kws={\"s\": 10})\n",
    "#Draws a distribution plot in the same grid\n",
    "gridA = gridA.plot_marginals(sns.distplot)"
   ]
  },
  {
   "cell_type": "code",
   "execution_count": null,
   "metadata": {},
   "outputs": [],
   "source": [
    "dataset[\"Pick Up Time\"] = pd.DataFrame(pd.cut(dataset[\"Pick Up Time\"], bins = 8,labels = [0,1,2,3,4,5,6,7]))\n",
    "import seaborn as sns\n",
    "import matplotlib.pyplot as palt\n",
    "fig = plt.figure(figsize = (10,6))\n",
    "sns.set_style(\"whitegrid\")\n",
    "ax = sns.boxplot(x=\"Pick Up Time\", y=\"total_amount\",data = dataset)"
   ]
  },
  {
   "cell_type": "markdown",
   "metadata": {},
   "source": [
    "### Velocity Feature"
   ]
  },
  {
   "cell_type": "code",
   "execution_count": 414,
   "metadata": {},
   "outputs": [
    {
     "data": {
      "text/html": [
       "<div>\n",
       "<style scoped>\n",
       "    .dataframe tbody tr th:only-of-type {\n",
       "        vertical-align: middle;\n",
       "    }\n",
       "\n",
       "    .dataframe tbody tr th {\n",
       "        vertical-align: top;\n",
       "    }\n",
       "\n",
       "    .dataframe thead th {\n",
       "        text-align: right;\n",
       "    }\n",
       "</style>\n",
       "<table border=\"1\" class=\"dataframe\">\n",
       "  <thead>\n",
       "    <tr style=\"text-align: right;\">\n",
       "      <th></th>\n",
       "      <th>Unnamed: 0</th>\n",
       "      <th>VendorID</th>\n",
       "      <th>tpep_pickup_datetime</th>\n",
       "      <th>tpep_dropoff_datetime</th>\n",
       "      <th>passenger_count</th>\n",
       "      <th>trip_distance</th>\n",
       "      <th>pickup_longitude</th>\n",
       "      <th>pickup_latitude</th>\n",
       "      <th>RatecodeID</th>\n",
       "      <th>store_and_fwd_flag</th>\n",
       "      <th>...</th>\n",
       "      <th>payment_type</th>\n",
       "      <th>fare_amount</th>\n",
       "      <th>extra</th>\n",
       "      <th>mta_tax</th>\n",
       "      <th>tip_amount</th>\n",
       "      <th>tolls_amount</th>\n",
       "      <th>improvement_surcharge</th>\n",
       "      <th>total_amount</th>\n",
       "      <th>Time Travelled</th>\n",
       "      <th>Pick Up Time</th>\n",
       "    </tr>\n",
       "  </thead>\n",
       "  <tbody>\n",
       "    <tr>\n",
       "      <th>945</th>\n",
       "      <td>7989825</td>\n",
       "      <td>1</td>\n",
       "      <td>2016-06-24 05:29:56</td>\n",
       "      <td>2016-06-24 05:29:56</td>\n",
       "      <td>1</td>\n",
       "      <td>0.0</td>\n",
       "      <td>-73.965874</td>\n",
       "      <td>40.758621</td>\n",
       "      <td>1</td>\n",
       "      <td>N</td>\n",
       "      <td>...</td>\n",
       "      <td>2</td>\n",
       "      <td>4.5</td>\n",
       "      <td>0.5</td>\n",
       "      <td>0.5</td>\n",
       "      <td>0.0</td>\n",
       "      <td>0.0</td>\n",
       "      <td>0.3</td>\n",
       "      <td>5.8</td>\n",
       "      <td>0</td>\n",
       "      <td>5.483333</td>\n",
       "    </tr>\n",
       "    <tr>\n",
       "      <th>3380</th>\n",
       "      <td>4202560</td>\n",
       "      <td>1</td>\n",
       "      <td>2016-06-09 14:22:50</td>\n",
       "      <td>2016-06-09 14:22:50</td>\n",
       "      <td>2</td>\n",
       "      <td>0.0</td>\n",
       "      <td>-73.984673</td>\n",
       "      <td>40.779682</td>\n",
       "      <td>1</td>\n",
       "      <td>N</td>\n",
       "      <td>...</td>\n",
       "      <td>2</td>\n",
       "      <td>2.5</td>\n",
       "      <td>0.0</td>\n",
       "      <td>0.5</td>\n",
       "      <td>0.0</td>\n",
       "      <td>0.0</td>\n",
       "      <td>0.3</td>\n",
       "      <td>3.3</td>\n",
       "      <td>0</td>\n",
       "      <td>14.366667</td>\n",
       "    </tr>\n",
       "    <tr>\n",
       "      <th>5102</th>\n",
       "      <td>5277374</td>\n",
       "      <td>1</td>\n",
       "      <td>2016-06-15 00:35:50</td>\n",
       "      <td>2016-06-15 00:35:50</td>\n",
       "      <td>2</td>\n",
       "      <td>0.0</td>\n",
       "      <td>-73.968567</td>\n",
       "      <td>40.764858</td>\n",
       "      <td>5</td>\n",
       "      <td>N</td>\n",
       "      <td>...</td>\n",
       "      <td>2</td>\n",
       "      <td>300.0</td>\n",
       "      <td>0.0</td>\n",
       "      <td>0.0</td>\n",
       "      <td>0.0</td>\n",
       "      <td>0.0</td>\n",
       "      <td>0.0</td>\n",
       "      <td>300.0</td>\n",
       "      <td>0</td>\n",
       "      <td>0.583333</td>\n",
       "    </tr>\n",
       "    <tr>\n",
       "      <th>5584</th>\n",
       "      <td>2506992</td>\n",
       "      <td>1</td>\n",
       "      <td>2016-06-11 04:07:28</td>\n",
       "      <td>2016-06-11 04:07:28</td>\n",
       "      <td>2</td>\n",
       "      <td>0.0</td>\n",
       "      <td>-73.997200</td>\n",
       "      <td>40.762718</td>\n",
       "      <td>1</td>\n",
       "      <td>N</td>\n",
       "      <td>...</td>\n",
       "      <td>2</td>\n",
       "      <td>17.0</td>\n",
       "      <td>0.5</td>\n",
       "      <td>0.5</td>\n",
       "      <td>0.0</td>\n",
       "      <td>0.0</td>\n",
       "      <td>0.3</td>\n",
       "      <td>18.3</td>\n",
       "      <td>0</td>\n",
       "      <td>4.116667</td>\n",
       "    </tr>\n",
       "    <tr>\n",
       "      <th>5994</th>\n",
       "      <td>4716784</td>\n",
       "      <td>1</td>\n",
       "      <td>2016-06-13 14:10:24</td>\n",
       "      <td>2016-06-13 14:10:24</td>\n",
       "      <td>1</td>\n",
       "      <td>0.0</td>\n",
       "      <td>-73.969887</td>\n",
       "      <td>40.757042</td>\n",
       "      <td>1</td>\n",
       "      <td>N</td>\n",
       "      <td>...</td>\n",
       "      <td>2</td>\n",
       "      <td>3.0</td>\n",
       "      <td>0.0</td>\n",
       "      <td>0.5</td>\n",
       "      <td>0.0</td>\n",
       "      <td>0.0</td>\n",
       "      <td>0.3</td>\n",
       "      <td>3.8</td>\n",
       "      <td>0</td>\n",
       "      <td>14.166667</td>\n",
       "    </tr>\n",
       "  </tbody>\n",
       "</table>\n",
       "<p>5 rows × 22 columns</p>\n",
       "</div>"
      ],
      "text/plain": [
       "      Unnamed: 0  VendorID tpep_pickup_datetime tpep_dropoff_datetime  \\\n",
       "945      7989825         1  2016-06-24 05:29:56   2016-06-24 05:29:56   \n",
       "3380     4202560         1  2016-06-09 14:22:50   2016-06-09 14:22:50   \n",
       "5102     5277374         1  2016-06-15 00:35:50   2016-06-15 00:35:50   \n",
       "5584     2506992         1  2016-06-11 04:07:28   2016-06-11 04:07:28   \n",
       "5994     4716784         1  2016-06-13 14:10:24   2016-06-13 14:10:24   \n",
       "\n",
       "      passenger_count  trip_distance  pickup_longitude  pickup_latitude  \\\n",
       "945                 1            0.0        -73.965874        40.758621   \n",
       "3380                2            0.0        -73.984673        40.779682   \n",
       "5102                2            0.0        -73.968567        40.764858   \n",
       "5584                2            0.0        -73.997200        40.762718   \n",
       "5994                1            0.0        -73.969887        40.757042   \n",
       "\n",
       "      RatecodeID store_and_fwd_flag      ...       payment_type  fare_amount  \\\n",
       "945            1                  N      ...                  2          4.5   \n",
       "3380           1                  N      ...                  2          2.5   \n",
       "5102           5                  N      ...                  2        300.0   \n",
       "5584           1                  N      ...                  2         17.0   \n",
       "5994           1                  N      ...                  2          3.0   \n",
       "\n",
       "      extra  mta_tax  tip_amount  tolls_amount  improvement_surcharge  \\\n",
       "945     0.5      0.5         0.0           0.0                    0.3   \n",
       "3380    0.0      0.5         0.0           0.0                    0.3   \n",
       "5102    0.0      0.0         0.0           0.0                    0.0   \n",
       "5584    0.5      0.5         0.0           0.0                    0.3   \n",
       "5994    0.0      0.5         0.0           0.0                    0.3   \n",
       "\n",
       "      total_amount  Time Travelled  Pick Up Time  \n",
       "945            5.8               0      5.483333  \n",
       "3380           3.3               0     14.366667  \n",
       "5102         300.0               0      0.583333  \n",
       "5584          18.3               0      4.116667  \n",
       "5994           3.8               0     14.166667  \n",
       "\n",
       "[5 rows x 22 columns]"
      ]
     },
     "execution_count": 414,
     "metadata": {},
     "output_type": "execute_result"
    }
   ],
   "source": [
    "dataset[(dataset[\"tpep_pickup_datetime\"]==dataset[\"tpep_dropoff_datetime\"])==True].head()"
   ]
  },
  {
   "cell_type": "code",
   "execution_count": 415,
   "metadata": {},
   "outputs": [],
   "source": [
    "dataset[\"Velocity\"] = dataset[\"trip_distance\"]/(dataset[\"Time Travelled\"]/60)\n",
    "test_dataset[\"Velocity\"] = test_dataset[\"trip_distance\"]/test_dataset[\"Time Travelled\"] "
   ]
  },
  {
   "cell_type": "code",
   "execution_count": 416,
   "metadata": {},
   "outputs": [],
   "source": [
    "dataset = dataset.replace([np.inf, -np.inf], np.nan)\n",
    "test_dataset = test_dataset.replace([np.inf, -np.inf], np.nan)\n",
    "dataset = dataset.replace(np.nan,0)\n",
    "test_dataset = test_dataset.replace(np.nan,0)"
   ]
  },
  {
   "cell_type": "code",
   "execution_count": null,
   "metadata": {},
   "outputs": [],
   "source": [
    "#dataset[\"Velocity\"] = dataset[\"Velocity\"].loc[dataset[\"Velocity\"].abs() > dataset[\"Velocity\"].max(), 'Velocity' ] = dataset[\"Velocity\"].max()\n",
    "dataset[dataset[\"Velocity\"] > 100] = 100\n",
    "test_dataset[test_dataset[\"Velocity\"] > 100] = 100"
   ]
  },
  {
   "cell_type": "code",
   "execution_count": 47,
   "metadata": {},
   "outputs": [
    {
     "name": "stderr",
     "output_type": "stream",
     "text": [
      "C:\\Users\\makkh\\Anaconda3\\lib\\site-packages\\numpy\\core\\_methods.py:26: RuntimeWarning: invalid value encountered in reduce\n",
      "  return umr_maximum(a, axis, None, out, keepdims)\n",
      "C:\\Users\\makkh\\Anaconda3\\lib\\site-packages\\numpy\\core\\_methods.py:29: RuntimeWarning: invalid value encountered in reduce\n",
      "  return umr_minimum(a, axis, None, out, keepdims)\n"
     ]
    },
    {
     "ename": "ValueError",
     "evalue": "cannot convert float NaN to integer",
     "output_type": "error",
     "traceback": [
      "\u001b[1;31m---------------------------------------------------------------------------\u001b[0m",
      "\u001b[1;31mValueError\u001b[0m                                Traceback (most recent call last)",
      "\u001b[1;32m<ipython-input-47-a6140a17b399>\u001b[0m in \u001b[0;36m<module>\u001b[1;34m()\u001b[0m\n\u001b[1;32m----> 1\u001b[1;33m \u001b[0msns\u001b[0m\u001b[1;33m.\u001b[0m\u001b[0mdistplot\u001b[0m\u001b[1;33m(\u001b[0m\u001b[0mdataset\u001b[0m\u001b[1;33m[\u001b[0m\u001b[1;34m\"Velocity\"\u001b[0m\u001b[1;33m]\u001b[0m\u001b[1;33m)\u001b[0m\u001b[1;33m\u001b[0m\u001b[0m\n\u001b[0m",
      "\u001b[1;32m~\\Anaconda3\\lib\\site-packages\\seaborn\\distributions.py\u001b[0m in \u001b[0;36mdistplot\u001b[1;34m(a, bins, hist, kde, rug, fit, hist_kws, kde_kws, rug_kws, fit_kws, color, vertical, norm_hist, axlabel, label, ax)\u001b[0m\n\u001b[0;32m    210\u001b[0m     \u001b[1;32mif\u001b[0m \u001b[0mhist\u001b[0m\u001b[1;33m:\u001b[0m\u001b[1;33m\u001b[0m\u001b[0m\n\u001b[0;32m    211\u001b[0m         \u001b[1;32mif\u001b[0m \u001b[0mbins\u001b[0m \u001b[1;32mis\u001b[0m \u001b[1;32mNone\u001b[0m\u001b[1;33m:\u001b[0m\u001b[1;33m\u001b[0m\u001b[0m\n\u001b[1;32m--> 212\u001b[1;33m             \u001b[0mbins\u001b[0m \u001b[1;33m=\u001b[0m \u001b[0mmin\u001b[0m\u001b[1;33m(\u001b[0m\u001b[0m_freedman_diaconis_bins\u001b[0m\u001b[1;33m(\u001b[0m\u001b[0ma\u001b[0m\u001b[1;33m)\u001b[0m\u001b[1;33m,\u001b[0m \u001b[1;36m50\u001b[0m\u001b[1;33m)\u001b[0m\u001b[1;33m\u001b[0m\u001b[0m\n\u001b[0m\u001b[0;32m    213\u001b[0m         \u001b[0mhist_kws\u001b[0m\u001b[1;33m.\u001b[0m\u001b[0msetdefault\u001b[0m\u001b[1;33m(\u001b[0m\u001b[1;34m\"alpha\"\u001b[0m\u001b[1;33m,\u001b[0m \u001b[1;36m0.4\u001b[0m\u001b[1;33m)\u001b[0m\u001b[1;33m\u001b[0m\u001b[0m\n\u001b[0;32m    214\u001b[0m         \u001b[0mhist_kws\u001b[0m\u001b[1;33m.\u001b[0m\u001b[0msetdefault\u001b[0m\u001b[1;33m(\u001b[0m\u001b[1;34m\"normed\"\u001b[0m\u001b[1;33m,\u001b[0m \u001b[0mnorm_hist\u001b[0m\u001b[1;33m)\u001b[0m\u001b[1;33m\u001b[0m\u001b[0m\n",
      "\u001b[1;32m~\\Anaconda3\\lib\\site-packages\\seaborn\\distributions.py\u001b[0m in \u001b[0;36m_freedman_diaconis_bins\u001b[1;34m(a)\u001b[0m\n\u001b[0;32m     34\u001b[0m         \u001b[1;32mreturn\u001b[0m \u001b[0mint\u001b[0m\u001b[1;33m(\u001b[0m\u001b[0mnp\u001b[0m\u001b[1;33m.\u001b[0m\u001b[0msqrt\u001b[0m\u001b[1;33m(\u001b[0m\u001b[0ma\u001b[0m\u001b[1;33m.\u001b[0m\u001b[0msize\u001b[0m\u001b[1;33m)\u001b[0m\u001b[1;33m)\u001b[0m\u001b[1;33m\u001b[0m\u001b[0m\n\u001b[0;32m     35\u001b[0m     \u001b[1;32melse\u001b[0m\u001b[1;33m:\u001b[0m\u001b[1;33m\u001b[0m\u001b[0m\n\u001b[1;32m---> 36\u001b[1;33m         \u001b[1;32mreturn\u001b[0m \u001b[0mint\u001b[0m\u001b[1;33m(\u001b[0m\u001b[0mnp\u001b[0m\u001b[1;33m.\u001b[0m\u001b[0mceil\u001b[0m\u001b[1;33m(\u001b[0m\u001b[1;33m(\u001b[0m\u001b[0ma\u001b[0m\u001b[1;33m.\u001b[0m\u001b[0mmax\u001b[0m\u001b[1;33m(\u001b[0m\u001b[1;33m)\u001b[0m \u001b[1;33m-\u001b[0m \u001b[0ma\u001b[0m\u001b[1;33m.\u001b[0m\u001b[0mmin\u001b[0m\u001b[1;33m(\u001b[0m\u001b[1;33m)\u001b[0m\u001b[1;33m)\u001b[0m \u001b[1;33m/\u001b[0m \u001b[0mh\u001b[0m\u001b[1;33m)\u001b[0m\u001b[1;33m)\u001b[0m\u001b[1;33m\u001b[0m\u001b[0m\n\u001b[0m\u001b[0;32m     37\u001b[0m \u001b[1;33m\u001b[0m\u001b[0m\n\u001b[0;32m     38\u001b[0m \u001b[1;33m\u001b[0m\u001b[0m\n",
      "\u001b[1;31mValueError\u001b[0m: cannot convert float NaN to integer"
     ]
    },
    {
     "data": {
      "image/png": "[encoded data removed]",
      "text/plain": [
       "<matplotlib.figure.Figure at 0x1b192153b00>"
      ]
     },
     "metadata": {},
     "output_type": "display_data"
    }
   ],
   "source": [
    "sns.distplot(dataset[\"Velocity\"])"
   ]
  },
  {
   "cell_type": "code",
   "execution_count": null,
   "metadata": {},
   "outputs": [],
   "source": [
    "dataset[\"Velocity\"] = pd.DataFrame(pd.cut(dataset[\"Velocity\"], bins = 8,labels = [0,1,2,3,4,5,6,7]))\n",
    "import seaborn as sns\n",
    "import matplotlib.pyplot as palt\n",
    "fig = plt.figure(figsize = (10,6))\n",
    "sns.set_style(\"whitegrid\")\n",
    "ax = sns.boxplot(x=\"Velocity\", y=\"total_amount\",data = dataset)"
   ]
  },
  {
   "cell_type": "markdown",
   "metadata": {},
   "source": [
    "## Pickup and DropOff location"
   ]
  },
  {
   "cell_type": "code",
   "execution_count": 63,
   "metadata": {},
   "outputs": [
    {
     "data": {
      "text/plain": [
       "array([2, 7, 3, 0, 1], dtype=int64)"
      ]
     },
     "execution_count": 63,
     "metadata": {},
     "output_type": "execute_result"
    }
   ],
   "source": [
    "custom_bucket_array  = [-116.229,-101.599,-87.085,-72.571,-58.056,-43.542,-29.028,-14.514,0]\n",
    "#dataset[\"pickup_longitude\"] = pd.cut(dataset[\"pickup_longitude\"], 8)\n",
    "#dataset[\"pickup_longitude\"] = pd.DataFrame(pd.cut(dataset[\"pickup_longitude\"], bins = custom_bucket_array,labels = [0,1,2,3,4,5,6,7]))\n",
    "dataset[\"pickup_longitude\"] = pd.DataFrame(pd.cut(dataset[\"pickup_longitude\"], bins = 8,labels = [0,1,2,3,4,5,6,7]))\n",
    "dataset[\"pickup_longitude\"].unique()"
   ]
  },
  {
   "cell_type": "code",
   "execution_count": 64,
   "metadata": {},
   "outputs": [
    {
     "data": {
      "text/plain": [
       "array([5, 0, 4, 7, 6, 3], dtype=int64)"
      ]
     },
     "execution_count": 64,
     "metadata": {},
     "output_type": "execute_result"
    }
   ],
   "source": [
    "#pd.cut(dataset[\"pickup_latitude\"], 8).head()\n",
    "custom_bucket_array = [-0.0641, 8.012,16.024,24.036,32.048, 40.06,48.072, 56.084,64.096]\n",
    "dataset[\"pickup_latitude\"] = pd.DataFrame(pd.cut(dataset[\"pickup_latitude\"], bins = 8,labels = [0,1,2,3,4,5,6,7]))\n",
    "dataset[\"pickup_latitude\"].unique()"
   ]
  },
  {
   "cell_type": "code",
   "execution_count": 65,
   "metadata": {},
   "outputs": [
    {
     "data": {
      "text/plain": [
       "array([1, 4, 7, 0], dtype=int64)"
      ]
     },
     "execution_count": 65,
     "metadata": {},
     "output_type": "execute_result"
    }
   ],
   "source": [
    "#pd.cut(dataset[\"dropoff_longitude\"],8).head()\n",
    "custom_bucket_array = [-115.39, -87.491,-59.815, -32.138,-4.461, 23.216,50.893, 78.57,106.247]\n",
    "dataset[\"dropoff_longitude\"] = pd.DataFrame(pd.cut(dataset[\"dropoff_longitude\"], bins = 8,labels = [0,1,2,3,4,5,6,7]))\n",
    "dataset[\"dropoff_longitude\"].unique()"
   ]
  },
  {
   "cell_type": "code",
   "execution_count": 66,
   "metadata": {},
   "outputs": [
    {
     "data": {
      "text/plain": [
       "array([7, 0, 6, 5, 4], dtype=int64)"
      ]
     },
     "execution_count": 66,
     "metadata": {},
     "output_type": "execute_result"
    }
   ],
   "source": [
    "#pd.cut(dataset[\"dropoff_longitude\"],8).head()\n",
    "custom_bucket_array = [-0.007, 0.875, 1.75, 2.625, 3.5, 4.375, 5.25, 6.125, 7.0 ]\n",
    "dataset[\"dropoff_latitude\"] = pd.DataFrame(pd.cut(dataset[\"dropoff_latitude\"], bins = 8,labels = [0,1,2,3,4,5,6,7]))\n",
    "dataset[\"dropoff_latitude\"].unique()"
   ]
  },
  {
   "cell_type": "code",
   "execution_count": 67,
   "metadata": {},
   "outputs": [],
   "source": [
    "features = [\"dropoff_latitude\",\"dropoff_longitude\"]\n",
    "from sklearn.preprocessing import  OneHotEncoder\n",
    "onehotencoder = OneHotEncoder()\n",
    "onehotencoder.fit(dataset[features])  \n",
    "newFeatures = onehotencoder.transform(dataset[features]).toarray()"
   ]
  },
  {
   "cell_type": "code",
   "execution_count": 77,
   "metadata": {},
   "outputs": [],
   "source": [
    "features = [\"pickup_latitude\",\"pickup_longitude\"]\n",
    "from sklearn.preprocessing import  OneHotEncoder\n",
    "onehotencoder = OneHotEncoder()\n",
    "onehotencoder.fit(dataset[features])  \n",
    "newFeatures2 = onehotencoder.transform(dataset[features]).toarray()"
   ]
  },
  {
   "cell_type": "code",
   "execution_count": 74,
   "metadata": {},
   "outputs": [],
   "source": [
    "dataset = pd.concat([dataset, pd.DataFrame(newFeatures)], axis=1)"
   ]
  },
  {
   "cell_type": "code",
   "execution_count": 78,
   "metadata": {},
   "outputs": [],
   "source": [
    "dataset = pd.concat([dataset, pd.DataFrame(newFeatures2)], axis=1)"
   ]
  },
  {
   "cell_type": "code",
   "execution_count": 79,
   "metadata": {},
   "outputs": [
    {
     "data": {
      "text/html": [
       "<div>\n",
       "<style scoped>\n",
       "    .dataframe tbody tr th:only-of-type {\n",
       "        vertical-align: middle;\n",
       "    }\n",
       "\n",
       "    .dataframe tbody tr th {\n",
       "        vertical-align: top;\n",
       "    }\n",
       "\n",
       "    .dataframe thead th {\n",
       "        text-align: right;\n",
       "    }\n",
       "</style>\n",
       "<table border=\"1\" class=\"dataframe\">\n",
       "  <thead>\n",
       "    <tr style=\"text-align: right;\">\n",
       "      <th></th>\n",
       "      <th>Unnamed: 0</th>\n",
       "      <th>VendorID</th>\n",
       "      <th>tpep_pickup_datetime</th>\n",
       "      <th>tpep_dropoff_datetime</th>\n",
       "      <th>passenger_count</th>\n",
       "      <th>trip_distance</th>\n",
       "      <th>pickup_longitude</th>\n",
       "      <th>pickup_latitude</th>\n",
       "      <th>RatecodeID</th>\n",
       "      <th>store_and_fwd_flag</th>\n",
       "      <th>...</th>\n",
       "      <th>1</th>\n",
       "      <th>2</th>\n",
       "      <th>3</th>\n",
       "      <th>4</th>\n",
       "      <th>5</th>\n",
       "      <th>6</th>\n",
       "      <th>7</th>\n",
       "      <th>8</th>\n",
       "      <th>9</th>\n",
       "      <th>10</th>\n",
       "    </tr>\n",
       "  </thead>\n",
       "  <tbody>\n",
       "    <tr>\n",
       "      <th>0</th>\n",
       "      <td>510205</td>\n",
       "      <td>2</td>\n",
       "      <td>2016-06-02 00:34:25</td>\n",
       "      <td>2016-06-02 00:54:42</td>\n",
       "      <td>1</td>\n",
       "      <td>6.10</td>\n",
       "      <td>2</td>\n",
       "      <td>5</td>\n",
       "      <td>1</td>\n",
       "      <td>N</td>\n",
       "      <td>...</td>\n",
       "      <td>0.0</td>\n",
       "      <td>0.0</td>\n",
       "      <td>1.0</td>\n",
       "      <td>0.0</td>\n",
       "      <td>0.0</td>\n",
       "      <td>0.0</td>\n",
       "      <td>0.0</td>\n",
       "      <td>1.0</td>\n",
       "      <td>0.0</td>\n",
       "      <td>0.0</td>\n",
       "    </tr>\n",
       "    <tr>\n",
       "      <th>1</th>\n",
       "      <td>2638457</td>\n",
       "      <td>1</td>\n",
       "      <td>2016-06-11 13:48:02</td>\n",
       "      <td>2016-06-11 13:53:24</td>\n",
       "      <td>1</td>\n",
       "      <td>1.00</td>\n",
       "      <td>2</td>\n",
       "      <td>5</td>\n",
       "      <td>1</td>\n",
       "      <td>N</td>\n",
       "      <td>...</td>\n",
       "      <td>0.0</td>\n",
       "      <td>0.0</td>\n",
       "      <td>1.0</td>\n",
       "      <td>0.0</td>\n",
       "      <td>0.0</td>\n",
       "      <td>0.0</td>\n",
       "      <td>0.0</td>\n",
       "      <td>1.0</td>\n",
       "      <td>0.0</td>\n",
       "      <td>0.0</td>\n",
       "    </tr>\n",
       "    <tr>\n",
       "      <th>2</th>\n",
       "      <td>7396380</td>\n",
       "      <td>1</td>\n",
       "      <td>2016-06-22 16:48:49</td>\n",
       "      <td>2016-06-22 16:55:02</td>\n",
       "      <td>1</td>\n",
       "      <td>0.70</td>\n",
       "      <td>2</td>\n",
       "      <td>5</td>\n",
       "      <td>1</td>\n",
       "      <td>N</td>\n",
       "      <td>...</td>\n",
       "      <td>0.0</td>\n",
       "      <td>0.0</td>\n",
       "      <td>1.0</td>\n",
       "      <td>0.0</td>\n",
       "      <td>0.0</td>\n",
       "      <td>0.0</td>\n",
       "      <td>0.0</td>\n",
       "      <td>1.0</td>\n",
       "      <td>0.0</td>\n",
       "      <td>0.0</td>\n",
       "    </tr>\n",
       "    <tr>\n",
       "      <th>3</th>\n",
       "      <td>4521493</td>\n",
       "      <td>2</td>\n",
       "      <td>2016-06-12 21:14:19</td>\n",
       "      <td>2016-06-12 21:20:48</td>\n",
       "      <td>1</td>\n",
       "      <td>1.05</td>\n",
       "      <td>2</td>\n",
       "      <td>5</td>\n",
       "      <td>1</td>\n",
       "      <td>N</td>\n",
       "      <td>...</td>\n",
       "      <td>0.0</td>\n",
       "      <td>0.0</td>\n",
       "      <td>1.0</td>\n",
       "      <td>0.0</td>\n",
       "      <td>0.0</td>\n",
       "      <td>0.0</td>\n",
       "      <td>0.0</td>\n",
       "      <td>1.0</td>\n",
       "      <td>0.0</td>\n",
       "      <td>0.0</td>\n",
       "    </tr>\n",
       "    <tr>\n",
       "      <th>4</th>\n",
       "      <td>7461453</td>\n",
       "      <td>2</td>\n",
       "      <td>2016-06-22 19:56:50</td>\n",
       "      <td>2016-06-22 19:57:45</td>\n",
       "      <td>1</td>\n",
       "      <td>0.37</td>\n",
       "      <td>2</td>\n",
       "      <td>5</td>\n",
       "      <td>1</td>\n",
       "      <td>N</td>\n",
       "      <td>...</td>\n",
       "      <td>0.0</td>\n",
       "      <td>0.0</td>\n",
       "      <td>1.0</td>\n",
       "      <td>0.0</td>\n",
       "      <td>0.0</td>\n",
       "      <td>0.0</td>\n",
       "      <td>0.0</td>\n",
       "      <td>1.0</td>\n",
       "      <td>0.0</td>\n",
       "      <td>0.0</td>\n",
       "    </tr>\n",
       "  </tbody>\n",
       "</table>\n",
       "<p>5 rows × 40 columns</p>\n",
       "</div>"
      ],
      "text/plain": [
       "   Unnamed: 0  VendorID tpep_pickup_datetime tpep_dropoff_datetime  \\\n",
       "0      510205         2  2016-06-02 00:34:25   2016-06-02 00:54:42   \n",
       "1     2638457         1  2016-06-11 13:48:02   2016-06-11 13:53:24   \n",
       "2     7396380         1  2016-06-22 16:48:49   2016-06-22 16:55:02   \n",
       "3     4521493         2  2016-06-12 21:14:19   2016-06-12 21:20:48   \n",
       "4     7461453         2  2016-06-22 19:56:50   2016-06-22 19:57:45   \n",
       "\n",
       "   passenger_count  trip_distance  pickup_longitude  pickup_latitude  \\\n",
       "0                1           6.10                 2                5   \n",
       "1                1           1.00                 2                5   \n",
       "2                1           0.70                 2                5   \n",
       "3                1           1.05                 2                5   \n",
       "4                1           0.37                 2                5   \n",
       "\n",
       "   RatecodeID store_and_fwd_flag ...     1    2    3    4    5    6    7    8  \\\n",
       "0           1                  N ...   0.0  0.0  1.0  0.0  0.0  0.0  0.0  1.0   \n",
       "1           1                  N ...   0.0  0.0  1.0  0.0  0.0  0.0  0.0  1.0   \n",
       "2           1                  N ...   0.0  0.0  1.0  0.0  0.0  0.0  0.0  1.0   \n",
       "3           1                  N ...   0.0  0.0  1.0  0.0  0.0  0.0  0.0  1.0   \n",
       "4           1                  N ...   0.0  0.0  1.0  0.0  0.0  0.0  0.0  1.0   \n",
       "\n",
       "     9   10  \n",
       "0  0.0  0.0  \n",
       "1  0.0  0.0  \n",
       "2  0.0  0.0  \n",
       "3  0.0  0.0  \n",
       "4  0.0  0.0  \n",
       "\n",
       "[5 rows x 40 columns]"
      ]
     },
     "execution_count": 79,
     "metadata": {},
     "output_type": "execute_result"
    }
   ],
   "source": [
    "dataset.head()"
   ]
  },
  {
   "cell_type": "markdown",
   "metadata": {},
   "source": [
    "## Sector Feature "
   ]
  },
  {
   "cell_type": "code",
   "execution_count": 114,
   "metadata": {},
   "outputs": [],
   "source": [
    "dataset[\"dropoff_sector\"] = (dataset[\"dropoff_latitude\"]*dataset[\"dropoff_longitude\"])"
   ]
  },
  {
   "cell_type": "code",
   "execution_count": 115,
   "metadata": {},
   "outputs": [],
   "source": [
    "dataset[\"pickup_sector\"] = (dataset[\"pickup_latitude\"]*dataset[\"pickup_longitude\"])"
   ]
  },
  {
   "cell_type": "markdown",
   "metadata": {},
   "source": [
    "## store_and_fwd_flag feature"
   ]
  },
  {
   "cell_type": "code",
   "execution_count": 116,
   "metadata": {},
   "outputs": [],
   "source": [
    "from sklearn.preprocessing import LabelEncoder \n",
    "encoder = LabelEncoder()\n",
    "dataset[\"store_and_fwd_flag\"] = encoder.fit_transform(dataset[\"store_and_fwd_flag\"])\n",
    "test_dataset[\"store_and_fwd_flag\"] = encoder.fit_transform(test_dataset[\"store_and_fwd_flag\"])"
   ]
  },
  {
   "cell_type": "code",
   "execution_count": 117,
   "metadata": {},
   "outputs": [
    {
     "data": {
      "text/html": [
       "<div>\n",
       "<style scoped>\n",
       "    .dataframe tbody tr th:only-of-type {\n",
       "        vertical-align: middle;\n",
       "    }\n",
       "\n",
       "    .dataframe tbody tr th {\n",
       "        vertical-align: top;\n",
       "    }\n",
       "\n",
       "    .dataframe thead th {\n",
       "        text-align: right;\n",
       "    }\n",
       "</style>\n",
       "<table border=\"1\" class=\"dataframe\">\n",
       "  <thead>\n",
       "    <tr style=\"text-align: right;\">\n",
       "      <th></th>\n",
       "      <th>Unnamed: 0</th>\n",
       "      <th>VendorID</th>\n",
       "      <th>passenger_count</th>\n",
       "      <th>trip_distance</th>\n",
       "      <th>pickup_longitude</th>\n",
       "      <th>pickup_latitude</th>\n",
       "      <th>RatecodeID</th>\n",
       "      <th>store_and_fwd_flag</th>\n",
       "      <th>dropoff_longitude</th>\n",
       "      <th>dropoff_latitude</th>\n",
       "      <th>payment_type</th>\n",
       "      <th>fare_amount</th>\n",
       "      <th>extra</th>\n",
       "      <th>mta_tax</th>\n",
       "      <th>tip_amount</th>\n",
       "      <th>tolls_amount</th>\n",
       "      <th>improvement_surcharge</th>\n",
       "      <th>total_amount</th>\n",
       "      <th>dropoff_sector</th>\n",
       "      <th>pickup_sector</th>\n",
       "    </tr>\n",
       "  </thead>\n",
       "  <tbody>\n",
       "    <tr>\n",
       "      <th>count</th>\n",
       "      <td>1.113547e+06</td>\n",
       "      <td>1.113547e+06</td>\n",
       "      <td>1.113547e+06</td>\n",
       "      <td>1.113547e+06</td>\n",
       "      <td>1.113547e+06</td>\n",
       "      <td>1.113547e+06</td>\n",
       "      <td>1.113547e+06</td>\n",
       "      <td>1.113547e+06</td>\n",
       "      <td>1.113547e+06</td>\n",
       "      <td>1.113547e+06</td>\n",
       "      <td>1.113547e+06</td>\n",
       "      <td>1.113547e+06</td>\n",
       "      <td>1.113547e+06</td>\n",
       "      <td>1.113547e+06</td>\n",
       "      <td>1.113547e+06</td>\n",
       "      <td>1.113547e+06</td>\n",
       "      <td>1.113547e+06</td>\n",
       "      <td>1.113547e+06</td>\n",
       "      <td>1.113547e+06</td>\n",
       "      <td>1.113547e+06</td>\n",
       "    </tr>\n",
       "    <tr>\n",
       "      <th>mean</th>\n",
       "      <td>5.571050e+06</td>\n",
       "      <td>1.529188e+00</td>\n",
       "      <td>1.657283e+00</td>\n",
       "      <td>3.029327e+00</td>\n",
       "      <td>-7.305962e+01</td>\n",
       "      <td>4.024766e+01</td>\n",
       "      <td>1.043692e+00</td>\n",
       "      <td>6.014115e-03</td>\n",
       "      <td>-7.313092e+01</td>\n",
       "      <td>4.028782e+01</td>\n",
       "      <td>1.349625e+00</td>\n",
       "      <td>1.333468e+01</td>\n",
       "      <td>3.405538e-01</td>\n",
       "      <td>4.972738e-01</td>\n",
       "      <td>1.835671e+00</td>\n",
       "      <td>3.377642e-01</td>\n",
       "      <td>2.996659e-01</td>\n",
       "      <td>1.664871e+01</td>\n",
       "      <td>-2.980207e+03</td>\n",
       "      <td>-2.977245e+03</td>\n",
       "    </tr>\n",
       "    <tr>\n",
       "      <th>std</th>\n",
       "      <td>3.214538e+06</td>\n",
       "      <td>4.991475e-01</td>\n",
       "      <td>1.302624e+00</td>\n",
       "      <td>3.816946e+00</td>\n",
       "      <td>8.169789e+00</td>\n",
       "      <td>4.500594e+00</td>\n",
       "      <td>5.862743e-01</td>\n",
       "      <td>7.731721e-02</td>\n",
       "      <td>7.849238e+00</td>\n",
       "      <td>4.323112e+00</td>\n",
       "      <td>4.947822e-01</td>\n",
       "      <td>1.394672e+01</td>\n",
       "      <td>4.530082e-01</td>\n",
       "      <td>3.966875e-02</td>\n",
       "      <td>2.716106e+00</td>\n",
       "      <td>1.741324e+00</td>\n",
       "      <td>1.350077e-02</td>\n",
       "      <td>1.622029e+01</td>\n",
       "      <td>3.198751e+02</td>\n",
       "      <td>3.329550e+02</td>\n",
       "    </tr>\n",
       "    <tr>\n",
       "      <th>min</th>\n",
       "      <td>2.200000e+01</td>\n",
       "      <td>1.000000e+00</td>\n",
       "      <td>0.000000e+00</td>\n",
       "      <td>0.000000e+00</td>\n",
       "      <td>-1.161129e+02</td>\n",
       "      <td>0.000000e+00</td>\n",
       "      <td>1.000000e+00</td>\n",
       "      <td>0.000000e+00</td>\n",
       "      <td>-1.151684e+02</td>\n",
       "      <td>0.000000e+00</td>\n",
       "      <td>1.000000e+00</td>\n",
       "      <td>-2.300000e+02</td>\n",
       "      <td>-4.500000e+00</td>\n",
       "      <td>-5.000000e-01</td>\n",
       "      <td>-7.920000e+00</td>\n",
       "      <td>-1.050000e+01</td>\n",
       "      <td>-3.000000e-01</td>\n",
       "      <td>-2.413000e+02</td>\n",
       "      <td>-4.157798e+03</td>\n",
       "      <td>-7.442431e+03</td>\n",
       "    </tr>\n",
       "    <tr>\n",
       "      <th>25%</th>\n",
       "      <td>2.791410e+06</td>\n",
       "      <td>1.000000e+00</td>\n",
       "      <td>1.000000e+00</td>\n",
       "      <td>1.000000e+00</td>\n",
       "      <td>-7.399177e+01</td>\n",
       "      <td>4.073658e+01</td>\n",
       "      <td>1.000000e+00</td>\n",
       "      <td>0.000000e+00</td>\n",
       "      <td>-7.399123e+01</td>\n",
       "      <td>4.073494e+01</td>\n",
       "      <td>1.000000e+00</td>\n",
       "      <td>6.500000e+00</td>\n",
       "      <td>0.000000e+00</td>\n",
       "      <td>5.000000e-01</td>\n",
       "      <td>0.000000e+00</td>\n",
       "      <td>0.000000e+00</td>\n",
       "      <td>3.000000e-01</td>\n",
       "      <td>8.800000e+00</td>\n",
       "      <td>-3.015738e+03</td>\n",
       "      <td>-3.015644e+03</td>\n",
       "    </tr>\n",
       "    <tr>\n",
       "      <th>50%</th>\n",
       "      <td>5.573538e+06</td>\n",
       "      <td>2.000000e+00</td>\n",
       "      <td>1.000000e+00</td>\n",
       "      <td>1.710000e+00</td>\n",
       "      <td>-7.398134e+01</td>\n",
       "      <td>4.075361e+01</td>\n",
       "      <td>1.000000e+00</td>\n",
       "      <td>0.000000e+00</td>\n",
       "      <td>-7.397936e+01</td>\n",
       "      <td>4.075410e+01</td>\n",
       "      <td>1.000000e+00</td>\n",
       "      <td>9.500000e+00</td>\n",
       "      <td>0.000000e+00</td>\n",
       "      <td>5.000000e-01</td>\n",
       "      <td>1.350000e+00</td>\n",
       "      <td>0.000000e+00</td>\n",
       "      <td>3.000000e-01</td>\n",
       "      <td>1.230000e+01</td>\n",
       "      <td>-3.014963e+03</td>\n",
       "      <td>-3.014943e+03</td>\n",
       "    </tr>\n",
       "    <tr>\n",
       "      <th>75%</th>\n",
       "      <td>8.353019e+06</td>\n",
       "      <td>2.000000e+00</td>\n",
       "      <td>2.000000e+00</td>\n",
       "      <td>3.220000e+00</td>\n",
       "      <td>-7.396619e+01</td>\n",
       "      <td>4.076831e+01</td>\n",
       "      <td>1.000000e+00</td>\n",
       "      <td>0.000000e+00</td>\n",
       "      <td>-7.396199e+01</td>\n",
       "      <td>4.076954e+01</td>\n",
       "      <td>2.000000e+00</td>\n",
       "      <td>1.550000e+01</td>\n",
       "      <td>5.000000e-01</td>\n",
       "      <td>5.000000e-01</td>\n",
       "      <td>2.450000e+00</td>\n",
       "      <td>0.000000e+00</td>\n",
       "      <td>3.000000e-01</td>\n",
       "      <td>1.836000e+01</td>\n",
       "      <td>-3.013774e+03</td>\n",
       "      <td>-3.013907e+03</td>\n",
       "    </tr>\n",
       "    <tr>\n",
       "      <th>max</th>\n",
       "      <td>1.113545e+07</td>\n",
       "      <td>2.000000e+00</td>\n",
       "      <td>9.000000e+00</td>\n",
       "      <td>5.055000e+02</td>\n",
       "      <td>0.000000e+00</td>\n",
       "      <td>6.409648e+01</td>\n",
       "      <td>9.900000e+01</td>\n",
       "      <td>1.000000e+00</td>\n",
       "      <td>1.062469e+02</td>\n",
       "      <td>4.623993e+01</td>\n",
       "      <td>4.000000e+00</td>\n",
       "      <td>8.452000e+03</td>\n",
       "      <td>5.500000e+00</td>\n",
       "      <td>1.000000e+00</td>\n",
       "      <td>8.548500e+02</td>\n",
       "      <td>5.800000e+02</td>\n",
       "      <td>9.400000e-01</td>\n",
       "      <td>8.452800e+03</td>\n",
       "      <td>4.356057e+03</td>\n",
       "      <td>0.000000e+00</td>\n",
       "    </tr>\n",
       "  </tbody>\n",
       "</table>\n",
       "</div>"
      ],
      "text/plain": [
       "         Unnamed: 0      VendorID  passenger_count  trip_distance  \\\n",
       "count  1.113547e+06  1.113547e+06     1.113547e+06   1.113547e+06   \n",
       "mean   5.571050e+06  1.529188e+00     1.657283e+00   3.029327e+00   \n",
       "std    3.214538e+06  4.991475e-01     1.302624e+00   3.816946e+00   \n",
       "min    2.200000e+01  1.000000e+00     0.000000e+00   0.000000e+00   \n",
       "25%    2.791410e+06  1.000000e+00     1.000000e+00   1.000000e+00   \n",
       "50%    5.573538e+06  2.000000e+00     1.000000e+00   1.710000e+00   \n",
       "75%    8.353019e+06  2.000000e+00     2.000000e+00   3.220000e+00   \n",
       "max    1.113545e+07  2.000000e+00     9.000000e+00   5.055000e+02   \n",
       "\n",
       "       pickup_longitude  pickup_latitude    RatecodeID  store_and_fwd_flag  \\\n",
       "count      1.113547e+06     1.113547e+06  1.113547e+06        1.113547e+06   \n",
       "mean      -7.305962e+01     4.024766e+01  1.043692e+00        6.014115e-03   \n",
       "std        8.169789e+00     4.500594e+00  5.862743e-01        7.731721e-02   \n",
       "min       -1.161129e+02     0.000000e+00  1.000000e+00        0.000000e+00   \n",
       "25%       -7.399177e+01     4.073658e+01  1.000000e+00        0.000000e+00   \n",
       "50%       -7.398134e+01     4.075361e+01  1.000000e+00        0.000000e+00   \n",
       "75%       -7.396619e+01     4.076831e+01  1.000000e+00        0.000000e+00   \n",
       "max        0.000000e+00     6.409648e+01  9.900000e+01        1.000000e+00   \n",
       "\n",
       "       dropoff_longitude  dropoff_latitude  payment_type   fare_amount  \\\n",
       "count       1.113547e+06      1.113547e+06  1.113547e+06  1.113547e+06   \n",
       "mean       -7.313092e+01      4.028782e+01  1.349625e+00  1.333468e+01   \n",
       "std         7.849238e+00      4.323112e+00  4.947822e-01  1.394672e+01   \n",
       "min        -1.151684e+02      0.000000e+00  1.000000e+00 -2.300000e+02   \n",
       "25%        -7.399123e+01      4.073494e+01  1.000000e+00  6.500000e+00   \n",
       "50%        -7.397936e+01      4.075410e+01  1.000000e+00  9.500000e+00   \n",
       "75%        -7.396199e+01      4.076954e+01  2.000000e+00  1.550000e+01   \n",
       "max         1.062469e+02      4.623993e+01  4.000000e+00  8.452000e+03   \n",
       "\n",
       "              extra       mta_tax    tip_amount  tolls_amount  \\\n",
       "count  1.113547e+06  1.113547e+06  1.113547e+06  1.113547e+06   \n",
       "mean   3.405538e-01  4.972738e-01  1.835671e+00  3.377642e-01   \n",
       "std    4.530082e-01  3.966875e-02  2.716106e+00  1.741324e+00   \n",
       "min   -4.500000e+00 -5.000000e-01 -7.920000e+00 -1.050000e+01   \n",
       "25%    0.000000e+00  5.000000e-01  0.000000e+00  0.000000e+00   \n",
       "50%    0.000000e+00  5.000000e-01  1.350000e+00  0.000000e+00   \n",
       "75%    5.000000e-01  5.000000e-01  2.450000e+00  0.000000e+00   \n",
       "max    5.500000e+00  1.000000e+00  8.548500e+02  5.800000e+02   \n",
       "\n",
       "       improvement_surcharge  total_amount  dropoff_sector  pickup_sector  \n",
       "count           1.113547e+06  1.113547e+06    1.113547e+06   1.113547e+06  \n",
       "mean            2.996659e-01  1.664871e+01   -2.980207e+03  -2.977245e+03  \n",
       "std             1.350077e-02  1.622029e+01    3.198751e+02   3.329550e+02  \n",
       "min            -3.000000e-01 -2.413000e+02   -4.157798e+03  -7.442431e+03  \n",
       "25%             3.000000e-01  8.800000e+00   -3.015738e+03  -3.015644e+03  \n",
       "50%             3.000000e-01  1.230000e+01   -3.014963e+03  -3.014943e+03  \n",
       "75%             3.000000e-01  1.836000e+01   -3.013774e+03  -3.013907e+03  \n",
       "max             9.400000e-01  8.452800e+03    4.356057e+03   0.000000e+00  "
      ]
     },
     "execution_count": 117,
     "metadata": {},
     "output_type": "execute_result"
    }
   ],
   "source": [
    "dataset.describe()"
   ]
  },
  {
   "cell_type": "code",
   "execution_count": 445,
   "metadata": {},
   "outputs": [
    {
     "data": {
      "text/html": [
       "<div>\n",
       "<style scoped>\n",
       "    .dataframe tbody tr th:only-of-type {\n",
       "        vertical-align: middle;\n",
       "    }\n",
       "\n",
       "    .dataframe tbody tr th {\n",
       "        vertical-align: top;\n",
       "    }\n",
       "\n",
       "    .dataframe thead th {\n",
       "        text-align: right;\n",
       "    }\n",
       "</style>\n",
       "<table border=\"1\" class=\"dataframe\">\n",
       "  <thead>\n",
       "    <tr style=\"text-align: right;\">\n",
       "      <th></th>\n",
       "      <th>Unnamed: 0</th>\n",
       "      <th>trip_distance</th>\n",
       "      <th>RatecodeID</th>\n",
       "      <th>payment_type</th>\n",
       "      <th>tolls_amount</th>\n",
       "      <th>improvement_surcharge</th>\n",
       "      <th>total_amount</th>\n",
       "      <th>Time Travelled</th>\n",
       "      <th>Pick Up Time</th>\n",
       "      <th>Velocity</th>\n",
       "      <th>dropoff_sector</th>\n",
       "      <th>pickup_sector</th>\n",
       "    </tr>\n",
       "  </thead>\n",
       "  <tbody>\n",
       "    <tr>\n",
       "      <th>0</th>\n",
       "      <td>510205</td>\n",
       "      <td>6.10</td>\n",
       "      <td>1</td>\n",
       "      <td>1</td>\n",
       "      <td>0.0</td>\n",
       "      <td>0.3</td>\n",
       "      <td>22.30</td>\n",
       "      <td>20</td>\n",
       "      <td>0.566667</td>\n",
       "      <td>18.3</td>\n",
       "      <td>7</td>\n",
       "      <td>10</td>\n",
       "    </tr>\n",
       "    <tr>\n",
       "      <th>1</th>\n",
       "      <td>2638457</td>\n",
       "      <td>1.00</td>\n",
       "      <td>1</td>\n",
       "      <td>1</td>\n",
       "      <td>0.0</td>\n",
       "      <td>0.3</td>\n",
       "      <td>8.50</td>\n",
       "      <td>5</td>\n",
       "      <td>13.800000</td>\n",
       "      <td>12.0</td>\n",
       "      <td>7</td>\n",
       "      <td>10</td>\n",
       "    </tr>\n",
       "    <tr>\n",
       "      <th>2</th>\n",
       "      <td>7396380</td>\n",
       "      <td>0.70</td>\n",
       "      <td>1</td>\n",
       "      <td>1</td>\n",
       "      <td>0.0</td>\n",
       "      <td>0.3</td>\n",
       "      <td>9.75</td>\n",
       "      <td>7</td>\n",
       "      <td>16.800000</td>\n",
       "      <td>6.0</td>\n",
       "      <td>7</td>\n",
       "      <td>10</td>\n",
       "    </tr>\n",
       "    <tr>\n",
       "      <th>3</th>\n",
       "      <td>4521493</td>\n",
       "      <td>1.05</td>\n",
       "      <td>1</td>\n",
       "      <td>2</td>\n",
       "      <td>0.0</td>\n",
       "      <td>0.3</td>\n",
       "      <td>7.80</td>\n",
       "      <td>6</td>\n",
       "      <td>21.233333</td>\n",
       "      <td>10.5</td>\n",
       "      <td>7</td>\n",
       "      <td>10</td>\n",
       "    </tr>\n",
       "    <tr>\n",
       "      <th>4</th>\n",
       "      <td>7461453</td>\n",
       "      <td>0.37</td>\n",
       "      <td>1</td>\n",
       "      <td>1</td>\n",
       "      <td>0.0</td>\n",
       "      <td>0.3</td>\n",
       "      <td>6.00</td>\n",
       "      <td>1</td>\n",
       "      <td>19.933333</td>\n",
       "      <td>22.2</td>\n",
       "      <td>7</td>\n",
       "      <td>10</td>\n",
       "    </tr>\n",
       "  </tbody>\n",
       "</table>\n",
       "</div>"
      ],
      "text/plain": [
       "   Unnamed: 0  trip_distance  RatecodeID  payment_type  tolls_amount  \\\n",
       "0      510205           6.10           1             1           0.0   \n",
       "1     2638457           1.00           1             1           0.0   \n",
       "2     7396380           0.70           1             1           0.0   \n",
       "3     4521493           1.05           1             2           0.0   \n",
       "4     7461453           0.37           1             1           0.0   \n",
       "\n",
       "   improvement_surcharge  total_amount  Time Travelled  Pick Up Time  \\\n",
       "0                    0.3         22.30              20      0.566667   \n",
       "1                    0.3          8.50               5     13.800000   \n",
       "2                    0.3          9.75               7     16.800000   \n",
       "3                    0.3          7.80               6     21.233333   \n",
       "4                    0.3          6.00               1     19.933333   \n",
       "\n",
       "   Velocity  dropoff_sector  pickup_sector  \n",
       "0      18.3               7             10  \n",
       "1      12.0               7             10  \n",
       "2       6.0               7             10  \n",
       "3      10.5               7             10  \n",
       "4      22.2               7             10  "
      ]
     },
     "execution_count": 445,
     "metadata": {},
     "output_type": "execute_result"
    }
   ],
   "source": [
    "dataset.head()"
   ]
  },
  {
   "cell_type": "markdown",
   "metadata": {},
   "source": [
    "### Delete Features"
   ]
  },
  {
   "cell_type": "markdown",
   "metadata": {},
   "source": [
    "#### Match features of test dataset"
   ]
  },
  {
   "cell_type": "code",
   "execution_count": 118,
   "metadata": {},
   "outputs": [],
   "source": [
    "dataset = dataset.drop(\"fare_amount\",axis=1)\n",
    "dataset = dataset.drop(\"extra\",axis=1)\n",
    "dataset = dataset.drop(\"mta_tax\",axis=1)\n",
    "dataset = dataset.drop(\"tip_amount\",axis=1)"
   ]
  },
  {
   "cell_type": "code",
   "execution_count": 119,
   "metadata": {},
   "outputs": [],
   "source": [
    "dataset = dataset.drop(\"tpep_pickup_datetime\",axis=1)\n",
    "dataset = dataset.drop(\"tpep_dropoff_datetime\",axis=1)\n",
    "test_dataset = test_dataset.drop(\"tpep_pickup_datetime\",axis=1)\n",
    "test_dataset = test_dataset.drop(\"tpep_dropoff_datetime\",axis=1)"
   ]
  },
  {
   "cell_type": "code",
   "execution_count": 120,
   "metadata": {},
   "outputs": [],
   "source": [
    "dataset = dataset.drop(\"Unnamed: 0\",axis=1)\n",
    "test_dataset = test_dataset.drop(\"ID\",axis=1)"
   ]
  },
  {
   "cell_type": "markdown",
   "metadata": {},
   "source": [
    "#### Delete Other useless features"
   ]
  },
  {
   "cell_type": "code",
   "execution_count": 121,
   "metadata": {},
   "outputs": [],
   "source": [
    "dataset = dataset.drop(\"VendorID\",axis=1)\n",
    "test_dataset = test_dataset.drop(\"VendorID\",axis=1)"
   ]
  },
  {
   "cell_type": "code",
   "execution_count": 122,
   "metadata": {},
   "outputs": [],
   "source": [
    "dataset = dataset.drop(\"passenger_count\",axis=1)\n",
    "test_dataset = test_dataset.drop(\"passenger_count\",axis=1)"
   ]
  },
  {
   "cell_type": "code",
   "execution_count": 123,
   "metadata": {},
   "outputs": [],
   "source": [
    "dataset = dataset.drop(\"store_and_fwd_flag\",axis=1)\n",
    "test_dataset = test_dataset.drop(\"store_and_fwd_flag\",axis=1)"
   ]
  },
  {
   "cell_type": "code",
   "execution_count": 124,
   "metadata": {},
   "outputs": [],
   "source": [
    "dataset = dataset.drop(\"dropoff_longitude\",axis=1)\n",
    "test_dataset = test_dataset.drop(\"dropoff_longitude\",axis=1)"
   ]
  },
  {
   "cell_type": "code",
   "execution_count": 125,
   "metadata": {},
   "outputs": [],
   "source": [
    "dataset = dataset.drop(\"dropoff_latitude\",axis=1)\n",
    "test_dataset = test_dataset.drop(\"dropoff_latitude\",axis=1)"
   ]
  },
  {
   "cell_type": "code",
   "execution_count": 126,
   "metadata": {},
   "outputs": [],
   "source": [
    "dataset = dataset.drop(\"pickup_longitude\",axis=1)\n",
    "test_dataset = test_dataset.drop(\"pickup_longitude\",axis=1)"
   ]
  },
  {
   "cell_type": "code",
   "execution_count": 127,
   "metadata": {},
   "outputs": [],
   "source": [
    "dataset = dataset.drop(\"pickup_latitude\",axis=1)\n",
    "test_dataset = test_dataset.drop(\"pickup_latitude\",axis=1)"
   ]
  },
  {
   "cell_type": "code",
   "execution_count": 128,
   "metadata": {},
   "outputs": [
    {
     "data": {
      "text/plain": [
       "(1113547, 8)"
      ]
     },
     "execution_count": 128,
     "metadata": {},
     "output_type": "execute_result"
    }
   ],
   "source": [
    "dataset.shape"
   ]
  },
  {
   "cell_type": "code",
   "execution_count": 283,
   "metadata": {},
   "outputs": [
    {
     "data": {
      "text/plain": [
       "(64000, 13)"
      ]
     },
     "execution_count": 283,
     "metadata": {},
     "output_type": "execute_result"
    }
   ],
   "source": [
    "test_dataset.shape"
   ]
  },
  {
   "cell_type": "markdown",
   "metadata": {},
   "source": [
    "### Split into features and labels"
   ]
  },
  {
   "cell_type": "code",
   "execution_count": 129,
   "metadata": {},
   "outputs": [],
   "source": [
    "features = dataset.drop(\"total_amount\",axis = 1)\n",
    "labels = dataset[\"total_amount\"]"
   ]
  },
  {
   "cell_type": "markdown",
   "metadata": {},
   "source": [
    "### Normalize"
   ]
  },
  {
   "cell_type": "code",
   "execution_count": 107,
   "metadata": {},
   "outputs": [
    {
     "data": {
      "text/html": [
       "<div>\n",
       "<style scoped>\n",
       "    .dataframe tbody tr th:only-of-type {\n",
       "        vertical-align: middle;\n",
       "    }\n",
       "\n",
       "    .dataframe tbody tr th {\n",
       "        vertical-align: top;\n",
       "    }\n",
       "\n",
       "    .dataframe thead th {\n",
       "        text-align: right;\n",
       "    }\n",
       "</style>\n",
       "<table border=\"1\" class=\"dataframe\">\n",
       "  <thead>\n",
       "    <tr style=\"text-align: right;\">\n",
       "      <th></th>\n",
       "      <th>VendorID</th>\n",
       "      <th>passenger_count</th>\n",
       "      <th>trip_distance</th>\n",
       "      <th>pickup_longitude</th>\n",
       "      <th>pickup_latitude</th>\n",
       "      <th>RatecodeID</th>\n",
       "      <th>store_and_fwd_flag</th>\n",
       "      <th>dropoff_longitude</th>\n",
       "      <th>dropoff_latitude</th>\n",
       "      <th>payment_type</th>\n",
       "      <th>tolls_amount</th>\n",
       "      <th>improvement_surcharge</th>\n",
       "      <th>dropoff_sector</th>\n",
       "      <th>pickup_sector</th>\n",
       "    </tr>\n",
       "  </thead>\n",
       "  <tbody>\n",
       "    <tr>\n",
       "      <th>count</th>\n",
       "      <td>1.113547e+06</td>\n",
       "      <td>1.113547e+06</td>\n",
       "      <td>1.113547e+06</td>\n",
       "      <td>1.113547e+06</td>\n",
       "      <td>1.113547e+06</td>\n",
       "      <td>1.113547e+06</td>\n",
       "      <td>1.113547e+06</td>\n",
       "      <td>1.113547e+06</td>\n",
       "      <td>1.113547e+06</td>\n",
       "      <td>1.113547e+06</td>\n",
       "      <td>1.113547e+06</td>\n",
       "      <td>1.113547e+06</td>\n",
       "      <td>1.113547e+06</td>\n",
       "      <td>1.113547e+06</td>\n",
       "    </tr>\n",
       "    <tr>\n",
       "      <th>mean</th>\n",
       "      <td>5.291883e-01</td>\n",
       "      <td>1.841425e-01</td>\n",
       "      <td>5.992735e-03</td>\n",
       "      <td>3.707883e-01</td>\n",
       "      <td>6.279231e-01</td>\n",
       "      <td>4.458359e-04</td>\n",
       "      <td>6.014115e-03</td>\n",
       "      <td>1.898580e-01</td>\n",
       "      <td>8.712778e-01</td>\n",
       "      <td>1.165417e-01</td>\n",
       "      <td>1.835354e-02</td>\n",
       "      <td>4.836016e-01</td>\n",
       "      <td>1.383146e-01</td>\n",
       "      <td>5.999634e-01</td>\n",
       "    </tr>\n",
       "    <tr>\n",
       "      <th>std</th>\n",
       "      <td>4.991475e-01</td>\n",
       "      <td>1.447360e-01</td>\n",
       "      <td>7.550833e-03</td>\n",
       "      <td>7.036071e-02</td>\n",
       "      <td>7.021593e-02</td>\n",
       "      <td>5.982390e-03</td>\n",
       "      <td>7.731721e-02</td>\n",
       "      <td>3.545030e-02</td>\n",
       "      <td>9.349306e-02</td>\n",
       "      <td>1.649274e-01</td>\n",
       "      <td>2.948897e-03</td>\n",
       "      <td>1.088772e-02</td>\n",
       "      <td>3.757112e-02</td>\n",
       "      <td>4.473740e-02</td>\n",
       "    </tr>\n",
       "    <tr>\n",
       "      <th>min</th>\n",
       "      <td>0.000000e+00</td>\n",
       "      <td>0.000000e+00</td>\n",
       "      <td>0.000000e+00</td>\n",
       "      <td>0.000000e+00</td>\n",
       "      <td>0.000000e+00</td>\n",
       "      <td>0.000000e+00</td>\n",
       "      <td>0.000000e+00</td>\n",
       "      <td>0.000000e+00</td>\n",
       "      <td>0.000000e+00</td>\n",
       "      <td>0.000000e+00</td>\n",
       "      <td>0.000000e+00</td>\n",
       "      <td>0.000000e+00</td>\n",
       "      <td>0.000000e+00</td>\n",
       "      <td>0.000000e+00</td>\n",
       "    </tr>\n",
       "    <tr>\n",
       "      <th>25%</th>\n",
       "      <td>0.000000e+00</td>\n",
       "      <td>1.111111e-01</td>\n",
       "      <td>1.978239e-03</td>\n",
       "      <td>3.627604e-01</td>\n",
       "      <td>6.355510e-01</td>\n",
       "      <td>0.000000e+00</td>\n",
       "      <td>0.000000e+00</td>\n",
       "      <td>1.859726e-01</td>\n",
       "      <td>8.809472e-01</td>\n",
       "      <td>0.000000e+00</td>\n",
       "      <td>1.778154e-02</td>\n",
       "      <td>4.838710e-01</td>\n",
       "      <td>1.341414e-01</td>\n",
       "      <td>5.948039e-01</td>\n",
       "    </tr>\n",
       "    <tr>\n",
       "      <th>50%</th>\n",
       "      <td>1.000000e+00</td>\n",
       "      <td>1.111111e-01</td>\n",
       "      <td>3.382789e-03</td>\n",
       "      <td>3.628502e-01</td>\n",
       "      <td>6.358166e-01</td>\n",
       "      <td>0.000000e+00</td>\n",
       "      <td>0.000000e+00</td>\n",
       "      <td>1.860261e-01</td>\n",
       "      <td>8.813617e-01</td>\n",
       "      <td>0.000000e+00</td>\n",
       "      <td>1.778154e-02</td>\n",
       "      <td>4.838710e-01</td>\n",
       "      <td>1.342324e-01</td>\n",
       "      <td>5.948981e-01</td>\n",
       "    </tr>\n",
       "    <tr>\n",
       "      <th>75%</th>\n",
       "      <td>1.000000e+00</td>\n",
       "      <td>2.222222e-01</td>\n",
       "      <td>6.369931e-03</td>\n",
       "      <td>3.629806e-01</td>\n",
       "      <td>6.360459e-01</td>\n",
       "      <td>0.000000e+00</td>\n",
       "      <td>0.000000e+00</td>\n",
       "      <td>1.861046e-01</td>\n",
       "      <td>8.816955e-01</td>\n",
       "      <td>3.333333e-01</td>\n",
       "      <td>1.778154e-02</td>\n",
       "      <td>4.838710e-01</td>\n",
       "      <td>1.343720e-01</td>\n",
       "      <td>5.950374e-01</td>\n",
       "    </tr>\n",
       "    <tr>\n",
       "      <th>max</th>\n",
       "      <td>1.000000e+00</td>\n",
       "      <td>1.000000e+00</td>\n",
       "      <td>1.000000e+00</td>\n",
       "      <td>1.000000e+00</td>\n",
       "      <td>1.000000e+00</td>\n",
       "      <td>1.000000e+00</td>\n",
       "      <td>1.000000e+00</td>\n",
       "      <td>1.000000e+00</td>\n",
       "      <td>1.000000e+00</td>\n",
       "      <td>1.000000e+00</td>\n",
       "      <td>1.000000e+00</td>\n",
       "      <td>1.000000e+00</td>\n",
       "      <td>1.000000e+00</td>\n",
       "      <td>1.000000e+00</td>\n",
       "    </tr>\n",
       "  </tbody>\n",
       "</table>\n",
       "</div>"
      ],
      "text/plain": [
       "           VendorID  passenger_count  trip_distance  pickup_longitude  \\\n",
       "count  1.113547e+06     1.113547e+06   1.113547e+06      1.113547e+06   \n",
       "mean   5.291883e-01     1.841425e-01   5.992735e-03      3.707883e-01   \n",
       "std    4.991475e-01     1.447360e-01   7.550833e-03      7.036071e-02   \n",
       "min    0.000000e+00     0.000000e+00   0.000000e+00      0.000000e+00   \n",
       "25%    0.000000e+00     1.111111e-01   1.978239e-03      3.627604e-01   \n",
       "50%    1.000000e+00     1.111111e-01   3.382789e-03      3.628502e-01   \n",
       "75%    1.000000e+00     2.222222e-01   6.369931e-03      3.629806e-01   \n",
       "max    1.000000e+00     1.000000e+00   1.000000e+00      1.000000e+00   \n",
       "\n",
       "       pickup_latitude    RatecodeID  store_and_fwd_flag  dropoff_longitude  \\\n",
       "count     1.113547e+06  1.113547e+06        1.113547e+06       1.113547e+06   \n",
       "mean      6.279231e-01  4.458359e-04        6.014115e-03       1.898580e-01   \n",
       "std       7.021593e-02  5.982390e-03        7.731721e-02       3.545030e-02   \n",
       "min       0.000000e+00  0.000000e+00        0.000000e+00       0.000000e+00   \n",
       "25%       6.355510e-01  0.000000e+00        0.000000e+00       1.859726e-01   \n",
       "50%       6.358166e-01  0.000000e+00        0.000000e+00       1.860261e-01   \n",
       "75%       6.360459e-01  0.000000e+00        0.000000e+00       1.861046e-01   \n",
       "max       1.000000e+00  1.000000e+00        1.000000e+00       1.000000e+00   \n",
       "\n",
       "       dropoff_latitude  payment_type  tolls_amount  improvement_surcharge  \\\n",
       "count      1.113547e+06  1.113547e+06  1.113547e+06           1.113547e+06   \n",
       "mean       8.712778e-01  1.165417e-01  1.835354e-02           4.836016e-01   \n",
       "std        9.349306e-02  1.649274e-01  2.948897e-03           1.088772e-02   \n",
       "min        0.000000e+00  0.000000e+00  0.000000e+00           0.000000e+00   \n",
       "25%        8.809472e-01  0.000000e+00  1.778154e-02           4.838710e-01   \n",
       "50%        8.813617e-01  0.000000e+00  1.778154e-02           4.838710e-01   \n",
       "75%        8.816955e-01  3.333333e-01  1.778154e-02           4.838710e-01   \n",
       "max        1.000000e+00  1.000000e+00  1.000000e+00           1.000000e+00   \n",
       "\n",
       "       dropoff_sector  pickup_sector  \n",
       "count    1.113547e+06   1.113547e+06  \n",
       "mean     1.383146e-01   5.999634e-01  \n",
       "std      3.757112e-02   4.473740e-02  \n",
       "min      0.000000e+00   0.000000e+00  \n",
       "25%      1.341414e-01   5.948039e-01  \n",
       "50%      1.342324e-01   5.948981e-01  \n",
       "75%      1.343720e-01   5.950374e-01  \n",
       "max      1.000000e+00   1.000000e+00  "
      ]
     },
     "execution_count": 107,
     "metadata": {},
     "output_type": "execute_result"
    }
   ],
   "source": [
    "from sklearn import preprocessing\n",
    "import pandas as pd\n",
    "min_max_scaler = preprocessing.MinMaxScaler()\n",
    "x_scaled = min_max_scaler.fit_transform(features)\n",
    "features = pd.DataFrame(x_scaled)\n",
    "features.columns = list( dataset.drop(\"total_amount\",axis = 1).columns.values)\n",
    "features.describe()"
   ]
  },
  {
   "cell_type": "code",
   "execution_count": 108,
   "metadata": {},
   "outputs": [
    {
     "data": {
      "text/html": [
       "<div>\n",
       "<style scoped>\n",
       "    .dataframe tbody tr th:only-of-type {\n",
       "        vertical-align: middle;\n",
       "    }\n",
       "\n",
       "    .dataframe tbody tr th {\n",
       "        vertical-align: top;\n",
       "    }\n",
       "\n",
       "    .dataframe thead th {\n",
       "        text-align: right;\n",
       "    }\n",
       "</style>\n",
       "<table border=\"1\" class=\"dataframe\">\n",
       "  <thead>\n",
       "    <tr style=\"text-align: right;\">\n",
       "      <th></th>\n",
       "      <th>0</th>\n",
       "      <th>1</th>\n",
       "      <th>2</th>\n",
       "      <th>3</th>\n",
       "      <th>4</th>\n",
       "      <th>5</th>\n",
       "      <th>6</th>\n",
       "      <th>7</th>\n",
       "      <th>8</th>\n",
       "      <th>9</th>\n",
       "      <th>10</th>\n",
       "      <th>11</th>\n",
       "    </tr>\n",
       "  </thead>\n",
       "  <tbody>\n",
       "    <tr>\n",
       "      <th>count</th>\n",
       "      <td>64000.000000</td>\n",
       "      <td>64000.000000</td>\n",
       "      <td>64000.000000</td>\n",
       "      <td>64000.000000</td>\n",
       "      <td>64000.000000</td>\n",
       "      <td>64000.000000</td>\n",
       "      <td>64000.000000</td>\n",
       "      <td>64000.000000</td>\n",
       "      <td>64000.000000</td>\n",
       "      <td>64000.000000</td>\n",
       "      <td>64000.000000</td>\n",
       "      <td>64000.000000</td>\n",
       "    </tr>\n",
       "    <tr>\n",
       "      <th>mean</th>\n",
       "      <td>0.532219</td>\n",
       "      <td>0.187035</td>\n",
       "      <td>0.068615</td>\n",
       "      <td>0.527210</td>\n",
       "      <td>0.386653</td>\n",
       "      <td>0.101562</td>\n",
       "      <td>0.006719</td>\n",
       "      <td>0.399365</td>\n",
       "      <td>0.434075</td>\n",
       "      <td>0.113312</td>\n",
       "      <td>0.018011</td>\n",
       "      <td>0.999953</td>\n",
       "    </tr>\n",
       "    <tr>\n",
       "      <th>std</th>\n",
       "      <td>0.498965</td>\n",
       "      <td>0.146150</td>\n",
       "      <td>0.084444</td>\n",
       "      <td>0.037209</td>\n",
       "      <td>0.034539</td>\n",
       "      <td>0.228442</td>\n",
       "      <td>0.081693</td>\n",
       "      <td>0.039911</td>\n",
       "      <td>0.039058</td>\n",
       "      <td>0.164931</td>\n",
       "      <td>0.043359</td>\n",
       "      <td>0.006846</td>\n",
       "    </tr>\n",
       "    <tr>\n",
       "      <th>min</th>\n",
       "      <td>0.000000</td>\n",
       "      <td>0.000000</td>\n",
       "      <td>0.000000</td>\n",
       "      <td>0.000000</td>\n",
       "      <td>0.000000</td>\n",
       "      <td>0.000000</td>\n",
       "      <td>0.000000</td>\n",
       "      <td>0.000000</td>\n",
       "      <td>0.000000</td>\n",
       "      <td>0.000000</td>\n",
       "      <td>0.000000</td>\n",
       "      <td>0.000000</td>\n",
       "    </tr>\n",
       "    <tr>\n",
       "      <th>25%</th>\n",
       "      <td>0.000000</td>\n",
       "      <td>0.111111</td>\n",
       "      <td>0.013950</td>\n",
       "      <td>0.508760</td>\n",
       "      <td>0.375367</td>\n",
       "      <td>0.000000</td>\n",
       "      <td>0.000000</td>\n",
       "      <td>0.390718</td>\n",
       "      <td>0.416796</td>\n",
       "      <td>0.000000</td>\n",
       "      <td>0.000000</td>\n",
       "      <td>1.000000</td>\n",
       "    </tr>\n",
       "    <tr>\n",
       "      <th>50%</th>\n",
       "      <td>1.000000</td>\n",
       "      <td>0.111111</td>\n",
       "      <td>0.026244</td>\n",
       "      <td>0.515341</td>\n",
       "      <td>0.393662</td>\n",
       "      <td>0.000000</td>\n",
       "      <td>0.000000</td>\n",
       "      <td>0.397089</td>\n",
       "      <td>0.438043</td>\n",
       "      <td>0.000000</td>\n",
       "      <td>0.000000</td>\n",
       "      <td>1.000000</td>\n",
       "    </tr>\n",
       "    <tr>\n",
       "      <th>75%</th>\n",
       "      <td>1.000000</td>\n",
       "      <td>0.222222</td>\n",
       "      <td>0.090909</td>\n",
       "      <td>0.526540</td>\n",
       "      <td>0.406958</td>\n",
       "      <td>0.000000</td>\n",
       "      <td>0.000000</td>\n",
       "      <td>0.406449</td>\n",
       "      <td>0.452134</td>\n",
       "      <td>0.333333</td>\n",
       "      <td>0.000000</td>\n",
       "      <td>1.000000</td>\n",
       "    </tr>\n",
       "    <tr>\n",
       "      <th>max</th>\n",
       "      <td>1.000000</td>\n",
       "      <td>1.000000</td>\n",
       "      <td>1.000000</td>\n",
       "      <td>1.000000</td>\n",
       "      <td>1.000000</td>\n",
       "      <td>1.000000</td>\n",
       "      <td>1.000000</td>\n",
       "      <td>1.000000</td>\n",
       "      <td>1.000000</td>\n",
       "      <td>1.000000</td>\n",
       "      <td>1.000000</td>\n",
       "      <td>1.000000</td>\n",
       "    </tr>\n",
       "  </tbody>\n",
       "</table>\n",
       "</div>"
      ],
      "text/plain": [
       "                 0             1             2             3             4   \\\n",
       "count  64000.000000  64000.000000  64000.000000  64000.000000  64000.000000   \n",
       "mean       0.532219      0.187035      0.068615      0.527210      0.386653   \n",
       "std        0.498965      0.146150      0.084444      0.037209      0.034539   \n",
       "min        0.000000      0.000000      0.000000      0.000000      0.000000   \n",
       "25%        0.000000      0.111111      0.013950      0.508760      0.375367   \n",
       "50%        1.000000      0.111111      0.026244      0.515341      0.393662   \n",
       "75%        1.000000      0.222222      0.090909      0.526540      0.406958   \n",
       "max        1.000000      1.000000      1.000000      1.000000      1.000000   \n",
       "\n",
       "                 5             6             7             8             9   \\\n",
       "count  64000.000000  64000.000000  64000.000000  64000.000000  64000.000000   \n",
       "mean       0.101562      0.006719      0.399365      0.434075      0.113312   \n",
       "std        0.228442      0.081693      0.039911      0.039058      0.164931   \n",
       "min        0.000000      0.000000      0.000000      0.000000      0.000000   \n",
       "25%        0.000000      0.000000      0.390718      0.416796      0.000000   \n",
       "50%        0.000000      0.000000      0.397089      0.438043      0.000000   \n",
       "75%        0.000000      0.000000      0.406449      0.452134      0.333333   \n",
       "max        1.000000      1.000000      1.000000      1.000000      1.000000   \n",
       "\n",
       "                 10            11  \n",
       "count  64000.000000  64000.000000  \n",
       "mean       0.018011      0.999953  \n",
       "std        0.043359      0.006846  \n",
       "min        0.000000      0.000000  \n",
       "25%        0.000000      1.000000  \n",
       "50%        0.000000      1.000000  \n",
       "75%        0.000000      1.000000  \n",
       "max        1.000000      1.000000  "
      ]
     },
     "execution_count": 108,
     "metadata": {},
     "output_type": "execute_result"
    }
   ],
   "source": [
    "min_max_scaler = preprocessing.MinMaxScaler()\n",
    "x_scaled = min_max_scaler.fit_transform(test_dataset)\n",
    "test_dataset = pd.DataFrame(x_scaled)\n",
    "test_dataset.describe()"
   ]
  },
  {
   "cell_type": "markdown",
   "metadata": {},
   "source": [
    "## Model Training and Testing"
   ]
  },
  {
   "cell_type": "code",
   "execution_count": 130,
   "metadata": {},
   "outputs": [],
   "source": [
    "from sklearn.model_selection import train_test_split\n",
    "X_train, X_test, y_train, y_test = train_test_split(\n",
    "    features, labels, test_size=0.25, random_state=0)"
   ]
  },
  {
   "cell_type": "code",
   "execution_count": 131,
   "metadata": {},
   "outputs": [
    {
     "data": {
      "text/plain": [
       "LinearRegression(copy_X=True, fit_intercept=True, n_jobs=1, normalize=False)"
      ]
     },
     "execution_count": 131,
     "metadata": {},
     "output_type": "execute_result"
    }
   ],
   "source": [
    "from sklearn.linear_model import LinearRegression\n",
    "linearRegression = LinearRegression()\n",
    "linearRegression.fit(X_train,y_train)"
   ]
  },
  {
   "cell_type": "code",
   "execution_count": 132,
   "metadata": {},
   "outputs": [
    {
     "name": "stdout",
     "output_type": "stream",
     "text": [
      "MAE: 2.803719224294728\n"
     ]
    }
   ],
   "source": [
    "from sklearn.metrics import mean_absolute_error\n",
    "y_pred = linearRegression.predict(X_test)\n",
    "print(\"MAE:\",mean_absolute_error(y_pred,y_test))"
   ]
  },
  {
   "cell_type": "code",
   "execution_count": 101,
   "metadata": {},
   "outputs": [
    {
     "data": {
      "text/html": [
       "<div>\n",
       "<style scoped>\n",
       "    .dataframe tbody tr th:only-of-type {\n",
       "        vertical-align: middle;\n",
       "    }\n",
       "\n",
       "    .dataframe tbody tr th {\n",
       "        vertical-align: top;\n",
       "    }\n",
       "\n",
       "    .dataframe thead th {\n",
       "        text-align: right;\n",
       "    }\n",
       "</style>\n",
       "<table border=\"1\" class=\"dataframe\">\n",
       "  <thead>\n",
       "    <tr style=\"text-align: right;\">\n",
       "      <th></th>\n",
       "      <th>0</th>\n",
       "    </tr>\n",
       "  </thead>\n",
       "  <tbody>\n",
       "    <tr>\n",
       "      <th>count</th>\n",
       "      <td>278387.000000</td>\n",
       "    </tr>\n",
       "    <tr>\n",
       "      <th>mean</th>\n",
       "      <td>16.641278</td>\n",
       "    </tr>\n",
       "    <tr>\n",
       "      <th>std</th>\n",
       "      <td>21.239503</td>\n",
       "    </tr>\n",
       "    <tr>\n",
       "      <th>min</th>\n",
       "      <td>-200.824937</td>\n",
       "    </tr>\n",
       "    <tr>\n",
       "      <th>25%</th>\n",
       "      <td>8.796006</td>\n",
       "    </tr>\n",
       "    <tr>\n",
       "      <th>50%</th>\n",
       "      <td>12.302814</td>\n",
       "    </tr>\n",
       "    <tr>\n",
       "      <th>75%</th>\n",
       "      <td>18.366205</td>\n",
       "    </tr>\n",
       "    <tr>\n",
       "      <th>max</th>\n",
       "      <td>8453.632134</td>\n",
       "    </tr>\n",
       "  </tbody>\n",
       "</table>\n",
       "</div>"
      ],
      "text/plain": [
       "                   0\n",
       "count  278387.000000\n",
       "mean       16.641278\n",
       "std        21.239503\n",
       "min      -200.824937\n",
       "25%         8.796006\n",
       "50%        12.302814\n",
       "75%        18.366205\n",
       "max      8453.632134"
      ]
     },
     "execution_count": 101,
     "metadata": {},
     "output_type": "execute_result"
    }
   ],
   "source": [
    "pd.DataFrame(y_pred).describe()"
   ]
  },
  {
   "cell_type": "code",
   "execution_count": 220,
   "metadata": {},
   "outputs": [
    {
     "data": {
      "text/html": [
       "<div>\n",
       "<style scoped>\n",
       "    .dataframe tbody tr th:only-of-type {\n",
       "        vertical-align: middle;\n",
       "    }\n",
       "\n",
       "    .dataframe tbody tr th {\n",
       "        vertical-align: top;\n",
       "    }\n",
       "\n",
       "    .dataframe thead th {\n",
       "        text-align: right;\n",
       "    }\n",
       "</style>\n",
       "<table border=\"1\" class=\"dataframe\">\n",
       "  <thead>\n",
       "    <tr style=\"text-align: right;\">\n",
       "      <th></th>\n",
       "      <th>total_amount</th>\n",
       "    </tr>\n",
       "  </thead>\n",
       "  <tbody>\n",
       "    <tr>\n",
       "      <th>count</th>\n",
       "      <td>55678.000000</td>\n",
       "    </tr>\n",
       "    <tr>\n",
       "      <th>mean</th>\n",
       "      <td>16.725821</td>\n",
       "    </tr>\n",
       "    <tr>\n",
       "      <th>std</th>\n",
       "      <td>14.238415</td>\n",
       "    </tr>\n",
       "    <tr>\n",
       "      <th>min</th>\n",
       "      <td>-105.800000</td>\n",
       "    </tr>\n",
       "    <tr>\n",
       "      <th>25%</th>\n",
       "      <td>8.800000</td>\n",
       "    </tr>\n",
       "    <tr>\n",
       "      <th>50%</th>\n",
       "      <td>12.300000</td>\n",
       "    </tr>\n",
       "    <tr>\n",
       "      <th>75%</th>\n",
       "      <td>18.360000</td>\n",
       "    </tr>\n",
       "    <tr>\n",
       "      <th>max</th>\n",
       "      <td>360.350000</td>\n",
       "    </tr>\n",
       "  </tbody>\n",
       "</table>\n",
       "</div>"
      ],
      "text/plain": [
       "       total_amount\n",
       "count  55678.000000\n",
       "mean      16.725821\n",
       "std       14.238415\n",
       "min     -105.800000\n",
       "25%        8.800000\n",
       "50%       12.300000\n",
       "75%       18.360000\n",
       "max      360.350000"
      ]
     },
     "execution_count": 220,
     "metadata": {},
     "output_type": "execute_result"
    }
   ],
   "source": [
    "pd.DataFrame(y_test).describe()"
   ]
  },
  {
   "cell_type": "code",
   "execution_count": 221,
   "metadata": {},
   "outputs": [
    {
     "data": {
      "text/html": [
       "<div>\n",
       "<style scoped>\n",
       "    .dataframe tbody tr th:only-of-type {\n",
       "        vertical-align: middle;\n",
       "    }\n",
       "\n",
       "    .dataframe tbody tr th {\n",
       "        vertical-align: top;\n",
       "    }\n",
       "\n",
       "    .dataframe thead th {\n",
       "        text-align: right;\n",
       "    }\n",
       "</style>\n",
       "<table border=\"1\" class=\"dataframe\">\n",
       "  <thead>\n",
       "    <tr style=\"text-align: right;\">\n",
       "      <th></th>\n",
       "      <th>total_amount</th>\n",
       "    </tr>\n",
       "  </thead>\n",
       "  <tbody>\n",
       "    <tr>\n",
       "      <th>116191</th>\n",
       "      <td>15.30</td>\n",
       "    </tr>\n",
       "    <tr>\n",
       "      <th>87604</th>\n",
       "      <td>20.16</td>\n",
       "    </tr>\n",
       "    <tr>\n",
       "      <th>12915</th>\n",
       "      <td>20.30</td>\n",
       "    </tr>\n",
       "    <tr>\n",
       "      <th>146437</th>\n",
       "      <td>7.80</td>\n",
       "    </tr>\n",
       "    <tr>\n",
       "      <th>63784</th>\n",
       "      <td>9.36</td>\n",
       "    </tr>\n",
       "  </tbody>\n",
       "</table>\n",
       "</div>"
      ],
      "text/plain": [
       "        total_amount\n",
       "116191         15.30\n",
       "87604          20.16\n",
       "12915          20.30\n",
       "146437          7.80\n",
       "63784           9.36"
      ]
     },
     "execution_count": 221,
     "metadata": {},
     "output_type": "execute_result"
    }
   ],
   "source": [
    "pd.DataFrame(y_test).head()"
   ]
  },
  {
   "cell_type": "code",
   "execution_count": 222,
   "metadata": {},
   "outputs": [
    {
     "data": {
      "text/html": [
       "<div>\n",
       "<style scoped>\n",
       "    .dataframe tbody tr th:only-of-type {\n",
       "        vertical-align: middle;\n",
       "    }\n",
       "\n",
       "    .dataframe tbody tr th {\n",
       "        vertical-align: top;\n",
       "    }\n",
       "\n",
       "    .dataframe thead th {\n",
       "        text-align: right;\n",
       "    }\n",
       "</style>\n",
       "<table border=\"1\" class=\"dataframe\">\n",
       "  <thead>\n",
       "    <tr style=\"text-align: right;\">\n",
       "      <th></th>\n",
       "      <th>0</th>\n",
       "    </tr>\n",
       "  </thead>\n",
       "  <tbody>\n",
       "    <tr>\n",
       "      <th>0</th>\n",
       "      <td>5.348236</td>\n",
       "    </tr>\n",
       "    <tr>\n",
       "      <th>1</th>\n",
       "      <td>21.494998</td>\n",
       "    </tr>\n",
       "    <tr>\n",
       "      <th>2</th>\n",
       "      <td>12.855161</td>\n",
       "    </tr>\n",
       "    <tr>\n",
       "      <th>3</th>\n",
       "      <td>7.950307</td>\n",
       "    </tr>\n",
       "    <tr>\n",
       "      <th>4</th>\n",
       "      <td>11.405666</td>\n",
       "    </tr>\n",
       "  </tbody>\n",
       "</table>\n",
       "</div>"
      ],
      "text/plain": [
       "           0\n",
       "0   5.348236\n",
       "1  21.494998\n",
       "2  12.855161\n",
       "3   7.950307\n",
       "4  11.405666"
      ]
     },
     "execution_count": 222,
     "metadata": {},
     "output_type": "execute_result"
    }
   ],
   "source": [
    "pd.DataFrame(y_pred).head()"
   ]
  },
  {
   "cell_type": "markdown",
   "metadata": {},
   "source": [
    "### Predicting on test dataset"
   ]
  },
  {
   "cell_type": "code",
   "execution_count": 333,
   "metadata": {},
   "outputs": [],
   "source": [
    "y_pred_test = linearRegression.predict(test_dataset)"
   ]
  },
  {
   "cell_type": "code",
   "execution_count": 334,
   "metadata": {},
   "outputs": [],
   "source": [
    "arange = np.arange(1,y_pred_test.size+1)\n",
    "df = pd.DataFrame({\"ID\" : arange, \"total_amount\" : y_pred_test})\n",
    "df.to_csv(\"result1.csv\", index=False)"
   ]
  },
  {
   "cell_type": "code",
   "execution_count": 61,
   "metadata": {},
   "outputs": [
    {
     "data": {
      "text/html": [
       "<div>\n",
       "<style scoped>\n",
       "    .dataframe tbody tr th:only-of-type {\n",
       "        vertical-align: middle;\n",
       "    }\n",
       "\n",
       "    .dataframe tbody tr th {\n",
       "        vertical-align: top;\n",
       "    }\n",
       "\n",
       "    .dataframe thead th {\n",
       "        text-align: right;\n",
       "    }\n",
       "</style>\n",
       "<table border=\"1\" class=\"dataframe\">\n",
       "  <thead>\n",
       "    <tr style=\"text-align: right;\">\n",
       "      <th></th>\n",
       "      <th>0</th>\n",
       "    </tr>\n",
       "  </thead>\n",
       "  <tbody>\n",
       "    <tr>\n",
       "      <th>count</th>\n",
       "      <td>64000.000000</td>\n",
       "    </tr>\n",
       "    <tr>\n",
       "      <th>mean</th>\n",
       "      <td>30.165834</td>\n",
       "    </tr>\n",
       "    <tr>\n",
       "      <th>std</th>\n",
       "      <td>27.795878</td>\n",
       "    </tr>\n",
       "    <tr>\n",
       "      <th>min</th>\n",
       "      <td>3.017439</td>\n",
       "    </tr>\n",
       "    <tr>\n",
       "      <th>25%</th>\n",
       "      <td>12.705863</td>\n",
       "    </tr>\n",
       "    <tr>\n",
       "      <th>50%</th>\n",
       "      <td>16.206929</td>\n",
       "    </tr>\n",
       "    <tr>\n",
       "      <th>75%</th>\n",
       "      <td>36.743036</td>\n",
       "    </tr>\n",
       "    <tr>\n",
       "      <th>max</th>\n",
       "      <td>280.542595</td>\n",
       "    </tr>\n",
       "  </tbody>\n",
       "</table>\n",
       "</div>"
      ],
      "text/plain": [
       "                  0\n",
       "count  64000.000000\n",
       "mean      30.165834\n",
       "std       27.795878\n",
       "min        3.017439\n",
       "25%       12.705863\n",
       "50%       16.206929\n",
       "75%       36.743036\n",
       "max      280.542595"
      ]
     },
     "execution_count": 61,
     "metadata": {},
     "output_type": "execute_result"
    }
   ],
   "source": [
    "pd.DataFrame(y_pred_test).describe()"
   ]
  },
  {
   "cell_type": "code",
   "execution_count": 62,
   "metadata": {},
   "outputs": [
    {
     "data": {
      "text/plain": [
       "<matplotlib.axes._subplots.AxesSubplot at 0x1b19a8d8ac8>"
      ]
     },
     "execution_count": 62,
     "metadata": {},
     "output_type": "execute_result"
    },
    {
     "data": {
      "image/png": "[encoded data removed]",
      "text/plain": [
       "<matplotlib.figure.Figure at 0x1b192294668>"
      ]
     },
     "metadata": {},
     "output_type": "display_data"
    }
   ],
   "source": [
    "sns.distplot(y_pred_test)"
   ]
  },
  {
   "cell_type": "code",
   "execution_count": 65,
   "metadata": {},
   "outputs": [
    {
     "data": {
      "text/html": [
       "<div>\n",
       "<style scoped>\n",
       "    .dataframe tbody tr th:only-of-type {\n",
       "        vertical-align: middle;\n",
       "    }\n",
       "\n",
       "    .dataframe tbody tr th {\n",
       "        vertical-align: top;\n",
       "    }\n",
       "\n",
       "    .dataframe thead th {\n",
       "        text-align: right;\n",
       "    }\n",
       "</style>\n",
       "<table border=\"1\" class=\"dataframe\">\n",
       "  <thead>\n",
       "    <tr style=\"text-align: right;\">\n",
       "      <th></th>\n",
       "      <th>0</th>\n",
       "    </tr>\n",
       "  </thead>\n",
       "  <tbody>\n",
       "    <tr>\n",
       "      <th>count</th>\n",
       "      <td>64000.000000</td>\n",
       "    </tr>\n",
       "    <tr>\n",
       "      <th>mean</th>\n",
       "      <td>30.165834</td>\n",
       "    </tr>\n",
       "    <tr>\n",
       "      <th>std</th>\n",
       "      <td>27.795878</td>\n",
       "    </tr>\n",
       "    <tr>\n",
       "      <th>min</th>\n",
       "      <td>3.017439</td>\n",
       "    </tr>\n",
       "    <tr>\n",
       "      <th>25%</th>\n",
       "      <td>12.705863</td>\n",
       "    </tr>\n",
       "    <tr>\n",
       "      <th>50%</th>\n",
       "      <td>16.206929</td>\n",
       "    </tr>\n",
       "    <tr>\n",
       "      <th>75%</th>\n",
       "      <td>36.743036</td>\n",
       "    </tr>\n",
       "    <tr>\n",
       "      <th>max</th>\n",
       "      <td>280.542595</td>\n",
       "    </tr>\n",
       "  </tbody>\n",
       "</table>\n",
       "</div>"
      ],
      "text/plain": [
       "                  0\n",
       "count  64000.000000\n",
       "mean      30.165834\n",
       "std       27.795878\n",
       "min        3.017439\n",
       "25%       12.705863\n",
       "50%       16.206929\n",
       "75%       36.743036\n",
       "max      280.542595"
      ]
     },
     "execution_count": 65,
     "metadata": {},
     "output_type": "execute_result"
    }
   ],
   "source": [
    "pd.DataFrame(y_pred_test).describe()"
   ]
  },
  {
   "cell_type": "code",
   "execution_count": null,
   "metadata": {},
   "outputs": [],
   "source": []
  }
 ],
 "metadata": {
  "kernelspec": {
   "display_name": "Python 3",
   "language": "python",
   "name": "python3"
  },
  "language_info": {
   "codemirror_mode": {
    "name": "ipython",
    "version": 3
   },
   "file_extension": ".py",
   "mimetype": "text/x-python",
   "name": "python",
   "nbconvert_exporter": "python",
   "pygments_lexer": "ipython3",
   "version": "3.6.4"
  }
 },
 "nbformat": 4,
 "nbformat_minor": 2
}
