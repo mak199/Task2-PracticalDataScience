{
 "cells": [
  {
   "cell_type": "code",
   "execution_count": 3,
   "metadata": {},
   "outputs": [],
   "source": [
    "import pandas as pd\n",
    "import numpy as np\n",
    "import matplotlib.pyplot as plt\n",
    "import seaborn as sns\n",
    "from sklearn import preprocessing"
   ]
  },
  {
   "cell_type": "code",
   "execution_count": 2,
   "metadata": {},
   "outputs": [],
   "source": [
    "#intial_dataset = pd.read_csv(\"train.csv\")"
   ]
  },
  {
   "cell_type": "code",
   "execution_count": 3,
   "metadata": {},
   "outputs": [],
   "source": [
    "#dataset = pd.read_csv(\"train.csv\")"
   ]
  },
  {
   "cell_type": "code",
   "execution_count": 15,
   "metadata": {},
   "outputs": [],
   "source": [
    "#dataset = intial_dataset.sample(frac = 0.1,random_state=0)"
   ]
  },
  {
   "cell_type": "code",
   "execution_count": 16,
   "metadata": {},
   "outputs": [],
   "source": [
    "#dataset.to_csv(\"dataset_sampled.csv\")"
   ]
  },
  {
   "cell_type": "code",
   "execution_count": 300,
   "metadata": {},
   "outputs": [],
   "source": [
    "dataset = pd.read_csv(\"dataset_sampled.csv\")\n",
    "test_dataset = pd.read_csv(\"test_data_v2.csv\")"
   ]
  },
  {
   "cell_type": "markdown",
   "metadata": {},
   "source": [
    "## Brief Analysis of dataset"
   ]
  },
  {
   "cell_type": "code",
   "execution_count": 250,
   "metadata": {},
   "outputs": [
    {
     "data": {
      "text/plain": [
       "(1107304, 17)"
      ]
     },
     "execution_count": 250,
     "metadata": {},
     "output_type": "execute_result"
    }
   ],
   "source": [
    "dataset.shape"
   ]
  },
  {
   "cell_type": "code",
   "execution_count": 46,
   "metadata": {},
   "outputs": [
    {
     "data": {
      "text/plain": [
       "(64000, 10)"
      ]
     },
     "execution_count": 46,
     "metadata": {},
     "output_type": "execute_result"
    }
   ],
   "source": [
    "test_dataset.shape"
   ]
  },
  {
   "cell_type": "code",
   "execution_count": 249,
   "metadata": {},
   "outputs": [
    {
     "data": {
      "text/html": [
       "<div>\n",
       "<style scoped>\n",
       "    .dataframe tbody tr th:only-of-type {\n",
       "        vertical-align: middle;\n",
       "    }\n",
       "\n",
       "    .dataframe tbody tr th {\n",
       "        vertical-align: top;\n",
       "    }\n",
       "\n",
       "    .dataframe thead th {\n",
       "        text-align: right;\n",
       "    }\n",
       "</style>\n",
       "<table border=\"1\" class=\"dataframe\">\n",
       "  <thead>\n",
       "    <tr style=\"text-align: right;\">\n",
       "      <th></th>\n",
       "      <th>VendorID</th>\n",
       "      <th>passenger_count</th>\n",
       "      <th>trip_distance</th>\n",
       "      <th>pickup_longitude</th>\n",
       "      <th>pickup_latitude</th>\n",
       "      <th>RatecodeID</th>\n",
       "      <th>dropoff_longitude</th>\n",
       "      <th>dropoff_latitude</th>\n",
       "      <th>payment_type</th>\n",
       "      <th>tolls_amount</th>\n",
       "      <th>improvement_surcharge</th>\n",
       "      <th>total_amount</th>\n",
       "      <th>TimeTravelled</th>\n",
       "      <th>Velocity</th>\n",
       "    </tr>\n",
       "  </thead>\n",
       "  <tbody>\n",
       "    <tr>\n",
       "      <th>count</th>\n",
       "      <td>1.107304e+06</td>\n",
       "      <td>1.107304e+06</td>\n",
       "      <td>1.107304e+06</td>\n",
       "      <td>1.107304e+06</td>\n",
       "      <td>1.107304e+06</td>\n",
       "      <td>1.107304e+06</td>\n",
       "      <td>1.107304e+06</td>\n",
       "      <td>1.107304e+06</td>\n",
       "      <td>1.107304e+06</td>\n",
       "      <td>1.107304e+06</td>\n",
       "      <td>1.107304e+06</td>\n",
       "      <td>1.107304e+06</td>\n",
       "      <td>1.107304e+06</td>\n",
       "      <td>1.107304e+06</td>\n",
       "    </tr>\n",
       "    <tr>\n",
       "      <th>mean</th>\n",
       "      <td>1.529133e+00</td>\n",
       "      <td>1.657595e+00</td>\n",
       "      <td>3.000637e+00</td>\n",
       "      <td>-7.307327e+01</td>\n",
       "      <td>4.025516e+01</td>\n",
       "      <td>1.035615e+00</td>\n",
       "      <td>-7.320854e+01</td>\n",
       "      <td>4.033063e+01</td>\n",
       "      <td>1.347634e+00</td>\n",
       "      <td>3.185866e-01</td>\n",
       "      <td>2.999634e-01</td>\n",
       "      <td>1.644471e+01</td>\n",
       "      <td>8.864270e+02</td>\n",
       "      <td>3.179109e-03</td>\n",
       "    </tr>\n",
       "    <tr>\n",
       "      <th>std</th>\n",
       "      <td>4.991508e-01</td>\n",
       "      <td>1.303014e+00</td>\n",
       "      <td>3.611362e+00</td>\n",
       "      <td>8.109715e+00</td>\n",
       "      <td>4.467497e+00</td>\n",
       "      <td>3.771228e-01</td>\n",
       "      <td>7.482537e+00</td>\n",
       "      <td>4.121045e+00</td>\n",
       "      <td>4.918340e-01</td>\n",
       "      <td>1.378180e+00</td>\n",
       "      <td>3.391928e-03</td>\n",
       "      <td>1.296448e+01</td>\n",
       "      <td>7.093391e+02</td>\n",
       "      <td>1.707537e-03</td>\n",
       "    </tr>\n",
       "    <tr>\n",
       "      <th>min</th>\n",
       "      <td>1.000000e+00</td>\n",
       "      <td>0.000000e+00</td>\n",
       "      <td>0.000000e+00</td>\n",
       "      <td>-1.161129e+02</td>\n",
       "      <td>0.000000e+00</td>\n",
       "      <td>1.000000e+00</td>\n",
       "      <td>-1.151684e+02</td>\n",
       "      <td>0.000000e+00</td>\n",
       "      <td>1.000000e+00</td>\n",
       "      <td>0.000000e+00</td>\n",
       "      <td>0.000000e+00</td>\n",
       "      <td>0.000000e+00</td>\n",
       "      <td>1.000000e+00</td>\n",
       "      <td>0.000000e+00</td>\n",
       "    </tr>\n",
       "    <tr>\n",
       "      <th>25%</th>\n",
       "      <td>1.000000e+00</td>\n",
       "      <td>1.000000e+00</td>\n",
       "      <td>1.000000e+00</td>\n",
       "      <td>-7.399177e+01</td>\n",
       "      <td>4.073662e+01</td>\n",
       "      <td>1.000000e+00</td>\n",
       "      <td>-7.399121e+01</td>\n",
       "      <td>4.073513e+01</td>\n",
       "      <td>1.000000e+00</td>\n",
       "      <td>0.000000e+00</td>\n",
       "      <td>3.000000e-01</td>\n",
       "      <td>8.800000e+00</td>\n",
       "      <td>4.130000e+02</td>\n",
       "      <td>2.043388e-03</td>\n",
       "    </tr>\n",
       "    <tr>\n",
       "      <th>50%</th>\n",
       "      <td>2.000000e+00</td>\n",
       "      <td>1.000000e+00</td>\n",
       "      <td>1.710000e+00</td>\n",
       "      <td>-7.398135e+01</td>\n",
       "      <td>4.075362e+01</td>\n",
       "      <td>1.000000e+00</td>\n",
       "      <td>-7.397938e+01</td>\n",
       "      <td>4.075417e+01</td>\n",
       "      <td>1.000000e+00</td>\n",
       "      <td>0.000000e+00</td>\n",
       "      <td>3.000000e-01</td>\n",
       "      <td>1.230000e+01</td>\n",
       "      <td>6.930000e+02</td>\n",
       "      <td>2.831595e-03</td>\n",
       "    </tr>\n",
       "    <tr>\n",
       "      <th>75%</th>\n",
       "      <td>2.000000e+00</td>\n",
       "      <td>2.000000e+00</td>\n",
       "      <td>3.200000e+00</td>\n",
       "      <td>-7.396624e+01</td>\n",
       "      <td>4.076831e+01</td>\n",
       "      <td>1.000000e+00</td>\n",
       "      <td>-7.396208e+01</td>\n",
       "      <td>4.076956e+01</td>\n",
       "      <td>2.000000e+00</td>\n",
       "      <td>0.000000e+00</td>\n",
       "      <td>3.000000e-01</td>\n",
       "      <td>1.836000e+01</td>\n",
       "      <td>1.135000e+03</td>\n",
       "      <td>3.872633e-03</td>\n",
       "    </tr>\n",
       "    <tr>\n",
       "      <th>max</th>\n",
       "      <td>2.000000e+00</td>\n",
       "      <td>9.000000e+00</td>\n",
       "      <td>7.325000e+01</td>\n",
       "      <td>0.000000e+00</td>\n",
       "      <td>6.409648e+01</td>\n",
       "      <td>9.900000e+01</td>\n",
       "      <td>1.062469e+02</td>\n",
       "      <td>4.623993e+01</td>\n",
       "      <td>4.000000e+00</td>\n",
       "      <td>7.000000e+01</td>\n",
       "      <td>9.400000e-01</td>\n",
       "      <td>1.000000e+02</td>\n",
       "      <td>9.998000e+03</td>\n",
       "      <td>2.068966e-02</td>\n",
       "    </tr>\n",
       "  </tbody>\n",
       "</table>\n",
       "</div>"
      ],
      "text/plain": [
       "           VendorID  passenger_count  trip_distance  pickup_longitude  \\\n",
       "count  1.107304e+06     1.107304e+06   1.107304e+06      1.107304e+06   \n",
       "mean   1.529133e+00     1.657595e+00   3.000637e+00     -7.307327e+01   \n",
       "std    4.991508e-01     1.303014e+00   3.611362e+00      8.109715e+00   \n",
       "min    1.000000e+00     0.000000e+00   0.000000e+00     -1.161129e+02   \n",
       "25%    1.000000e+00     1.000000e+00   1.000000e+00     -7.399177e+01   \n",
       "50%    2.000000e+00     1.000000e+00   1.710000e+00     -7.398135e+01   \n",
       "75%    2.000000e+00     2.000000e+00   3.200000e+00     -7.396624e+01   \n",
       "max    2.000000e+00     9.000000e+00   7.325000e+01      0.000000e+00   \n",
       "\n",
       "       pickup_latitude    RatecodeID  dropoff_longitude  dropoff_latitude  \\\n",
       "count     1.107304e+06  1.107304e+06       1.107304e+06      1.107304e+06   \n",
       "mean      4.025516e+01  1.035615e+00      -7.320854e+01      4.033063e+01   \n",
       "std       4.467497e+00  3.771228e-01       7.482537e+00      4.121045e+00   \n",
       "min       0.000000e+00  1.000000e+00      -1.151684e+02      0.000000e+00   \n",
       "25%       4.073662e+01  1.000000e+00      -7.399121e+01      4.073513e+01   \n",
       "50%       4.075362e+01  1.000000e+00      -7.397938e+01      4.075417e+01   \n",
       "75%       4.076831e+01  1.000000e+00      -7.396208e+01      4.076956e+01   \n",
       "max       6.409648e+01  9.900000e+01       1.062469e+02      4.623993e+01   \n",
       "\n",
       "       payment_type  tolls_amount  improvement_surcharge  total_amount  \\\n",
       "count  1.107304e+06  1.107304e+06           1.107304e+06  1.107304e+06   \n",
       "mean   1.347634e+00  3.185866e-01           2.999634e-01  1.644471e+01   \n",
       "std    4.918340e-01  1.378180e+00           3.391928e-03  1.296448e+01   \n",
       "min    1.000000e+00  0.000000e+00           0.000000e+00  0.000000e+00   \n",
       "25%    1.000000e+00  0.000000e+00           3.000000e-01  8.800000e+00   \n",
       "50%    1.000000e+00  0.000000e+00           3.000000e-01  1.230000e+01   \n",
       "75%    2.000000e+00  0.000000e+00           3.000000e-01  1.836000e+01   \n",
       "max    4.000000e+00  7.000000e+01           9.400000e-01  1.000000e+02   \n",
       "\n",
       "       TimeTravelled      Velocity  \n",
       "count   1.107304e+06  1.107304e+06  \n",
       "mean    8.864270e+02  3.179109e-03  \n",
       "std     7.093391e+02  1.707537e-03  \n",
       "min     1.000000e+00  0.000000e+00  \n",
       "25%     4.130000e+02  2.043388e-03  \n",
       "50%     6.930000e+02  2.831595e-03  \n",
       "75%     1.135000e+03  3.872633e-03  \n",
       "max     9.998000e+03  2.068966e-02  "
      ]
     },
     "execution_count": 249,
     "metadata": {},
     "output_type": "execute_result"
    }
   ],
   "source": [
    "dataset.describe()"
   ]
  },
  {
   "cell_type": "code",
   "execution_count": 248,
   "metadata": {},
   "outputs": [
    {
     "data": {
      "text/html": [
       "<div>\n",
       "<style scoped>\n",
       "    .dataframe tbody tr th:only-of-type {\n",
       "        vertical-align: middle;\n",
       "    }\n",
       "\n",
       "    .dataframe tbody tr th {\n",
       "        vertical-align: top;\n",
       "    }\n",
       "\n",
       "    .dataframe thead th {\n",
       "        text-align: right;\n",
       "    }\n",
       "</style>\n",
       "<table border=\"1\" class=\"dataframe\">\n",
       "  <thead>\n",
       "    <tr style=\"text-align: right;\">\n",
       "      <th></th>\n",
       "      <th>VendorID</th>\n",
       "      <th>passenger_count</th>\n",
       "      <th>trip_distance</th>\n",
       "      <th>pickup_longitude</th>\n",
       "      <th>pickup_latitude</th>\n",
       "      <th>RatecodeID</th>\n",
       "      <th>dropoff_longitude</th>\n",
       "      <th>dropoff_latitude</th>\n",
       "      <th>payment_type</th>\n",
       "      <th>tolls_amount</th>\n",
       "      <th>improvement_surcharge</th>\n",
       "      <th>TimeTravelled</th>\n",
       "      <th>Velocity</th>\n",
       "    </tr>\n",
       "  </thead>\n",
       "  <tbody>\n",
       "    <tr>\n",
       "      <th>count</th>\n",
       "      <td>64000.000000</td>\n",
       "      <td>64000.000000</td>\n",
       "      <td>64000.000000</td>\n",
       "      <td>64000.000000</td>\n",
       "      <td>64000.000000</td>\n",
       "      <td>64000.000000</td>\n",
       "      <td>64000.000000</td>\n",
       "      <td>64000.000000</td>\n",
       "      <td>64000.000000</td>\n",
       "      <td>64000.00000</td>\n",
       "      <td>64000.000000</td>\n",
       "      <td>64000.000000</td>\n",
       "      <td>64000.000000</td>\n",
       "    </tr>\n",
       "    <tr>\n",
       "      <th>mean</th>\n",
       "      <td>1.537047</td>\n",
       "      <td>1.671188</td>\n",
       "      <td>5.896713</td>\n",
       "      <td>-73.960769</td>\n",
       "      <td>40.744481</td>\n",
       "      <td>1.406250</td>\n",
       "      <td>-73.975568</td>\n",
       "      <td>40.746855</td>\n",
       "      <td>1.337031</td>\n",
       "      <td>1.74787</td>\n",
       "      <td>0.299991</td>\n",
       "      <td>1230.515344</td>\n",
       "      <td>0.004041</td>\n",
       "    </tr>\n",
       "    <tr>\n",
       "      <th>std</th>\n",
       "      <td>0.498630</td>\n",
       "      <td>1.303686</td>\n",
       "      <td>7.234262</td>\n",
       "      <td>0.060701</td>\n",
       "      <td>0.037676</td>\n",
       "      <td>0.913769</td>\n",
       "      <td>0.084823</td>\n",
       "      <td>0.047903</td>\n",
       "      <td>0.492926</td>\n",
       "      <td>4.14628</td>\n",
       "      <td>0.001677</td>\n",
       "      <td>1080.955692</td>\n",
       "      <td>0.002608</td>\n",
       "    </tr>\n",
       "    <tr>\n",
       "      <th>min</th>\n",
       "      <td>1.000000</td>\n",
       "      <td>0.000000</td>\n",
       "      <td>0.010000</td>\n",
       "      <td>-74.527763</td>\n",
       "      <td>40.535580</td>\n",
       "      <td>1.000000</td>\n",
       "      <td>-74.833679</td>\n",
       "      <td>40.045311</td>\n",
       "      <td>1.000000</td>\n",
       "      <td>0.00000</td>\n",
       "      <td>0.000000</td>\n",
       "      <td>40.000000</td>\n",
       "      <td>0.000004</td>\n",
       "    </tr>\n",
       "    <tr>\n",
       "      <th>25%</th>\n",
       "      <td>1.000000</td>\n",
       "      <td>1.000000</td>\n",
       "      <td>1.200000</td>\n",
       "      <td>-73.991264</td>\n",
       "      <td>40.732536</td>\n",
       "      <td>1.000000</td>\n",
       "      <td>-73.993828</td>\n",
       "      <td>40.725780</td>\n",
       "      <td>1.000000</td>\n",
       "      <td>0.00000</td>\n",
       "      <td>0.300000</td>\n",
       "      <td>468.000000</td>\n",
       "      <td>0.002265</td>\n",
       "    </tr>\n",
       "    <tr>\n",
       "      <th>50%</th>\n",
       "      <td>2.000000</td>\n",
       "      <td>1.000000</td>\n",
       "      <td>2.260000</td>\n",
       "      <td>-73.980370</td>\n",
       "      <td>40.752197</td>\n",
       "      <td>1.000000</td>\n",
       "      <td>-73.980309</td>\n",
       "      <td>40.751484</td>\n",
       "      <td>1.000000</td>\n",
       "      <td>0.00000</td>\n",
       "      <td>0.300000</td>\n",
       "      <td>858.000000</td>\n",
       "      <td>0.003254</td>\n",
       "    </tr>\n",
       "    <tr>\n",
       "      <th>75%</th>\n",
       "      <td>2.000000</td>\n",
       "      <td>2.000000</td>\n",
       "      <td>8.080000</td>\n",
       "      <td>-73.962111</td>\n",
       "      <td>40.766815</td>\n",
       "      <td>1.000000</td>\n",
       "      <td>-73.960541</td>\n",
       "      <td>40.768697</td>\n",
       "      <td>2.000000</td>\n",
       "      <td>0.00000</td>\n",
       "      <td>0.300000</td>\n",
       "      <td>1659.000000</td>\n",
       "      <td>0.005039</td>\n",
       "    </tr>\n",
       "    <tr>\n",
       "      <th>max</th>\n",
       "      <td>2.000000</td>\n",
       "      <td>9.000000</td>\n",
       "      <td>86.600000</td>\n",
       "      <td>-72.659561</td>\n",
       "      <td>41.255787</td>\n",
       "      <td>5.000000</td>\n",
       "      <td>-72.551582</td>\n",
       "      <td>41.525589</td>\n",
       "      <td>4.000000</td>\n",
       "      <td>82.50000</td>\n",
       "      <td>0.300000</td>\n",
       "      <td>9931.000000</td>\n",
       "      <td>0.048936</td>\n",
       "    </tr>\n",
       "  </tbody>\n",
       "</table>\n",
       "</div>"
      ],
      "text/plain": [
       "           VendorID  passenger_count  trip_distance  pickup_longitude  \\\n",
       "count  64000.000000     64000.000000   64000.000000      64000.000000   \n",
       "mean       1.537047         1.671188       5.896713        -73.960769   \n",
       "std        0.498630         1.303686       7.234262          0.060701   \n",
       "min        1.000000         0.000000       0.010000        -74.527763   \n",
       "25%        1.000000         1.000000       1.200000        -73.991264   \n",
       "50%        2.000000         1.000000       2.260000        -73.980370   \n",
       "75%        2.000000         2.000000       8.080000        -73.962111   \n",
       "max        2.000000         9.000000      86.600000        -72.659561   \n",
       "\n",
       "       pickup_latitude    RatecodeID  dropoff_longitude  dropoff_latitude  \\\n",
       "count     64000.000000  64000.000000       64000.000000      64000.000000   \n",
       "mean         40.744481      1.406250         -73.975568         40.746855   \n",
       "std           0.037676      0.913769           0.084823          0.047903   \n",
       "min          40.535580      1.000000         -74.833679         40.045311   \n",
       "25%          40.732536      1.000000         -73.993828         40.725780   \n",
       "50%          40.752197      1.000000         -73.980309         40.751484   \n",
       "75%          40.766815      1.000000         -73.960541         40.768697   \n",
       "max          41.255787      5.000000         -72.551582         41.525589   \n",
       "\n",
       "       payment_type  tolls_amount  improvement_surcharge  TimeTravelled  \\\n",
       "count  64000.000000   64000.00000           64000.000000   64000.000000   \n",
       "mean       1.337031       1.74787               0.299991    1230.515344   \n",
       "std        0.492926       4.14628               0.001677    1080.955692   \n",
       "min        1.000000       0.00000               0.000000      40.000000   \n",
       "25%        1.000000       0.00000               0.300000     468.000000   \n",
       "50%        1.000000       0.00000               0.300000     858.000000   \n",
       "75%        2.000000       0.00000               0.300000    1659.000000   \n",
       "max        4.000000      82.50000               0.300000    9931.000000   \n",
       "\n",
       "           Velocity  \n",
       "count  64000.000000  \n",
       "mean       0.004041  \n",
       "std        0.002608  \n",
       "min        0.000004  \n",
       "25%        0.002265  \n",
       "50%        0.003254  \n",
       "75%        0.005039  \n",
       "max        0.048936  "
      ]
     },
     "execution_count": 248,
     "metadata": {},
     "output_type": "execute_result"
    }
   ],
   "source": [
    "test_dataset.describe()"
   ]
  },
  {
   "cell_type": "code",
   "execution_count": 48,
   "metadata": {},
   "outputs": [
    {
     "data": {
      "text/html": [
       "<div>\n",
       "<style scoped>\n",
       "    .dataframe tbody tr th:only-of-type {\n",
       "        vertical-align: middle;\n",
       "    }\n",
       "\n",
       "    .dataframe tbody tr th {\n",
       "        vertical-align: top;\n",
       "    }\n",
       "\n",
       "    .dataframe thead th {\n",
       "        text-align: right;\n",
       "    }\n",
       "</style>\n",
       "<table border=\"1\" class=\"dataframe\">\n",
       "  <thead>\n",
       "    <tr style=\"text-align: right;\">\n",
       "      <th></th>\n",
       "      <th>Unnamed: 0</th>\n",
       "      <th>VendorID</th>\n",
       "      <th>tpep_pickup_datetime</th>\n",
       "      <th>tpep_dropoff_datetime</th>\n",
       "      <th>passenger_count</th>\n",
       "      <th>trip_distance</th>\n",
       "      <th>pickup_longitude</th>\n",
       "      <th>pickup_latitude</th>\n",
       "      <th>RatecodeID</th>\n",
       "      <th>store_and_fwd_flag</th>\n",
       "      <th>...</th>\n",
       "      <th>dropoff_latitude</th>\n",
       "      <th>payment_type</th>\n",
       "      <th>fare_amount</th>\n",
       "      <th>extra</th>\n",
       "      <th>mta_tax</th>\n",
       "      <th>tip_amount</th>\n",
       "      <th>tolls_amount</th>\n",
       "      <th>improvement_surcharge</th>\n",
       "      <th>total_amount</th>\n",
       "      <th>TimeTravelled</th>\n",
       "    </tr>\n",
       "  </thead>\n",
       "  <tbody>\n",
       "    <tr>\n",
       "      <th>0</th>\n",
       "      <td>510205</td>\n",
       "      <td>2</td>\n",
       "      <td>2016-06-02 00:34:25</td>\n",
       "      <td>2016-06-02 00:54:42</td>\n",
       "      <td>1</td>\n",
       "      <td>6.10</td>\n",
       "      <td>-73.994568</td>\n",
       "      <td>40.725990</td>\n",
       "      <td>1</td>\n",
       "      <td>N</td>\n",
       "      <td>...</td>\n",
       "      <td>40.799648</td>\n",
       "      <td>1</td>\n",
       "      <td>20.0</td>\n",
       "      <td>0.5</td>\n",
       "      <td>0.5</td>\n",
       "      <td>1.00</td>\n",
       "      <td>0.0</td>\n",
       "      <td>0.3</td>\n",
       "      <td>22.30</td>\n",
       "      <td>20.283333</td>\n",
       "    </tr>\n",
       "    <tr>\n",
       "      <th>1</th>\n",
       "      <td>2638457</td>\n",
       "      <td>1</td>\n",
       "      <td>2016-06-11 13:48:02</td>\n",
       "      <td>2016-06-11 13:53:24</td>\n",
       "      <td>1</td>\n",
       "      <td>1.00</td>\n",
       "      <td>-73.990570</td>\n",
       "      <td>40.771523</td>\n",
       "      <td>1</td>\n",
       "      <td>N</td>\n",
       "      <td>...</td>\n",
       "      <td>40.759354</td>\n",
       "      <td>1</td>\n",
       "      <td>6.0</td>\n",
       "      <td>0.0</td>\n",
       "      <td>0.5</td>\n",
       "      <td>1.70</td>\n",
       "      <td>0.0</td>\n",
       "      <td>0.3</td>\n",
       "      <td>8.50</td>\n",
       "      <td>5.366667</td>\n",
       "    </tr>\n",
       "    <tr>\n",
       "      <th>2</th>\n",
       "      <td>7396380</td>\n",
       "      <td>1</td>\n",
       "      <td>2016-06-22 16:48:49</td>\n",
       "      <td>2016-06-22 16:55:02</td>\n",
       "      <td>1</td>\n",
       "      <td>0.70</td>\n",
       "      <td>-73.985054</td>\n",
       "      <td>40.768436</td>\n",
       "      <td>1</td>\n",
       "      <td>N</td>\n",
       "      <td>...</td>\n",
       "      <td>40.760925</td>\n",
       "      <td>1</td>\n",
       "      <td>6.0</td>\n",
       "      <td>1.0</td>\n",
       "      <td>0.5</td>\n",
       "      <td>1.95</td>\n",
       "      <td>0.0</td>\n",
       "      <td>0.3</td>\n",
       "      <td>9.75</td>\n",
       "      <td>6.216667</td>\n",
       "    </tr>\n",
       "    <tr>\n",
       "      <th>3</th>\n",
       "      <td>4521493</td>\n",
       "      <td>2</td>\n",
       "      <td>2016-06-12 21:14:19</td>\n",
       "      <td>2016-06-12 21:20:48</td>\n",
       "      <td>1</td>\n",
       "      <td>1.05</td>\n",
       "      <td>-73.985710</td>\n",
       "      <td>40.750546</td>\n",
       "      <td>1</td>\n",
       "      <td>N</td>\n",
       "      <td>...</td>\n",
       "      <td>40.753746</td>\n",
       "      <td>2</td>\n",
       "      <td>6.5</td>\n",
       "      <td>0.5</td>\n",
       "      <td>0.5</td>\n",
       "      <td>0.00</td>\n",
       "      <td>0.0</td>\n",
       "      <td>0.3</td>\n",
       "      <td>7.80</td>\n",
       "      <td>6.483333</td>\n",
       "    </tr>\n",
       "    <tr>\n",
       "      <th>4</th>\n",
       "      <td>7461453</td>\n",
       "      <td>2</td>\n",
       "      <td>2016-06-22 19:56:50</td>\n",
       "      <td>2016-06-22 19:57:45</td>\n",
       "      <td>1</td>\n",
       "      <td>0.37</td>\n",
       "      <td>-73.963051</td>\n",
       "      <td>40.766579</td>\n",
       "      <td>1</td>\n",
       "      <td>N</td>\n",
       "      <td>...</td>\n",
       "      <td>40.771191</td>\n",
       "      <td>1</td>\n",
       "      <td>3.0</td>\n",
       "      <td>1.0</td>\n",
       "      <td>0.5</td>\n",
       "      <td>1.20</td>\n",
       "      <td>0.0</td>\n",
       "      <td>0.3</td>\n",
       "      <td>6.00</td>\n",
       "      <td>0.916667</td>\n",
       "    </tr>\n",
       "  </tbody>\n",
       "</table>\n",
       "<p>5 rows × 21 columns</p>\n",
       "</div>"
      ],
      "text/plain": [
       "   Unnamed: 0  VendorID tpep_pickup_datetime tpep_dropoff_datetime  \\\n",
       "0      510205         2  2016-06-02 00:34:25   2016-06-02 00:54:42   \n",
       "1     2638457         1  2016-06-11 13:48:02   2016-06-11 13:53:24   \n",
       "2     7396380         1  2016-06-22 16:48:49   2016-06-22 16:55:02   \n",
       "3     4521493         2  2016-06-12 21:14:19   2016-06-12 21:20:48   \n",
       "4     7461453         2  2016-06-22 19:56:50   2016-06-22 19:57:45   \n",
       "\n",
       "   passenger_count  trip_distance  pickup_longitude  pickup_latitude  \\\n",
       "0                1           6.10        -73.994568        40.725990   \n",
       "1                1           1.00        -73.990570        40.771523   \n",
       "2                1           0.70        -73.985054        40.768436   \n",
       "3                1           1.05        -73.985710        40.750546   \n",
       "4                1           0.37        -73.963051        40.766579   \n",
       "\n",
       "   RatecodeID store_and_fwd_flag      ...        dropoff_latitude  \\\n",
       "0           1                  N      ...               40.799648   \n",
       "1           1                  N      ...               40.759354   \n",
       "2           1                  N      ...               40.760925   \n",
       "3           1                  N      ...               40.753746   \n",
       "4           1                  N      ...               40.771191   \n",
       "\n",
       "   payment_type  fare_amount  extra  mta_tax  tip_amount  tolls_amount  \\\n",
       "0             1         20.0    0.5      0.5        1.00           0.0   \n",
       "1             1          6.0    0.0      0.5        1.70           0.0   \n",
       "2             1          6.0    1.0      0.5        1.95           0.0   \n",
       "3             2          6.5    0.5      0.5        0.00           0.0   \n",
       "4             1          3.0    1.0      0.5        1.20           0.0   \n",
       "\n",
       "   improvement_surcharge  total_amount  TimeTravelled  \n",
       "0                    0.3         22.30      20.283333  \n",
       "1                    0.3          8.50       5.366667  \n",
       "2                    0.3          9.75       6.216667  \n",
       "3                    0.3          7.80       6.483333  \n",
       "4                    0.3          6.00       0.916667  \n",
       "\n",
       "[5 rows x 21 columns]"
      ]
     },
     "execution_count": 48,
     "metadata": {},
     "output_type": "execute_result"
    }
   ],
   "source": [
    "dataset.head()"
   ]
  },
  {
   "cell_type": "markdown",
   "metadata": {},
   "source": [
    "### Remove Features from Train not present in Test"
   ]
  },
  {
   "cell_type": "code",
   "execution_count": 301,
   "metadata": {},
   "outputs": [],
   "source": [
    "dataset = dataset.drop(\"fare_amount\",axis=1)\n",
    "dataset = dataset.drop(\"extra\",axis=1)\n",
    "dataset = dataset.drop(\"mta_tax\",axis=1)\n",
    "dataset = dataset.drop(\"tip_amount\",axis=1)\n",
    "dataset = dataset.drop(\"Unnamed: 0\",axis=1)\n",
    "test_dataset = test_dataset.drop(\"id\",axis=1)"
   ]
  },
  {
   "cell_type": "markdown",
   "metadata": {},
   "source": [
    "### Initial Data Analysis"
   ]
  },
  {
   "cell_type": "markdown",
   "metadata": {},
   "source": [
    "#### Analysis of total_amount feature"
   ]
  },
  {
   "cell_type": "markdown",
   "metadata": {},
   "source": [
    "Negative Values in total_amount<br>\n",
    "Max value of total_amount is 8452.8 dollar <br>\n",
    "75 percentile value is 18.36$\n",
    "75 percentile value of total_mount >100dollar is 141dollar"
   ]
  },
  {
   "cell_type": "markdown",
   "metadata": {},
   "source": [
    "#### Other Interesting Feature"
   ]
  },
  {
   "cell_type": "markdown",
   "metadata": {},
   "source": [
    "tpep_pickup_datetime - Catergorical(Timestamp)<br>\n",
    "tpep_dropoff_datetime - Categorical(Timestamp)<br>\n",
    "store_and_fwd_flag - Categorical <br>\n",
    "ID - No use"
   ]
  },
  {
   "cell_type": "markdown",
   "metadata": {},
   "source": [
    "## Exploratory Data Analysis"
   ]
  },
  {
   "cell_type": "markdown",
   "metadata": {},
   "source": [
    "### Total Amount"
   ]
  },
  {
   "cell_type": "code",
   "execution_count": 104,
   "metadata": {},
   "outputs": [
    {
     "data": {
      "text/plain": [
       "(1936, 15)"
      ]
     },
     "execution_count": 104,
     "metadata": {},
     "output_type": "execute_result"
    }
   ],
   "source": [
    "dataset[(dataset['total_amount'] >= 100)].shape"
   ]
  },
  {
   "cell_type": "code",
   "execution_count": 358,
   "metadata": {},
   "outputs": [
    {
     "data": {
      "text/html": [
       "<div>\n",
       "<style scoped>\n",
       "    .dataframe tbody tr th:only-of-type {\n",
       "        vertical-align: middle;\n",
       "    }\n",
       "\n",
       "    .dataframe tbody tr th {\n",
       "        vertical-align: top;\n",
       "    }\n",
       "\n",
       "    .dataframe thead th {\n",
       "        text-align: right;\n",
       "    }\n",
       "</style>\n",
       "<table border=\"1\" class=\"dataframe\">\n",
       "  <thead>\n",
       "    <tr style=\"text-align: right;\">\n",
       "      <th></th>\n",
       "      <th>VendorID</th>\n",
       "      <th>passenger_count</th>\n",
       "      <th>trip_distance</th>\n",
       "      <th>pickup_longitude</th>\n",
       "      <th>pickup_latitude</th>\n",
       "      <th>RatecodeID</th>\n",
       "      <th>store_and_fwd_flag</th>\n",
       "      <th>dropoff_longitude</th>\n",
       "      <th>dropoff_latitude</th>\n",
       "      <th>payment_type</th>\n",
       "      <th>tolls_amount</th>\n",
       "      <th>improvement_surcharge</th>\n",
       "      <th>total_amount</th>\n",
       "      <th>TimeTravelled</th>\n",
       "      <th>PickUpTime</th>\n",
       "      <th>Velocity</th>\n",
       "    </tr>\n",
       "  </thead>\n",
       "  <tbody>\n",
       "    <tr>\n",
       "      <th>count</th>\n",
       "      <td>11.000000</td>\n",
       "      <td>11.000000</td>\n",
       "      <td>11.000000</td>\n",
       "      <td>11.000000</td>\n",
       "      <td>11.000000</td>\n",
       "      <td>11.000000</td>\n",
       "      <td>11.0</td>\n",
       "      <td>11.000000</td>\n",
       "      <td>11.000000</td>\n",
       "      <td>11.0</td>\n",
       "      <td>11.000000</td>\n",
       "      <td>1.100000e+01</td>\n",
       "      <td>11.0</td>\n",
       "      <td>11.000000</td>\n",
       "      <td>11.000000</td>\n",
       "      <td>11.000000</td>\n",
       "    </tr>\n",
       "    <tr>\n",
       "      <th>mean</th>\n",
       "      <td>1.363636</td>\n",
       "      <td>1.545455</td>\n",
       "      <td>19.396364</td>\n",
       "      <td>-73.943382</td>\n",
       "      <td>40.750721</td>\n",
       "      <td>2.454545</td>\n",
       "      <td>0.0</td>\n",
       "      <td>-74.079659</td>\n",
       "      <td>40.727392</td>\n",
       "      <td>1.0</td>\n",
       "      <td>11.870909</td>\n",
       "      <td>3.000000e-01</td>\n",
       "      <td>100.0</td>\n",
       "      <td>2763.636364</td>\n",
       "      <td>12.110606</td>\n",
       "      <td>0.007458</td>\n",
       "    </tr>\n",
       "    <tr>\n",
       "      <th>std</th>\n",
       "      <td>0.504525</td>\n",
       "      <td>0.934199</td>\n",
       "      <td>4.963822</td>\n",
       "      <td>0.072509</td>\n",
       "      <td>0.037543</td>\n",
       "      <td>0.934199</td>\n",
       "      <td>0.0</td>\n",
       "      <td>0.191537</td>\n",
       "      <td>0.085108</td>\n",
       "      <td>0.0</td>\n",
       "      <td>6.553853</td>\n",
       "      <td>5.822059e-17</td>\n",
       "      <td>0.0</td>\n",
       "      <td>754.754301</td>\n",
       "      <td>3.665297</td>\n",
       "      <td>0.002464</td>\n",
       "    </tr>\n",
       "    <tr>\n",
       "      <th>min</th>\n",
       "      <td>1.000000</td>\n",
       "      <td>1.000000</td>\n",
       "      <td>11.130000</td>\n",
       "      <td>-73.994225</td>\n",
       "      <td>40.648102</td>\n",
       "      <td>1.000000</td>\n",
       "      <td>0.0</td>\n",
       "      <td>-74.182655</td>\n",
       "      <td>40.687817</td>\n",
       "      <td>1.0</td>\n",
       "      <td>0.000000</td>\n",
       "      <td>3.000000e-01</td>\n",
       "      <td>100.0</td>\n",
       "      <td>1869.000000</td>\n",
       "      <td>6.483333</td>\n",
       "      <td>0.003253</td>\n",
       "    </tr>\n",
       "    <tr>\n",
       "      <th>25%</th>\n",
       "      <td>1.000000</td>\n",
       "      <td>1.000000</td>\n",
       "      <td>17.480000</td>\n",
       "      <td>-73.985821</td>\n",
       "      <td>40.747206</td>\n",
       "      <td>2.000000</td>\n",
       "      <td>0.0</td>\n",
       "      <td>-74.177494</td>\n",
       "      <td>40.691132</td>\n",
       "      <td>1.0</td>\n",
       "      <td>8.020000</td>\n",
       "      <td>3.000000e-01</td>\n",
       "      <td>100.0</td>\n",
       "      <td>2115.500000</td>\n",
       "      <td>8.791667</td>\n",
       "      <td>0.005674</td>\n",
       "    </tr>\n",
       "    <tr>\n",
       "      <th>50%</th>\n",
       "      <td>1.000000</td>\n",
       "      <td>1.000000</td>\n",
       "      <td>17.900000</td>\n",
       "      <td>-73.981865</td>\n",
       "      <td>40.755230</td>\n",
       "      <td>3.000000</td>\n",
       "      <td>0.0</td>\n",
       "      <td>-74.177193</td>\n",
       "      <td>40.695145</td>\n",
       "      <td>1.0</td>\n",
       "      <td>10.500000</td>\n",
       "      <td>3.000000e-01</td>\n",
       "      <td>100.0</td>\n",
       "      <td>2565.000000</td>\n",
       "      <td>11.400000</td>\n",
       "      <td>0.007424</td>\n",
       "    </tr>\n",
       "    <tr>\n",
       "      <th>75%</th>\n",
       "      <td>2.000000</td>\n",
       "      <td>2.000000</td>\n",
       "      <td>20.275000</td>\n",
       "      <td>-73.917183</td>\n",
       "      <td>40.769426</td>\n",
       "      <td>3.000000</td>\n",
       "      <td>0.0</td>\n",
       "      <td>-74.077145</td>\n",
       "      <td>40.709671</td>\n",
       "      <td>1.0</td>\n",
       "      <td>18.000000</td>\n",
       "      <td>3.000000e-01</td>\n",
       "      <td>100.0</td>\n",
       "      <td>3346.500000</td>\n",
       "      <td>14.933333</td>\n",
       "      <td>0.009132</td>\n",
       "    </tr>\n",
       "    <tr>\n",
       "      <th>max</th>\n",
       "      <td>2.000000</td>\n",
       "      <td>4.000000</td>\n",
       "      <td>30.520000</td>\n",
       "      <td>-73.780884</td>\n",
       "      <td>40.799141</td>\n",
       "      <td>3.000000</td>\n",
       "      <td>0.0</td>\n",
       "      <td>-73.587494</td>\n",
       "      <td>40.975079</td>\n",
       "      <td>1.0</td>\n",
       "      <td>21.000000</td>\n",
       "      <td>3.000000e-01</td>\n",
       "      <td>100.0</td>\n",
       "      <td>4111.000000</td>\n",
       "      <td>17.650000</td>\n",
       "      <td>0.011909</td>\n",
       "    </tr>\n",
       "  </tbody>\n",
       "</table>\n",
       "</div>"
      ],
      "text/plain": [
       "        VendorID  passenger_count  trip_distance  pickup_longitude  \\\n",
       "count  11.000000        11.000000      11.000000         11.000000   \n",
       "mean    1.363636         1.545455      19.396364        -73.943382   \n",
       "std     0.504525         0.934199       4.963822          0.072509   \n",
       "min     1.000000         1.000000      11.130000        -73.994225   \n",
       "25%     1.000000         1.000000      17.480000        -73.985821   \n",
       "50%     1.000000         1.000000      17.900000        -73.981865   \n",
       "75%     2.000000         2.000000      20.275000        -73.917183   \n",
       "max     2.000000         4.000000      30.520000        -73.780884   \n",
       "\n",
       "       pickup_latitude  RatecodeID  store_and_fwd_flag  dropoff_longitude  \\\n",
       "count        11.000000   11.000000                11.0          11.000000   \n",
       "mean         40.750721    2.454545                 0.0         -74.079659   \n",
       "std           0.037543    0.934199                 0.0           0.191537   \n",
       "min          40.648102    1.000000                 0.0         -74.182655   \n",
       "25%          40.747206    2.000000                 0.0         -74.177494   \n",
       "50%          40.755230    3.000000                 0.0         -74.177193   \n",
       "75%          40.769426    3.000000                 0.0         -74.077145   \n",
       "max          40.799141    3.000000                 0.0         -73.587494   \n",
       "\n",
       "       dropoff_latitude  payment_type  tolls_amount  improvement_surcharge  \\\n",
       "count         11.000000          11.0     11.000000           1.100000e+01   \n",
       "mean          40.727392           1.0     11.870909           3.000000e-01   \n",
       "std            0.085108           0.0      6.553853           5.822059e-17   \n",
       "min           40.687817           1.0      0.000000           3.000000e-01   \n",
       "25%           40.691132           1.0      8.020000           3.000000e-01   \n",
       "50%           40.695145           1.0     10.500000           3.000000e-01   \n",
       "75%           40.709671           1.0     18.000000           3.000000e-01   \n",
       "max           40.975079           1.0     21.000000           3.000000e-01   \n",
       "\n",
       "       total_amount  TimeTravelled  PickUpTime   Velocity  \n",
       "count          11.0      11.000000   11.000000  11.000000  \n",
       "mean          100.0    2763.636364   12.110606   0.007458  \n",
       "std             0.0     754.754301    3.665297   0.002464  \n",
       "min           100.0    1869.000000    6.483333   0.003253  \n",
       "25%           100.0    2115.500000    8.791667   0.005674  \n",
       "50%           100.0    2565.000000   11.400000   0.007424  \n",
       "75%           100.0    3346.500000   14.933333   0.009132  \n",
       "max           100.0    4111.000000   17.650000   0.011909  "
      ]
     },
     "execution_count": 358,
     "metadata": {},
     "output_type": "execute_result"
    }
   ],
   "source": [
    "dataset[(dataset['total_amount'] >= 100)].describe()"
   ]
  },
  {
   "cell_type": "code",
   "execution_count": 106,
   "metadata": {},
   "outputs": [
    {
     "data": {
      "image/png": "[encoded data removed]",
      "text/plain": [
       "<matplotlib.figure.Figure at 0x107bf4a20f0>"
      ]
     },
     "metadata": {},
     "output_type": "display_data"
    }
   ],
   "source": [
    "fig = plt.figure(figsize = (10,6))\n",
    "sns.set_style(\"whitegrid\")\n",
    "ax = sns.boxplot(y=\"total_amount\",data = dataset)"
   ]
  },
  {
   "cell_type": "code",
   "execution_count": 19,
   "metadata": {},
   "outputs": [
    {
     "data": {
      "text/plain": [
       "<matplotlib.axes._subplots.AxesSubplot at 0x107bf69ed68>"
      ]
     },
     "execution_count": 19,
     "metadata": {},
     "output_type": "execute_result"
    },
    {
     "data": {
      "image/png": "[encoded data removed]",
      "text/plain": [
       "<matplotlib.figure.Figure at 0x107bedf8cf8>"
      ]
     },
     "metadata": {},
     "output_type": "display_data"
    }
   ],
   "source": [
    "sns.set(color_codes=True)\n",
    "sns.distplot(dataset[\"total_amount\"])"
   ]
  },
  {
   "cell_type": "markdown",
   "metadata": {},
   "source": [
    "### VendorID"
   ]
  },
  {
   "cell_type": "markdown",
   "metadata": {},
   "source": [
    "A code indicating the TPEP provider that provided the record.\n",
    "1= Creative Mobile Technologies, LLC; 2= VeriFone Inc."
   ]
  },
  {
   "cell_type": "code",
   "execution_count": 24,
   "metadata": {},
   "outputs": [
    {
     "data": {
      "text/plain": [
       "2    588678\n",
       "1    524200\n",
       "Name: VendorID, dtype: int64"
      ]
     },
     "execution_count": 24,
     "metadata": {},
     "output_type": "execute_result"
    }
   ],
   "source": [
    "dataset[\"VendorID\"].value_counts()"
   ]
  },
  {
   "cell_type": "code",
   "execution_count": 23,
   "metadata": {},
   "outputs": [
    {
     "data": {
      "image/png": "[encoded data removed]",
      "text/plain": [
       "<matplotlib.figure.Figure at 0x2148624ea58>"
      ]
     },
     "metadata": {},
     "output_type": "display_data"
    }
   ],
   "source": [
    "fig = plt.figure(figsize = (10,6))\n",
    "sns.set_style(\"whitegrid\")\n",
    "ax = sns.boxplot(x=\"VendorID\", y=\"total_amount\", data=dataset)"
   ]
  },
  {
   "cell_type": "markdown",
   "metadata": {},
   "source": [
    "### Passenger Count(Feature)"
   ]
  },
  {
   "cell_type": "markdown",
   "metadata": {},
   "source": [
    "The number of passengers in the vehicle.\n",
    "This is a driver-entered value."
   ]
  },
  {
   "cell_type": "code",
   "execution_count": 25,
   "metadata": {},
   "outputs": [
    {
     "data": {
      "text/plain": [
       "1    789398\n",
       "2    160908\n",
       "5     57552\n",
       "3     46549\n",
       "6     35900\n",
       "4     22529\n",
       "0        34\n",
       "8         4\n",
       "9         2\n",
       "7         2\n",
       "Name: passenger_count, dtype: int64"
      ]
     },
     "execution_count": 25,
     "metadata": {},
     "output_type": "execute_result"
    }
   ],
   "source": [
    "dataset[\"passenger_count\"].value_counts()"
   ]
  },
  {
   "cell_type": "code",
   "execution_count": 26,
   "metadata": {},
   "outputs": [
    {
     "data": {
      "text/plain": [
       "1.6571457068968927"
      ]
     },
     "execution_count": 26,
     "metadata": {},
     "output_type": "execute_result"
    }
   ],
   "source": [
    "dataset[\"passenger_count\"].mean()"
   ]
  },
  {
   "cell_type": "code",
   "execution_count": 27,
   "metadata": {},
   "outputs": [
    {
     "data": {
      "image/png": "[encoded data removed]",
      "text/plain": [
       "<matplotlib.figure.Figure at 0x21486277518>"
      ]
     },
     "metadata": {},
     "output_type": "display_data"
    }
   ],
   "source": [
    "import seaborn as sns\n",
    "import matplotlib.pyplot as plt\n",
    "fig = plt.figure(figsize = (10,6))\n",
    "sns.set_style(\"whitegrid\")\n",
    "ax = sns.boxplot(x=\"passenger_count\", y=\"total_amount\", data=dataset)"
   ]
  },
  {
   "cell_type": "markdown",
   "metadata": {},
   "source": [
    "### store_and_fwd_flag"
   ]
  },
  {
   "cell_type": "markdown",
   "metadata": {},
   "source": [
    "This flag indicates whether the trip record was held in vehicle memory before sending to the vendor, aka “store and forward,” because the vehicle did not have a connection to the server.\n",
    "\n",
    "Y= store and forward trip\n",
    "\n",
    "N= not a store and forward trip"
   ]
  },
  {
   "cell_type": "code",
   "execution_count": 11,
   "metadata": {},
   "outputs": [
    {
     "data": {
      "text/plain": [
       "N    553457\n",
       "Y      3317\n",
       "Name: store_and_fwd_flag, dtype: int64"
      ]
     },
     "execution_count": 11,
     "metadata": {},
     "output_type": "execute_result"
    }
   ],
   "source": [
    "dataset[\"store_and_fwd_flag\"].value_counts()"
   ]
  },
  {
   "cell_type": "code",
   "execution_count": 58,
   "metadata": {},
   "outputs": [
    {
     "data": {
      "image/png": "[encoded data removed]",
      "text/plain": [
       "<matplotlib.figure.Figure at 0x107be8b9278>"
      ]
     },
     "metadata": {},
     "output_type": "display_data"
    }
   ],
   "source": [
    "fig = plt.figure(figsize = (10,6))\n",
    "sns.set_style(\"whitegrid\")\n",
    "ax = sns.boxplot(x=\"store_and_fwd_flag\", y=\"total_amount\", data=dataset)"
   ]
  },
  {
   "cell_type": "code",
   "execution_count": null,
   "metadata": {},
   "outputs": [],
   "source": [
    "dataset.where(dataset[\"store_and_fwd_flag\"]==\"N\").mean().loc[\"total_amount\"]\n",
    "#dataset.where(dataset[\"store_and_fwd_flag\"]==0).mean().loc[\"total_amount\"]"
   ]
  },
  {
   "cell_type": "code",
   "execution_count": 52,
   "metadata": {},
   "outputs": [
    {
     "data": {
      "text/plain": [
       "22.456562499999986"
      ]
     },
     "execution_count": 52,
     "metadata": {},
     "output_type": "execute_result"
    }
   ],
   "source": [
    "dataset.where(dataset[\"store_and_fwd_flag\"]==\"Y\").mean().loc[\"total_amount\"]"
   ]
  },
  {
   "cell_type": "markdown",
   "metadata": {},
   "source": [
    "#### Feature Engineering Trip Distance"
   ]
  },
  {
   "cell_type": "markdown",
   "metadata": {},
   "source": [
    "### RatecodeID"
   ]
  },
  {
   "cell_type": "markdown",
   "metadata": {},
   "source": [
    "The final rate code in effect at the end of the trip.\n",
    "1. Standard rate\n",
    "2. JFK\n",
    "3. Newark\n",
    "4. Nassau or Westchester\n",
    "5. Negotiated fare\n",
    "6. Group ride"
   ]
  },
  {
   "cell_type": "code",
   "execution_count": 57,
   "metadata": {},
   "outputs": [
    {
     "data": {
      "text/plain": [
       "1     1067297\n",
       "2       24650\n",
       "5        2106\n",
       "3        1464\n",
       "4         414\n",
       "99         11\n",
       "6           9\n",
       "Name: RatecodeID, dtype: int64"
      ]
     },
     "execution_count": 57,
     "metadata": {},
     "output_type": "execute_result"
    }
   ],
   "source": [
    "dataset[\"RatecodeID\"].value_counts()"
   ]
  },
  {
   "cell_type": "code",
   "execution_count": 56,
   "metadata": {},
   "outputs": [
    {
     "data": {
      "image/png": "[encoded data removed]",
      "text/plain": [
       "<matplotlib.figure.Figure at 0x107bf1e5978>"
      ]
     },
     "metadata": {},
     "output_type": "display_data"
    }
   ],
   "source": [
    "fig = plt.figure(figsize = (10,6))\n",
    "sns.set_style(\"whitegrid\")\n",
    "ax = sns.boxplot(x=\"RatecodeID\", y=\"total_amount\", data=dataset)"
   ]
  },
  {
   "cell_type": "markdown",
   "metadata": {},
   "source": [
    "### Payment Type"
   ]
  },
  {
   "cell_type": "markdown",
   "metadata": {},
   "source": [
    "A numeric code signifying how the passenger paid for the trip.\n",
    "1. Credit card\n",
    "2. Cash\n",
    "3. No charge\n",
    "4. Dispute\n",
    "5. Unknown\n",
    "6. Voided trip"
   ]
  },
  {
   "cell_type": "code",
   "execution_count": 51,
   "metadata": {},
   "outputs": [
    {
     "data": {
      "text/plain": [
       "1    7374\n",
       "2    3696\n",
       "3      47\n",
       "4      18\n",
       "Name: payment_type, dtype: int64"
      ]
     },
     "execution_count": 51,
     "metadata": {},
     "output_type": "execute_result"
    }
   ],
   "source": [
    "dataset[\"payment_type\"].value_counts()"
   ]
  },
  {
   "cell_type": "code",
   "execution_count": 53,
   "metadata": {},
   "outputs": [
    {
     "data": {
      "image/png": "[encoded data removed]",
      "text/plain": [
       "<matplotlib.figure.Figure at 0x127c2f7c5f8>"
      ]
     },
     "metadata": {},
     "output_type": "display_data"
    }
   ],
   "source": [
    "import seaborn as sns\n",
    "import matplotlib.pyplot as plt\n",
    "fig = plt.figure(figsize = (10,6))\n",
    "sns.set_style(\"whitegrid\")\n",
    "ax = sns.boxplot(x=\"payment_type\", y=\"total_amount\", data=dataset)"
   ]
  },
  {
   "cell_type": "markdown",
   "metadata": {},
   "source": [
    "### tolls_amount"
   ]
  },
  {
   "cell_type": "markdown",
   "metadata": {},
   "source": [
    "Total amount of all tolls paid in trip."
   ]
  },
  {
   "cell_type": "code",
   "execution_count": 5,
   "metadata": {},
   "outputs": [
    {
     "data": {
      "text/plain": [
       "count    1.113547e+06\n",
       "mean     3.377642e-01\n",
       "std      1.741324e+00\n",
       "min     -1.050000e+01\n",
       "25%      0.000000e+00\n",
       "50%      0.000000e+00\n",
       "75%      0.000000e+00\n",
       "max      5.800000e+02\n",
       "Name: tolls_amount, dtype: float64"
      ]
     },
     "execution_count": 5,
     "metadata": {},
     "output_type": "execute_result"
    }
   ],
   "source": [
    "dataset[\"tolls_amount\"].describe()"
   ]
  },
  {
   "cell_type": "code",
   "execution_count": 33,
   "metadata": {},
   "outputs": [
    {
     "data": {
      "text/plain": [
       "<matplotlib.axes._subplots.AxesSubplot at 0x2319a1af3c8>"
      ]
     },
     "execution_count": 33,
     "metadata": {},
     "output_type": "execute_result"
    },
    {
     "data": {
      "image/png": "[encoded data removed]",
      "text/plain": [
       "<matplotlib.figure.Figure at 0x231988ff9e8>"
      ]
     },
     "metadata": {},
     "output_type": "display_data"
    }
   ],
   "source": [
    "sns.set(color_codes=True)\n",
    "sns.distplot(dataset[\"tolls_amount\"])"
   ]
  },
  {
   "cell_type": "code",
   "execution_count": 35,
   "metadata": {},
   "outputs": [
    {
     "data": {
      "image/png": "[encoded data removed]",
      "text/plain": [
       "<matplotlib.figure.Figure at 0x2319a45d7b8>"
      ]
     },
     "metadata": {},
     "output_type": "display_data"
    }
   ],
   "source": [
    "gridA = sns.JointGrid(x=\"tolls_amount\", y=\"total_amount\", data=dataset, size=6)\n",
    "#Draws a regression plot in the grid \n",
    "gridA = gridA.plot_joint(sns.regplot, scatter_kws={\"s\": 10})\n",
    "#Draws a distribution plot in the same grid\n",
    "gridA = gridA.plot_marginals(sns.distplot)"
   ]
  },
  {
   "cell_type": "code",
   "execution_count": 14,
   "metadata": {},
   "outputs": [
    {
     "data": {
      "image/png": "[encoded data removed]",
      "text/plain": [
       "<matplotlib.figure.Figure at 0x1c8c2f3ebe0>"
      ]
     },
     "metadata": {},
     "output_type": "display_data"
    }
   ],
   "source": [
    "dataset[\"tolls_amount\"] = pd.DataFrame(pd.cut(dataset[\"tolls_amount\"], bins = 8,labels = [0,1,2,3,4,5,6,7]))\n",
    "fig = plt.figure(figsize = (10,6))\n",
    "sns.set_style(\"whitegrid\")\n",
    "ax = sns.boxplot(x=\"tolls_amount\", y=\"total_amount\",data = dataset)"
   ]
  },
  {
   "cell_type": "markdown",
   "metadata": {},
   "source": [
    "### improvement_surcharge"
   ]
  },
  {
   "cell_type": "markdown",
   "metadata": {},
   "source": [
    "$0.30 improvement surcharge assessed trips at the flag drop. The improvement surcharge began being levied in 2015."
   ]
  },
  {
   "cell_type": "code",
   "execution_count": 37,
   "metadata": {},
   "outputs": [
    {
     "data": {
      "text/plain": [
       "count    11135.000000\n",
       "mean         0.299946\n",
       "std          0.004020\n",
       "min          0.000000\n",
       "25%          0.300000\n",
       "50%          0.300000\n",
       "75%          0.300000\n",
       "max          0.300000\n",
       "Name: improvement_surcharge, dtype: float64"
      ]
     },
     "execution_count": 37,
     "metadata": {},
     "output_type": "execute_result"
    }
   ],
   "source": [
    "dataset[\"improvement_surcharge\"].describe()"
   ]
  },
  {
   "cell_type": "code",
   "execution_count": 3,
   "metadata": {},
   "outputs": [
    {
     "data": {
      "text/plain": [
       " 0.30    1112808\n",
       "-0.30        505\n",
       " 0.00        232\n",
       " 0.26          1\n",
       " 0.94          1\n",
       "Name: improvement_surcharge, dtype: int64"
      ]
     },
     "execution_count": 3,
     "metadata": {},
     "output_type": "execute_result"
    }
   ],
   "source": [
    "dataset[\"improvement_surcharge\"].value_counts()"
   ]
  },
  {
   "cell_type": "code",
   "execution_count": 59,
   "metadata": {},
   "outputs": [
    {
     "data": {
      "image/png": "[encoded data removed]",
      "text/plain": [
       "<matplotlib.figure.Figure at 0x107d8e70160>"
      ]
     },
     "metadata": {},
     "output_type": "display_data"
    }
   ],
   "source": [
    "fig = plt.figure(figsize = (10,6))\n",
    "sns.set_style(\"whitegrid\")\n",
    "ax = sns.boxplot(x=\"improvement_surcharge\", y=\"total_amount\", data=dataset)"
   ]
  },
  {
   "cell_type": "markdown",
   "metadata": {},
   "source": [
    "### Latiture and Longitude"
   ]
  },
  {
   "cell_type": "code",
   "execution_count": 44,
   "metadata": {},
   "outputs": [
    {
     "data": {
      "text/plain": [
       "<matplotlib.collections.PathCollection at 0x127c2f7c080>"
      ]
     },
     "execution_count": 44,
     "metadata": {},
     "output_type": "execute_result"
    },
    {
     "data": {
      "image/png": "[encoded data removed]",
      "text/plain": [
       "<matplotlib.figure.Figure at 0x127c2f44518>"
      ]
     },
     "metadata": {},
     "output_type": "display_data"
    }
   ],
   "source": [
    "import matplotlib.pyplot as plt\n",
    "plt.scatter(dataset[\"pickup_longitude\"],dataset[\"pickup_latitude\"],c = \"blue\")\n",
    "plt.scatter(dataset[\"dropoff_longitude\"],dataset[\"dropoff_latitude\"],c = \"red\")"
   ]
  },
  {
   "cell_type": "code",
   "execution_count": 29,
   "metadata": {},
   "outputs": [
    {
     "data": {
      "text/plain": [
       "count    1.111117e+06\n",
       "mean    -7.306587e+01\n",
       "std      8.142411e+00\n",
       "min     -1.161129e+02\n",
       "25%     -7.399177e+01\n",
       "50%     -7.398135e+01\n",
       "75%     -7.396622e+01\n",
       "max      0.000000e+00\n",
       "Name: pickup_longitude, dtype: float64"
      ]
     },
     "execution_count": 29,
     "metadata": {},
     "output_type": "execute_result"
    }
   ],
   "source": [
    "dataset[\"pickup_longitude\"].describe()"
   ]
  },
  {
   "cell_type": "code",
   "execution_count": 154,
   "metadata": {},
   "outputs": [
    {
     "data": {
      "image/png": "[encoded data removed]",
      "text/plain": [
       "<matplotlib.figure.Figure at 0x2341414bc88>"
      ]
     },
     "metadata": {},
     "output_type": "display_data"
    }
   ],
   "source": [
    "fig = plt.figure(figsize = (10,6))\n",
    "sns.set_style(\"whitegrid\")\n",
    "ax = sns.boxplot(x=\"pickup_longitude\",data = dataset)"
   ]
  },
  {
   "cell_type": "markdown",
   "metadata": {},
   "source": [
    "Outlier in Pickup longitude\n",
    "-  most data between -80 and -60"
   ]
  },
  {
   "cell_type": "code",
   "execution_count": 49,
   "metadata": {},
   "outputs": [
    {
     "data": {
      "image/png": "[encoded data removed]",
      "text/plain": [
       "<matplotlib.figure.Figure at 0x1279f162320>"
      ]
     },
     "metadata": {},
     "output_type": "display_data"
    }
   ],
   "source": [
    "fig = plt.figure(figsize = (10,6))\n",
    "sns.set_style(\"whitegrid\")\n",
    "ax = sns.boxplot(x=\"pickup_latitude\",data = dataset)"
   ]
  },
  {
   "cell_type": "markdown",
   "metadata": {},
   "source": [
    "Outlier in Pickup latitude\n",
    "-  most data between 35 and 50"
   ]
  },
  {
   "cell_type": "code",
   "execution_count": 50,
   "metadata": {},
   "outputs": [
    {
     "data": {
      "image/png": "[encoded data removed]",
      "text/plain": [
       "<matplotlib.figure.Figure at 0x1279f3e3748>"
      ]
     },
     "metadata": {},
     "output_type": "display_data"
    }
   ],
   "source": [
    "fig = plt.figure(figsize = (10,6))\n",
    "sns.set_style(\"whitegrid\")\n",
    "ax = sns.boxplot(x=\"dropoff_latitude\",data = dataset)"
   ]
  },
  {
   "cell_type": "markdown",
   "metadata": {},
   "source": [
    "Outlier in Dropoff latitude\n",
    "-  most data between 35 and 50"
   ]
  },
  {
   "cell_type": "code",
   "execution_count": 214,
   "metadata": {},
   "outputs": [
    {
     "data": {
      "image/png": "[encoded data removed]",
      "text/plain": [
       "<matplotlib.figure.Figure at 0x1279eb7dc88>"
      ]
     },
     "metadata": {},
     "output_type": "display_data"
    }
   ],
   "source": [
    "fig = plt.figure(figsize = (10,6))\n",
    "sns.set_style(\"whitegrid\")\n",
    "ax = sns.boxplot(x=\"dropoff_longitude\",data = dataset)"
   ]
  },
  {
   "cell_type": "markdown",
   "metadata": {},
   "source": [
    "Outlier in Dropoff longitude\n",
    "-  most data between -81 to -68"
   ]
  },
  {
   "cell_type": "markdown",
   "metadata": {},
   "source": [
    "## Correlation"
   ]
  },
  {
   "cell_type": "code",
   "execution_count": 337,
   "metadata": {},
   "outputs": [
    {
     "data": {
      "image/png": "[encoded data removed]",
      "text/plain": [
       "<matplotlib.figure.Figure at 0x2341b844978>"
      ]
     },
     "metadata": {},
     "output_type": "display_data"
    }
   ],
   "source": [
    "#Correlation of features\n",
    "corr_features = dataset\n",
    "cmat = corr_features.corr()\n",
    "f, ax = plt.subplots(figsize=(14,12))\n",
    "sns.heatmap(cmat,square=True,annot=True,linewidths=0, vmin=-1,cmap=\"RdBu_r\")\n",
    "f.tight_layout()\n",
    "#plt.savefig(\"corr.png\")\n",
    "plt.show()"
   ]
  },
  {
   "cell_type": "markdown",
   "metadata": {},
   "source": [
    "## Feature Engineering"
   ]
  },
  {
   "cell_type": "markdown",
   "metadata": {},
   "source": [
    "### Trip Distance"
   ]
  },
  {
   "cell_type": "code",
   "execution_count": 224,
   "metadata": {},
   "outputs": [
    {
     "data": {
      "image/png": "[encoded data removed]",
      "text/plain": [
       "<matplotlib.figure.Figure at 0x2346c8dfeb8>"
      ]
     },
     "metadata": {},
     "output_type": "display_data"
    }
   ],
   "source": [
    "fig = plt.figure(figsize = (10,6))\n",
    "sns.set_style(\"whitegrid\")\n",
    "ax = sns.boxplot(y=\"trip_distance\",data = dataset)"
   ]
  },
  {
   "cell_type": "code",
   "execution_count": 223,
   "metadata": {},
   "outputs": [
    {
     "data": {
      "text/plain": [
       "<matplotlib.axes._subplots.AxesSubplot at 0x2346c8ae6a0>"
      ]
     },
     "execution_count": 223,
     "metadata": {},
     "output_type": "execute_result"
    },
    {
     "data": {
      "image/png": "[encoded data removed]",
      "text/plain": [
       "<matplotlib.figure.Figure at 0x2346c8abb70>"
      ]
     },
     "metadata": {},
     "output_type": "display_data"
    }
   ],
   "source": [
    "sns.distplot(dataset[\"trip_distance\"])"
   ]
  },
  {
   "cell_type": "code",
   "execution_count": 219,
   "metadata": {},
   "outputs": [
    {
     "data": {
      "text/plain": [
       "(0, 15)"
      ]
     },
     "execution_count": 219,
     "metadata": {},
     "output_type": "execute_result"
    }
   ],
   "source": [
    "dataset[(dataset['trip_distance'] >= 100)].shape  "
   ]
  },
  {
   "cell_type": "code",
   "execution_count": 302,
   "metadata": {},
   "outputs": [
    {
     "data": {
      "text/plain": [
       "(1113541, 15)"
      ]
     },
     "execution_count": 302,
     "metadata": {},
     "output_type": "execute_result"
    }
   ],
   "source": [
    "dataset = dataset[(dataset['trip_distance'] <= 100)]  \n",
    "dataset.shape"
   ]
  },
  {
   "cell_type": "markdown",
   "metadata": {},
   "source": [
    "### Total Amount"
   ]
  },
  {
   "cell_type": "code",
   "execution_count": 303,
   "metadata": {},
   "outputs": [
    {
     "data": {
      "text/plain": [
       "(1113035, 15)"
      ]
     },
     "execution_count": 303,
     "metadata": {},
     "output_type": "execute_result"
    }
   ],
   "source": [
    "dataset = dataset[(dataset['total_amount'] >= 0)]\n",
    "dataset.shape"
   ]
  },
  {
   "cell_type": "code",
   "execution_count": 304,
   "metadata": {},
   "outputs": [
    {
     "data": {
      "text/plain": [
       "(1111111, 15)"
      ]
     },
     "execution_count": 304,
     "metadata": {},
     "output_type": "execute_result"
    }
   ],
   "source": [
    "dataset = dataset[(dataset['total_amount'] <= 100)]\n",
    "dataset.shape"
   ]
  },
  {
   "cell_type": "code",
   "execution_count": 115,
   "metadata": {},
   "outputs": [
    {
     "data": {
      "image/png": "[encoded data removed]",
      "text/plain": [
       "<matplotlib.figure.Figure at 0x23405192080>"
      ]
     },
     "metadata": {},
     "output_type": "display_data"
    }
   ],
   "source": [
    "fig = plt.figure(figsize = (10,6))\n",
    "sns.set_style(\"whitegrid\")\n",
    "ax = sns.boxplot(y=\"total_amount\",data = dataset)"
   ]
  },
  {
   "cell_type": "code",
   "execution_count": 141,
   "metadata": {},
   "outputs": [
    {
     "data": {
      "text/html": [
       "<div>\n",
       "<style scoped>\n",
       "    .dataframe tbody tr th:only-of-type {\n",
       "        vertical-align: middle;\n",
       "    }\n",
       "\n",
       "    .dataframe tbody tr th {\n",
       "        vertical-align: top;\n",
       "    }\n",
       "\n",
       "    .dataframe thead th {\n",
       "        text-align: right;\n",
       "    }\n",
       "</style>\n",
       "<table border=\"1\" class=\"dataframe\">\n",
       "  <thead>\n",
       "    <tr style=\"text-align: right;\">\n",
       "      <th></th>\n",
       "      <th>trip_distance</th>\n",
       "      <th>pickup_longitude</th>\n",
       "      <th>pickup_latitude</th>\n",
       "      <th>RatecodeID</th>\n",
       "      <th>dropoff_longitude</th>\n",
       "      <th>dropoff_latitude</th>\n",
       "      <th>payment_type</th>\n",
       "      <th>tolls_amount</th>\n",
       "      <th>total_amount</th>\n",
       "      <th>TimeTravelled</th>\n",
       "      <th>Velocity</th>\n",
       "      <th>Pick Up Time</th>\n",
       "    </tr>\n",
       "  </thead>\n",
       "  <tbody>\n",
       "    <tr>\n",
       "      <th>count</th>\n",
       "      <td>1.094995e+06</td>\n",
       "      <td>1.094995e+06</td>\n",
       "      <td>1.094995e+06</td>\n",
       "      <td>1.094995e+06</td>\n",
       "      <td>1.094995e+06</td>\n",
       "      <td>1.094995e+06</td>\n",
       "      <td>1.094995e+06</td>\n",
       "      <td>1.094995e+06</td>\n",
       "      <td>1.094995e+06</td>\n",
       "      <td>1.094995e+06</td>\n",
       "      <td>1.094995e+06</td>\n",
       "      <td>1.094995e+06</td>\n",
       "    </tr>\n",
       "    <tr>\n",
       "      <th>mean</th>\n",
       "      <td>3.005406e+00</td>\n",
       "      <td>-7.397307e+01</td>\n",
       "      <td>4.075089e+01</td>\n",
       "      <td>1.034162e+00</td>\n",
       "      <td>-7.397293e+01</td>\n",
       "      <td>4.075171e+01</td>\n",
       "      <td>1.347648e+00</td>\n",
       "      <td>3.191369e-01</td>\n",
       "      <td>1.644092e+01</td>\n",
       "      <td>1.006899e+03</td>\n",
       "      <td>3.177366e-03</td>\n",
       "      <td>1.403488e+01</td>\n",
       "    </tr>\n",
       "    <tr>\n",
       "      <th>std</th>\n",
       "      <td>3.614975e+00</td>\n",
       "      <td>3.892347e-02</td>\n",
       "      <td>2.836858e-02</td>\n",
       "      <td>3.930121e-01</td>\n",
       "      <td>3.591475e-02</td>\n",
       "      <td>3.226469e-02</td>\n",
       "      <td>4.916603e-01</td>\n",
       "      <td>1.379440e+00</td>\n",
       "      <td>1.294448e+01</td>\n",
       "      <td>3.227615e+03</td>\n",
       "      <td>1.707701e-03</td>\n",
       "      <td>6.480353e+00</td>\n",
       "    </tr>\n",
       "    <tr>\n",
       "      <th>min</th>\n",
       "      <td>0.000000e+00</td>\n",
       "      <td>-7.497944e+01</td>\n",
       "      <td>4.027691e+01</td>\n",
       "      <td>1.000000e+00</td>\n",
       "      <td>-7.497732e+01</td>\n",
       "      <td>4.019791e+01</td>\n",
       "      <td>1.000000e+00</td>\n",
       "      <td>0.000000e+00</td>\n",
       "      <td>0.000000e+00</td>\n",
       "      <td>0.000000e+00</td>\n",
       "      <td>0.000000e+00</td>\n",
       "      <td>0.000000e+00</td>\n",
       "    </tr>\n",
       "    <tr>\n",
       "      <th>25%</th>\n",
       "      <td>1.000000e+00</td>\n",
       "      <td>-7.399191e+01</td>\n",
       "      <td>4.073757e+01</td>\n",
       "      <td>1.000000e+00</td>\n",
       "      <td>-7.399130e+01</td>\n",
       "      <td>4.073619e+01</td>\n",
       "      <td>1.000000e+00</td>\n",
       "      <td>0.000000e+00</td>\n",
       "      <td>8.800000e+00</td>\n",
       "      <td>4.140000e+02</td>\n",
       "      <td>2.041985e-03</td>\n",
       "      <td>9.416667e+00</td>\n",
       "    </tr>\n",
       "    <tr>\n",
       "      <th>50%</th>\n",
       "      <td>1.710000e+00</td>\n",
       "      <td>-7.398157e+01</td>\n",
       "      <td>4.075416e+01</td>\n",
       "      <td>1.000000e+00</td>\n",
       "      <td>-7.397962e+01</td>\n",
       "      <td>4.075456e+01</td>\n",
       "      <td>1.000000e+00</td>\n",
       "      <td>0.000000e+00</td>\n",
       "      <td>1.230000e+01</td>\n",
       "      <td>6.940000e+02</td>\n",
       "      <td>2.830626e-03</td>\n",
       "      <td>1.460000e+01</td>\n",
       "    </tr>\n",
       "    <tr>\n",
       "      <th>75%</th>\n",
       "      <td>3.210000e+00</td>\n",
       "      <td>-7.396703e+01</td>\n",
       "      <td>4.076851e+01</td>\n",
       "      <td>1.000000e+00</td>\n",
       "      <td>-7.396284e+01</td>\n",
       "      <td>4.076979e+01</td>\n",
       "      <td>2.000000e+00</td>\n",
       "      <td>0.000000e+00</td>\n",
       "      <td>1.836000e+01</td>\n",
       "      <td>1.139000e+03</td>\n",
       "      <td>3.871914e-03</td>\n",
       "      <td>1.953333e+01</td>\n",
       "    </tr>\n",
       "    <tr>\n",
       "      <th>max</th>\n",
       "      <td>7.800000e+01</td>\n",
       "      <td>-7.311838e+01</td>\n",
       "      <td>4.190676e+01</td>\n",
       "      <td>9.900000e+01</td>\n",
       "      <td>-7.311838e+01</td>\n",
       "      <td>4.170646e+01</td>\n",
       "      <td>4.000000e+00</td>\n",
       "      <td>7.000000e+01</td>\n",
       "      <td>1.000000e+02</td>\n",
       "      <td>8.639800e+04</td>\n",
       "      <td>2.068966e-02</td>\n",
       "      <td>2.398333e+01</td>\n",
       "    </tr>\n",
       "  </tbody>\n",
       "</table>\n",
       "</div>"
      ],
      "text/plain": [
       "       trip_distance  pickup_longitude  pickup_latitude    RatecodeID  \\\n",
       "count   1.094995e+06      1.094995e+06     1.094995e+06  1.094995e+06   \n",
       "mean    3.005406e+00     -7.397307e+01     4.075089e+01  1.034162e+00   \n",
       "std     3.614975e+00      3.892347e-02     2.836858e-02  3.930121e-01   \n",
       "min     0.000000e+00     -7.497944e+01     4.027691e+01  1.000000e+00   \n",
       "25%     1.000000e+00     -7.399191e+01     4.073757e+01  1.000000e+00   \n",
       "50%     1.710000e+00     -7.398157e+01     4.075416e+01  1.000000e+00   \n",
       "75%     3.210000e+00     -7.396703e+01     4.076851e+01  1.000000e+00   \n",
       "max     7.800000e+01     -7.311838e+01     4.190676e+01  9.900000e+01   \n",
       "\n",
       "       dropoff_longitude  dropoff_latitude  payment_type  tolls_amount  \\\n",
       "count       1.094995e+06      1.094995e+06  1.094995e+06  1.094995e+06   \n",
       "mean       -7.397293e+01      4.075171e+01  1.347648e+00  3.191369e-01   \n",
       "std         3.591475e-02      3.226469e-02  4.916603e-01  1.379440e+00   \n",
       "min        -7.497732e+01      4.019791e+01  1.000000e+00  0.000000e+00   \n",
       "25%        -7.399130e+01      4.073619e+01  1.000000e+00  0.000000e+00   \n",
       "50%        -7.397962e+01      4.075456e+01  1.000000e+00  0.000000e+00   \n",
       "75%        -7.396284e+01      4.076979e+01  2.000000e+00  0.000000e+00   \n",
       "max        -7.311838e+01      4.170646e+01  4.000000e+00  7.000000e+01   \n",
       "\n",
       "       total_amount  TimeTravelled      Velocity  Pick Up Time  \n",
       "count  1.094995e+06   1.094995e+06  1.094995e+06  1.094995e+06  \n",
       "mean   1.644092e+01   1.006899e+03  3.177366e-03  1.403488e+01  \n",
       "std    1.294448e+01   3.227615e+03  1.707701e-03  6.480353e+00  \n",
       "min    0.000000e+00   0.000000e+00  0.000000e+00  0.000000e+00  \n",
       "25%    8.800000e+00   4.140000e+02  2.041985e-03  9.416667e+00  \n",
       "50%    1.230000e+01   6.940000e+02  2.830626e-03  1.460000e+01  \n",
       "75%    1.836000e+01   1.139000e+03  3.871914e-03  1.953333e+01  \n",
       "max    1.000000e+02   8.639800e+04  2.068966e-02  2.398333e+01  "
      ]
     },
     "execution_count": 141,
     "metadata": {},
     "output_type": "execute_result"
    }
   ],
   "source": [
    "dataset.describe()"
   ]
  },
  {
   "cell_type": "markdown",
   "metadata": {},
   "source": [
    "### Tolls Amount"
   ]
  },
  {
   "cell_type": "code",
   "execution_count": 151,
   "metadata": {},
   "outputs": [
    {
     "data": {
      "image/png": "[encoded data removed]",
      "text/plain": [
       "<matplotlib.figure.Figure at 0x234114d34a8>"
      ]
     },
     "metadata": {},
     "output_type": "display_data"
    }
   ],
   "source": [
    "fig = plt.figure(figsize = (10,6))\n",
    "sns.set_style(\"whitegrid\")\n",
    "ax = sns.boxplot(y=\"tolls_amount\", data=dataset)"
   ]
  },
  {
   "cell_type": "code",
   "execution_count": 305,
   "metadata": {},
   "outputs": [
    {
     "data": {
      "text/plain": [
       "(1111111, 15)"
      ]
     },
     "execution_count": 305,
     "metadata": {},
     "output_type": "execute_result"
    }
   ],
   "source": [
    "dataset = dataset[(dataset['tolls_amount'] >= 0)]\n",
    "dataset.shape"
   ]
  },
  {
   "cell_type": "code",
   "execution_count": 306,
   "metadata": {},
   "outputs": [
    {
     "data": {
      "text/plain": [
       "(1111111, 15)"
      ]
     },
     "execution_count": 306,
     "metadata": {},
     "output_type": "execute_result"
    }
   ],
   "source": [
    "dataset = dataset[(dataset['tolls_amount'] <= 100)]  \n",
    "dataset.shape"
   ]
  },
  {
   "cell_type": "markdown",
   "metadata": {},
   "source": [
    "### Time travelled - Pickup and Dropoff time(Minutes)"
   ]
  },
  {
   "cell_type": "code",
   "execution_count": 307,
   "metadata": {},
   "outputs": [],
   "source": [
    "dataset[\"tpep_pickup_datetime\"] = pd.to_datetime(dataset.tpep_pickup_datetime)\n",
    "dataset[\"tpep_dropoff_datetime\"] = pd.to_datetime(dataset.tpep_dropoff_datetime)\n",
    "test_dataset[\"tpep_pickup_datetime\"] = pd.to_datetime(test_dataset.tpep_pickup_datetime)\n",
    "test_dataset[\"tpep_dropoff_datetime\"] = pd.to_datetime(test_dataset.tpep_dropoff_datetime)"
   ]
  },
  {
   "cell_type": "code",
   "execution_count": 308,
   "metadata": {},
   "outputs": [],
   "source": [
    "timeInterval = dataset[\"tpep_dropoff_datetime\"]-dataset[\"tpep_pickup_datetime\"]\n",
    "timeInterval_test = test_dataset[\"tpep_dropoff_datetime\"]-test_dataset[\"tpep_pickup_datetime\"]"
   ]
  },
  {
   "cell_type": "code",
   "execution_count": 309,
   "metadata": {},
   "outputs": [
    {
     "data": {
      "text/plain": [
       "0   00:20:17\n",
       "1   00:05:22\n",
       "2   00:06:13\n",
       "3   00:06:29\n",
       "4   00:00:55\n",
       "dtype: timedelta64[ns]"
      ]
     },
     "execution_count": 309,
     "metadata": {},
     "output_type": "execute_result"
    }
   ],
   "source": [
    "timeInterval.head()"
   ]
  },
  {
   "cell_type": "code",
   "execution_count": 310,
   "metadata": {},
   "outputs": [
    {
     "data": {
      "text/plain": [
       "0   00:03:22\n",
       "1   00:04:00\n",
       "2   00:12:36\n",
       "3   00:07:14\n",
       "4   00:26:04\n",
       "dtype: timedelta64[ns]"
      ]
     },
     "execution_count": 310,
     "metadata": {},
     "output_type": "execute_result"
    }
   ],
   "source": [
    "timeInterval_test.head()"
   ]
  },
  {
   "cell_type": "code",
   "execution_count": 311,
   "metadata": {},
   "outputs": [],
   "source": [
    "timeInterval = (timeInterval/np.timedelta64(1, 's'))\n",
    "timeInterval_test = (timeInterval_test/np.timedelta64(1, 's'))"
   ]
  },
  {
   "cell_type": "code",
   "execution_count": 312,
   "metadata": {},
   "outputs": [],
   "source": [
    "dataset[\"TimeTravelled\"] = timeInterval\n",
    "test_dataset[\"TimeTravelled\"] = timeInterval_test"
   ]
  },
  {
   "cell_type": "code",
   "execution_count": 314,
   "metadata": {},
   "outputs": [],
   "source": [
    "dataset = dataset[(dataset['TimeTravelled'] >= 0)]\n",
    "dataset = dataset[(dataset['TimeTravelled'] <= 10000)]"
   ]
  },
  {
   "cell_type": "code",
   "execution_count": 315,
   "metadata": {},
   "outputs": [
    {
     "data": {
      "text/plain": [
       "<matplotlib.axes._subplots.AxesSubplot at 0x234031e7cf8>"
      ]
     },
     "execution_count": 315,
     "metadata": {},
     "output_type": "execute_result"
    },
    {
     "data": {
      "image/png": "[encoded data removed]",
      "text/plain": [
       "<matplotlib.figure.Figure at 0x2340310bbe0>"
      ]
     },
     "metadata": {},
     "output_type": "display_data"
    }
   ],
   "source": [
    "sns.distplot(dataset[\"TimeTravelled\"])\n",
    "sns.distplot(test_dataset[\"TimeTravelled\"])"
   ]
  },
  {
   "cell_type": "code",
   "execution_count": 316,
   "metadata": {},
   "outputs": [
    {
     "data": {
      "image/png": "[encoded data removed]",
      "text/plain": [
       "<matplotlib.figure.Figure at 0x23414198780>"
      ]
     },
     "metadata": {},
     "output_type": "display_data"
    }
   ],
   "source": [
    "fig = plt.figure(figsize = (10,6))\n",
    "sns.set_style(\"whitegrid\")\n",
    "ax = sns.boxplot(y=\"TimeTravelled\",data = dataset)"
   ]
  },
  {
   "cell_type": "code",
   "execution_count": 147,
   "metadata": {},
   "outputs": [
    {
     "data": {
      "text/plain": [
       "(1640, 14)"
      ]
     },
     "execution_count": 147,
     "metadata": {},
     "output_type": "execute_result"
    }
   ],
   "source": [
    "#dataset[(dataset['TimeTravelled'] > 10000)]\n",
    "dataset.head()"
   ]
  },
  {
   "cell_type": "code",
   "execution_count": 235,
   "metadata": {},
   "outputs": [
    {
     "data": {
      "text/plain": [
       "count    1.109447e+06\n",
       "mean     8.847444e+02\n",
       "std      7.096968e+02\n",
       "min      0.000000e+00\n",
       "25%      4.110000e+02\n",
       "50%      6.910000e+02\n",
       "75%      1.134000e+03\n",
       "max      9.998000e+03\n",
       "Name: TimeTravelled, dtype: float64"
      ]
     },
     "execution_count": 235,
     "metadata": {},
     "output_type": "execute_result"
    }
   ],
   "source": [
    "dataset['TimeTravelled'].describe()"
   ]
  },
  {
   "cell_type": "markdown",
   "metadata": {},
   "source": [
    "### PickUp time Feature"
   ]
  },
  {
   "cell_type": "code",
   "execution_count": 317,
   "metadata": {},
   "outputs": [],
   "source": [
    "#dataset[\"Travelling Time\"] = (dataset.tpep_dropoff_datetime - dataset.tpep_pickup_datetime)\n",
    "hours = dataset[\"tpep_pickup_datetime\"].dt.hour\n",
    "minutes = dataset[\"tpep_pickup_datetime\"].dt.minute\n",
    "hours_test = test_dataset[\"tpep_pickup_datetime\"].dt.hour\n",
    "minutes_test = test_dataset[\"tpep_pickup_datetime\"].dt.minute"
   ]
  },
  {
   "cell_type": "code",
   "execution_count": 318,
   "metadata": {},
   "outputs": [],
   "source": [
    "minutes = minutes.abs()\n",
    "hours = hours.abs()\n",
    "minutes_test = minutes_test.abs()\n",
    "hours_test = hours_test.abs()"
   ]
  },
  {
   "cell_type": "code",
   "execution_count": 319,
   "metadata": {},
   "outputs": [],
   "source": [
    "pickUpTime = hours + minutes/60"
   ]
  },
  {
   "cell_type": "code",
   "execution_count": 320,
   "metadata": {},
   "outputs": [],
   "source": [
    "pickUpTime_test = hours_test + minutes_test/60"
   ]
  },
  {
   "cell_type": "code",
   "execution_count": 322,
   "metadata": {},
   "outputs": [],
   "source": [
    "dataset[\"PickUpTime\"] =  pickUpTime.abs()\n",
    "test_dataset[\"PickUpTime\"] =  pickUpTime_test.abs()"
   ]
  },
  {
   "cell_type": "code",
   "execution_count": 323,
   "metadata": {},
   "outputs": [
    {
     "data": {
      "text/plain": [
       "<matplotlib.axes._subplots.AxesSubplot at 0x234031b2080>"
      ]
     },
     "execution_count": 323,
     "metadata": {},
     "output_type": "execute_result"
    },
    {
     "data": {
      "image/png": "[encoded data removed]",
      "text/plain": [
       "<matplotlib.figure.Figure at 0x2346cb04400>"
      ]
     },
     "metadata": {},
     "output_type": "display_data"
    }
   ],
   "source": [
    "sns.distplot(dataset[\"PickUpTime\"])\n",
    "sns.distplot(test_dataset[\"PickUpTime\"])"
   ]
  },
  {
   "cell_type": "code",
   "execution_count": 324,
   "metadata": {},
   "outputs": [
    {
     "data": {
      "image/png": "[encoded data removed]",
      "text/plain": [
       "<matplotlib.figure.Figure at 0x2346cafacc0>"
      ]
     },
     "metadata": {},
     "output_type": "display_data"
    }
   ],
   "source": [
    "fig = plt.figure(figsize = (10,6))\n",
    "sns.set_style(\"whitegrid\")\n",
    "ax = sns.boxplot(y=\"PickUpTime\",data = dataset)"
   ]
  },
  {
   "cell_type": "markdown",
   "metadata": {},
   "source": [
    "### Day of the week"
   ]
  },
  {
   "cell_type": "markdown",
   "metadata": {},
   "source": [
    "### Velocity Feature"
   ]
  },
  {
   "cell_type": "code",
   "execution_count": 325,
   "metadata": {},
   "outputs": [],
   "source": [
    "dataset[\"Velocity\"] = (dataset[\"trip_distance\"]/dataset[\"TimeTravelled\"])\n",
    "test_dataset[\"Velocity\"] = (test_dataset[\"trip_distance\"]/test_dataset[\"TimeTravelled\"])"
   ]
  },
  {
   "cell_type": "code",
   "execution_count": 326,
   "metadata": {},
   "outputs": [],
   "source": [
    "#dataset = dataset.replace([np.inf, -np.inf], np.nan)\n",
    "#test_dataset = test_dataset.replace([np.inf, -np.inf], np.nan)\n",
    "#dataset = dataset.replace(np.nan,0)\n",
    "#test_dataset = test_dataset.replace(np.nan,0)"
   ]
  },
  {
   "cell_type": "code",
   "execution_count": 328,
   "metadata": {},
   "outputs": [
    {
     "data": {
      "text/plain": [
       "(1022, 19)"
      ]
     },
     "execution_count": 328,
     "metadata": {},
     "output_type": "execute_result"
    }
   ],
   "source": [
    "dataset[(dataset['Velocity'] > 0.0207124)].shape"
   ]
  },
  {
   "cell_type": "code",
   "execution_count": 329,
   "metadata": {},
   "outputs": [],
   "source": [
    "dataset = dataset[(dataset['Velocity'] < 0.0207124)]"
   ]
  },
  {
   "cell_type": "code",
   "execution_count": 330,
   "metadata": {},
   "outputs": [
    {
     "data": {
      "text/plain": [
       "<matplotlib.axes._subplots.AxesSubplot at 0x23409866ac8>"
      ]
     },
     "execution_count": 330,
     "metadata": {},
     "output_type": "execute_result"
    },
    {
     "data": {
      "image/png": "[encoded data removed]",
      "text/plain": [
       "<matplotlib.figure.Figure at 0x23405520128>"
      ]
     },
     "metadata": {},
     "output_type": "display_data"
    }
   ],
   "source": [
    "sns.distplot(dataset[\"Velocity\"])\n",
    "sns.distplot(test_dataset[\"Velocity\"])"
   ]
  },
  {
   "cell_type": "code",
   "execution_count": 331,
   "metadata": {},
   "outputs": [
    {
     "data": {
      "image/png": "[encoded data removed]",
      "text/plain": [
       "<matplotlib.figure.Figure at 0x23404e9f128>"
      ]
     },
     "metadata": {},
     "output_type": "display_data"
    }
   ],
   "source": [
    "fig = plt.figure(figsize = (10,6))\n",
    "sns.set_style(\"whitegrid\")\n",
    "ax = sns.boxplot(y=\"Velocity\",data = dataset)"
   ]
  },
  {
   "cell_type": "markdown",
   "metadata": {},
   "source": [
    "## Pickup and DropOff location"
   ]
  },
  {
   "cell_type": "code",
   "execution_count": 332,
   "metadata": {},
   "outputs": [
    {
     "data": {
      "text/plain": [
       "(1093809, 19)"
      ]
     },
     "execution_count": 332,
     "metadata": {},
     "output_type": "execute_result"
    }
   ],
   "source": [
    "dataset = dataset[(dataset['pickup_longitude'] >= -75)]\n",
    "dataset = dataset[(dataset['pickup_longitude'] <= -72)]  \n",
    "#dataset[\"pickup_longitude\"] = pd.DataFrame(pd.cut(dataset[\"pickup_longitude\"], bins = 64,labels = f))\n",
    "dataset.shape"
   ]
  },
  {
   "cell_type": "code",
   "execution_count": 333,
   "metadata": {},
   "outputs": [
    {
     "data": {
      "text/plain": [
       "(1093807, 19)"
      ]
     },
     "execution_count": 333,
     "metadata": {},
     "output_type": "execute_result"
    }
   ],
   "source": [
    "dataset = dataset[(dataset['pickup_latitude'] >= 40)]\n",
    "dataset = dataset[(dataset['pickup_latitude'] <= 42)]  \n",
    "#dataset[\"pickup_latitude\"] = pd.DataFrame(pd.cut(dataset[\"pickup_latitude\"], bins = 64,labels =f))\n",
    "dataset.shape"
   ]
  },
  {
   "cell_type": "code",
   "execution_count": 334,
   "metadata": {},
   "outputs": [
    {
     "data": {
      "text/plain": [
       "(1093320, 19)"
      ]
     },
     "execution_count": 334,
     "metadata": {},
     "output_type": "execute_result"
    }
   ],
   "source": [
    "dataset = dataset[(dataset['dropoff_longitude'] >= -75)]\n",
    "dataset = dataset[(dataset['dropoff_longitude'] <=-72)]  \n",
    "#dataset[\"dropoff_longitude\"] = pd.DataFrame(pd.cut(dataset[\"dropoff_longitude\"], bins = 64,labels = f))\n",
    "dataset.shape"
   ]
  },
  {
   "cell_type": "code",
   "execution_count": 335,
   "metadata": {},
   "outputs": [
    {
     "data": {
      "text/plain": [
       "(1093320, 19)"
      ]
     },
     "execution_count": 335,
     "metadata": {},
     "output_type": "execute_result"
    }
   ],
   "source": [
    "dataset = dataset[(dataset['dropoff_latitude'] >= 40)]\n",
    "dataset = dataset[(dataset['dropoff_latitude'] <= 42)]  \n",
    "#dataset[\"dropoff_latitude\"] = pd.DataFrame(pd.cut(dataset[\"dropoff_latitude\"], bins = 64,labels = [0:63]))\n",
    "dataset.shape"
   ]
  },
  {
   "cell_type": "markdown",
   "metadata": {},
   "source": [
    "## store_and_fwd_flag feature"
   ]
  },
  {
   "cell_type": "code",
   "execution_count": 336,
   "metadata": {},
   "outputs": [],
   "source": [
    "from sklearn.preprocessing import LabelEncoder \n",
    "encoder = LabelEncoder()\n",
    "dataset[\"store_and_fwd_flag\"] = encoder.fit_transform(dataset[\"store_and_fwd_flag\"])\n",
    "test_dataset[\"store_and_fwd_flag\"] = encoder.fit_transform(test_dataset[\"store_and_fwd_flag\"])"
   ]
  },
  {
   "cell_type": "code",
   "execution_count": 257,
   "metadata": {},
   "outputs": [
    {
     "data": {
      "text/html": [
       "<div>\n",
       "<style scoped>\n",
       "    .dataframe tbody tr th:only-of-type {\n",
       "        vertical-align: middle;\n",
       "    }\n",
       "\n",
       "    .dataframe tbody tr th {\n",
       "        vertical-align: top;\n",
       "    }\n",
       "\n",
       "    .dataframe thead th {\n",
       "        text-align: right;\n",
       "    }\n",
       "</style>\n",
       "<table border=\"1\" class=\"dataframe\">\n",
       "  <thead>\n",
       "    <tr style=\"text-align: right;\">\n",
       "      <th></th>\n",
       "      <th>VendorID</th>\n",
       "      <th>tpep_pickup_datetime</th>\n",
       "      <th>tpep_dropoff_datetime</th>\n",
       "      <th>passenger_count</th>\n",
       "      <th>trip_distance</th>\n",
       "      <th>pickup_longitude</th>\n",
       "      <th>pickup_latitude</th>\n",
       "      <th>RatecodeID</th>\n",
       "      <th>store_and_fwd_flag</th>\n",
       "      <th>dropoff_longitude</th>\n",
       "      <th>dropoff_latitude</th>\n",
       "      <th>payment_type</th>\n",
       "      <th>tolls_amount</th>\n",
       "      <th>improvement_surcharge</th>\n",
       "      <th>total_amount</th>\n",
       "      <th>TimeTravelled</th>\n",
       "      <th>Velocity</th>\n",
       "    </tr>\n",
       "  </thead>\n",
       "  <tbody>\n",
       "    <tr>\n",
       "      <th>0</th>\n",
       "      <td>2</td>\n",
       "      <td>2016-06-02 00:34:25</td>\n",
       "      <td>2016-06-02 00:54:42</td>\n",
       "      <td>1</td>\n",
       "      <td>6.10</td>\n",
       "      <td>-73.994568</td>\n",
       "      <td>40.725990</td>\n",
       "      <td>1</td>\n",
       "      <td>0</td>\n",
       "      <td>-73.960747</td>\n",
       "      <td>40.799648</td>\n",
       "      <td>1</td>\n",
       "      <td>0.0</td>\n",
       "      <td>0.3</td>\n",
       "      <td>22.30</td>\n",
       "      <td>1217.0</td>\n",
       "      <td>0.005012</td>\n",
       "    </tr>\n",
       "    <tr>\n",
       "      <th>1</th>\n",
       "      <td>1</td>\n",
       "      <td>2016-06-11 13:48:02</td>\n",
       "      <td>2016-06-11 13:53:24</td>\n",
       "      <td>1</td>\n",
       "      <td>1.00</td>\n",
       "      <td>-73.990570</td>\n",
       "      <td>40.771523</td>\n",
       "      <td>1</td>\n",
       "      <td>0</td>\n",
       "      <td>-73.995148</td>\n",
       "      <td>40.759354</td>\n",
       "      <td>1</td>\n",
       "      <td>0.0</td>\n",
       "      <td>0.3</td>\n",
       "      <td>8.50</td>\n",
       "      <td>322.0</td>\n",
       "      <td>0.003106</td>\n",
       "    </tr>\n",
       "    <tr>\n",
       "      <th>2</th>\n",
       "      <td>1</td>\n",
       "      <td>2016-06-22 16:48:49</td>\n",
       "      <td>2016-06-22 16:55:02</td>\n",
       "      <td>1</td>\n",
       "      <td>0.70</td>\n",
       "      <td>-73.985054</td>\n",
       "      <td>40.768436</td>\n",
       "      <td>1</td>\n",
       "      <td>0</td>\n",
       "      <td>-73.983154</td>\n",
       "      <td>40.760925</td>\n",
       "      <td>1</td>\n",
       "      <td>0.0</td>\n",
       "      <td>0.3</td>\n",
       "      <td>9.75</td>\n",
       "      <td>373.0</td>\n",
       "      <td>0.001877</td>\n",
       "    </tr>\n",
       "    <tr>\n",
       "      <th>3</th>\n",
       "      <td>2</td>\n",
       "      <td>2016-06-12 21:14:19</td>\n",
       "      <td>2016-06-12 21:20:48</td>\n",
       "      <td>1</td>\n",
       "      <td>1.05</td>\n",
       "      <td>-73.985710</td>\n",
       "      <td>40.750546</td>\n",
       "      <td>1</td>\n",
       "      <td>0</td>\n",
       "      <td>-73.978607</td>\n",
       "      <td>40.753746</td>\n",
       "      <td>2</td>\n",
       "      <td>0.0</td>\n",
       "      <td>0.3</td>\n",
       "      <td>7.80</td>\n",
       "      <td>389.0</td>\n",
       "      <td>0.002699</td>\n",
       "    </tr>\n",
       "    <tr>\n",
       "      <th>4</th>\n",
       "      <td>2</td>\n",
       "      <td>2016-06-22 19:56:50</td>\n",
       "      <td>2016-06-22 19:57:45</td>\n",
       "      <td>1</td>\n",
       "      <td>0.37</td>\n",
       "      <td>-73.963051</td>\n",
       "      <td>40.766579</td>\n",
       "      <td>1</td>\n",
       "      <td>0</td>\n",
       "      <td>-73.959557</td>\n",
       "      <td>40.771191</td>\n",
       "      <td>1</td>\n",
       "      <td>0.0</td>\n",
       "      <td>0.3</td>\n",
       "      <td>6.00</td>\n",
       "      <td>55.0</td>\n",
       "      <td>0.006727</td>\n",
       "    </tr>\n",
       "  </tbody>\n",
       "</table>\n",
       "</div>"
      ],
      "text/plain": [
       "   VendorID tpep_pickup_datetime tpep_dropoff_datetime  passenger_count  \\\n",
       "0         2  2016-06-02 00:34:25   2016-06-02 00:54:42                1   \n",
       "1         1  2016-06-11 13:48:02   2016-06-11 13:53:24                1   \n",
       "2         1  2016-06-22 16:48:49   2016-06-22 16:55:02                1   \n",
       "3         2  2016-06-12 21:14:19   2016-06-12 21:20:48                1   \n",
       "4         2  2016-06-22 19:56:50   2016-06-22 19:57:45                1   \n",
       "\n",
       "   trip_distance  pickup_longitude  pickup_latitude  RatecodeID  \\\n",
       "0           6.10        -73.994568        40.725990           1   \n",
       "1           1.00        -73.990570        40.771523           1   \n",
       "2           0.70        -73.985054        40.768436           1   \n",
       "3           1.05        -73.985710        40.750546           1   \n",
       "4           0.37        -73.963051        40.766579           1   \n",
       "\n",
       "   store_and_fwd_flag  dropoff_longitude  dropoff_latitude  payment_type  \\\n",
       "0                   0         -73.960747         40.799648             1   \n",
       "1                   0         -73.995148         40.759354             1   \n",
       "2                   0         -73.983154         40.760925             1   \n",
       "3                   0         -73.978607         40.753746             2   \n",
       "4                   0         -73.959557         40.771191             1   \n",
       "\n",
       "   tolls_amount  improvement_surcharge  total_amount  TimeTravelled  Velocity  \n",
       "0           0.0                    0.3         22.30         1217.0  0.005012  \n",
       "1           0.0                    0.3          8.50          322.0  0.003106  \n",
       "2           0.0                    0.3          9.75          373.0  0.001877  \n",
       "3           0.0                    0.3          7.80          389.0  0.002699  \n",
       "4           0.0                    0.3          6.00           55.0  0.006727  "
      ]
     },
     "execution_count": 257,
     "metadata": {},
     "output_type": "execute_result"
    }
   ],
   "source": [
    "dataset.head()"
   ]
  },
  {
   "cell_type": "code",
   "execution_count": null,
   "metadata": {},
   "outputs": [],
   "source": [
    "import statsmodels.api as sm\n",
    "from scipy import stats\n",
    "\n",
    "X = dataset.drop(\"total_amount\",axis=1)\n",
    "y = dataset[\"total_amount\"]\n",
    "X2 = sm.add_constant(X)\n",
    "est = sm.OLS(y, X2)\n",
    "est2 = est.fit()\n",
    "print(est2.summary())"
   ]
  },
  {
   "cell_type": "markdown",
   "metadata": {},
   "source": [
    "### Delete Features"
   ]
  },
  {
   "cell_type": "markdown",
   "metadata": {},
   "source": [
    "#### Match features of test dataset"
   ]
  },
  {
   "cell_type": "code",
   "execution_count": 344,
   "metadata": {},
   "outputs": [],
   "source": [
    "dataset = dataset.drop(\"tpep_pickup_datetime\",axis=1)\n",
    "dataset = dataset.drop(\"tpep_dropoff_datetime\",axis=1)\n",
    "test_dataset = test_dataset.drop(\"tpep_pickup_datetime\",axis=1)\n",
    "test_dataset = test_dataset.drop(\"tpep_dropoff_datetime\",axis=1)"
   ]
  },
  {
   "cell_type": "markdown",
   "metadata": {},
   "source": [
    "#### Delete Other useless features"
   ]
  },
  {
   "cell_type": "code",
   "execution_count": 264,
   "metadata": {},
   "outputs": [],
   "source": [
    "dataset = dataset.drop(\"VendorID\",axis=1)\n",
    "test_dataset = test_dataset.drop(\"VendorID\",axis=1)"
   ]
  },
  {
   "cell_type": "code",
   "execution_count": 265,
   "metadata": {},
   "outputs": [],
   "source": [
    "dataset = dataset.drop(\"passenger_count\",axis=1)\n",
    "test_dataset = test_dataset.drop(\"passenger_count\",axis=1)"
   ]
  },
  {
   "cell_type": "code",
   "execution_count": 127,
   "metadata": {},
   "outputs": [],
   "source": [
    "dataset = dataset.drop(\"improvement_surcharge\",axis=1)\n",
    "test_dataset = test_dataset.drop(\"improvement_surcharge\",axis=1)"
   ]
  },
  {
   "cell_type": "code",
   "execution_count": 128,
   "metadata": {},
   "outputs": [],
   "source": [
    "dataset = dataset.drop(\"store_and_fwd_flag\",axis=1)\n",
    "test_dataset = test_dataset.drop(\"store_and_fwd_flag\",axis=1)"
   ]
  },
  {
   "cell_type": "markdown",
   "metadata": {},
   "source": [
    "#### Delete Coordinates"
   ]
  },
  {
   "cell_type": "code",
   "execution_count": 89,
   "metadata": {},
   "outputs": [],
   "source": [
    "dataset = dataset.drop(\"dropoff_latitude\",axis=1)\n",
    "test_dataset = test_dataset.drop(\"dropoff_latitude\",axis=1)"
   ]
  },
  {
   "cell_type": "code",
   "execution_count": 90,
   "metadata": {},
   "outputs": [],
   "source": [
    "dataset = dataset.drop(\"pickup_latitude\",axis=1)\n",
    "test_dataset = test_dataset.drop(\"pickup_latitude\",axis=1)"
   ]
  },
  {
   "cell_type": "code",
   "execution_count": 272,
   "metadata": {},
   "outputs": [],
   "source": [
    "dataset = dataset.drop(\"dropoff_longitude\",axis=1)\n",
    "test_dataset = test_dataset.drop(\"dropoff_longitude\",axis=1)"
   ]
  },
  {
   "cell_type": "code",
   "execution_count": 273,
   "metadata": {},
   "outputs": [],
   "source": [
    "dataset = dataset.drop(\"pickup_longitude\",axis=1)\n",
    "test_dataset = test_dataset.drop(\"pickup_longitude\",axis=1)"
   ]
  },
  {
   "cell_type": "code",
   "execution_count": 345,
   "metadata": {},
   "outputs": [
    {
     "data": {
      "text/plain": [
       "(1093320, 16)"
      ]
     },
     "execution_count": 345,
     "metadata": {},
     "output_type": "execute_result"
    }
   ],
   "source": [
    "dataset.shape"
   ]
  },
  {
   "cell_type": "code",
   "execution_count": 346,
   "metadata": {},
   "outputs": [
    {
     "data": {
      "text/plain": [
       "(64000, 15)"
      ]
     },
     "execution_count": 346,
     "metadata": {},
     "output_type": "execute_result"
    }
   ],
   "source": [
    "test_dataset.shape"
   ]
  },
  {
   "cell_type": "markdown",
   "metadata": {},
   "source": [
    "### Split into features and labels"
   ]
  },
  {
   "cell_type": "code",
   "execution_count": 347,
   "metadata": {},
   "outputs": [],
   "source": [
    "features = dataset.drop(\"total_amount\",axis = 1)\n",
    "labels = dataset[\"total_amount\"]"
   ]
  },
  {
   "cell_type": "markdown",
   "metadata": {},
   "source": [
    "## Model Training and Testing"
   ]
  },
  {
   "cell_type": "code",
   "execution_count": 348,
   "metadata": {},
   "outputs": [],
   "source": [
    "from sklearn.model_selection import train_test_split\n",
    "X_train, X_test, y_train, y_test = train_test_split(\n",
    "    features, labels, test_size=0.25, random_state=0)"
   ]
  },
  {
   "cell_type": "code",
   "execution_count": 349,
   "metadata": {},
   "outputs": [
    {
     "data": {
      "text/plain": [
       "RandomForestRegressor(bootstrap=True, criterion='mse', max_depth=None,\n",
       "           max_features='auto', max_leaf_nodes=None,\n",
       "           min_impurity_decrease=0.0, min_impurity_split=None,\n",
       "           min_samples_leaf=1, min_samples_split=2,\n",
       "           min_weight_fraction_leaf=0.0, n_estimators=10, n_jobs=1,\n",
       "           oob_score=False, random_state=None, verbose=0, warm_start=False)"
      ]
     },
     "execution_count": 349,
     "metadata": {},
     "output_type": "execute_result"
    }
   ],
   "source": [
    "from sklearn.ensemble import RandomForestRegressor\n",
    "regressor = RandomForestRegressor()\n",
    "#from sklearn.linear_model import LinearRegression\n",
    "#regressor = LinearRegression()\n",
    "regressor.fit(X_train,y_train)"
   ]
  },
  {
   "cell_type": "code",
   "execution_count": 350,
   "metadata": {},
   "outputs": [
    {
     "name": "stdout",
     "output_type": "stream",
     "text": [
      "MAE: 0.7904102597143666\n"
     ]
    }
   ],
   "source": [
    "from sklearn.metrics import mean_absolute_error\n",
    "y_pred = regressor.predict(X_test)\n",
    "print(\"MAE:\",mean_absolute_error(y_pred,y_test))#0.7956703873136262"
   ]
  },
  {
   "cell_type": "code",
   "execution_count": 351,
   "metadata": {},
   "outputs": [
    {
     "data": {
      "text/html": [
       "<div>\n",
       "<style scoped>\n",
       "    .dataframe tbody tr th:only-of-type {\n",
       "        vertical-align: middle;\n",
       "    }\n",
       "\n",
       "    .dataframe tbody tr th {\n",
       "        vertical-align: top;\n",
       "    }\n",
       "\n",
       "    .dataframe thead th {\n",
       "        text-align: right;\n",
       "    }\n",
       "</style>\n",
       "<table border=\"1\" class=\"dataframe\">\n",
       "  <thead>\n",
       "    <tr style=\"text-align: right;\">\n",
       "      <th></th>\n",
       "      <th>0</th>\n",
       "    </tr>\n",
       "  </thead>\n",
       "  <tbody>\n",
       "    <tr>\n",
       "      <th>count</th>\n",
       "      <td>273330.000000</td>\n",
       "    </tr>\n",
       "    <tr>\n",
       "      <th>mean</th>\n",
       "      <td>16.363184</td>\n",
       "    </tr>\n",
       "    <tr>\n",
       "      <th>std</th>\n",
       "      <td>12.755188</td>\n",
       "    </tr>\n",
       "    <tr>\n",
       "      <th>min</th>\n",
       "      <td>0.000000</td>\n",
       "    </tr>\n",
       "    <tr>\n",
       "      <th>25%</th>\n",
       "      <td>8.768000</td>\n",
       "    </tr>\n",
       "    <tr>\n",
       "      <th>50%</th>\n",
       "      <td>12.203000</td>\n",
       "    </tr>\n",
       "    <tr>\n",
       "      <th>75%</th>\n",
       "      <td>18.381750</td>\n",
       "    </tr>\n",
       "    <tr>\n",
       "      <th>max</th>\n",
       "      <td>98.159000</td>\n",
       "    </tr>\n",
       "  </tbody>\n",
       "</table>\n",
       "</div>"
      ],
      "text/plain": [
       "                   0\n",
       "count  273330.000000\n",
       "mean       16.363184\n",
       "std        12.755188\n",
       "min         0.000000\n",
       "25%         8.768000\n",
       "50%        12.203000\n",
       "75%        18.381750\n",
       "max        98.159000"
      ]
     },
     "execution_count": 351,
     "metadata": {},
     "output_type": "execute_result"
    }
   ],
   "source": [
    "pd.DataFrame(y_pred).describe()"
   ]
  },
  {
   "cell_type": "code",
   "execution_count": 293,
   "metadata": {},
   "outputs": [
    {
     "data": {
      "text/html": [
       "<div>\n",
       "<style scoped>\n",
       "    .dataframe tbody tr th:only-of-type {\n",
       "        vertical-align: middle;\n",
       "    }\n",
       "\n",
       "    .dataframe tbody tr th {\n",
       "        vertical-align: top;\n",
       "    }\n",
       "\n",
       "    .dataframe thead th {\n",
       "        text-align: right;\n",
       "    }\n",
       "</style>\n",
       "<table border=\"1\" class=\"dataframe\">\n",
       "  <thead>\n",
       "    <tr style=\"text-align: right;\">\n",
       "      <th></th>\n",
       "      <th>total_amount</th>\n",
       "    </tr>\n",
       "  </thead>\n",
       "  <tbody>\n",
       "    <tr>\n",
       "      <th>count</th>\n",
       "      <td>273330.000000</td>\n",
       "    </tr>\n",
       "    <tr>\n",
       "      <th>mean</th>\n",
       "      <td>16.381572</td>\n",
       "    </tr>\n",
       "    <tr>\n",
       "      <th>std</th>\n",
       "      <td>12.866134</td>\n",
       "    </tr>\n",
       "    <tr>\n",
       "      <th>min</th>\n",
       "      <td>0.000000</td>\n",
       "    </tr>\n",
       "    <tr>\n",
       "      <th>25%</th>\n",
       "      <td>8.800000</td>\n",
       "    </tr>\n",
       "    <tr>\n",
       "      <th>50%</th>\n",
       "      <td>12.300000</td>\n",
       "    </tr>\n",
       "    <tr>\n",
       "      <th>75%</th>\n",
       "      <td>18.350000</td>\n",
       "    </tr>\n",
       "    <tr>\n",
       "      <th>max</th>\n",
       "      <td>100.000000</td>\n",
       "    </tr>\n",
       "  </tbody>\n",
       "</table>\n",
       "</div>"
      ],
      "text/plain": [
       "        total_amount\n",
       "count  273330.000000\n",
       "mean       16.381572\n",
       "std        12.866134\n",
       "min         0.000000\n",
       "25%         8.800000\n",
       "50%        12.300000\n",
       "75%        18.350000\n",
       "max       100.000000"
      ]
     },
     "execution_count": 293,
     "metadata": {},
     "output_type": "execute_result"
    }
   ],
   "source": [
    "pd.DataFrame(y_test).describe()"
   ]
  },
  {
   "cell_type": "code",
   "execution_count": 352,
   "metadata": {},
   "outputs": [
    {
     "data": {
      "text/plain": [
       "array([[1.        , 0.99011713],\n",
       "       [0.99011713, 1.        ]])"
      ]
     },
     "execution_count": 352,
     "metadata": {},
     "output_type": "execute_result"
    }
   ],
   "source": [
    "np.corrcoef(y_pred,y_test)#0.98894423,0.99011713"
   ]
  },
  {
   "cell_type": "code",
   "execution_count": 353,
   "metadata": {},
   "outputs": [
    {
     "data": {
      "text/plain": [
       "<matplotlib.axes._subplots.AxesSubplot at 0x234030e0b70>"
      ]
     },
     "execution_count": 353,
     "metadata": {},
     "output_type": "execute_result"
    },
    {
     "data": {
      "image/png": "[encoded data removed]",
      "text/plain": [
       "<matplotlib.figure.Figure at 0x234030d60f0>"
      ]
     },
     "metadata": {},
     "output_type": "display_data"
    }
   ],
   "source": [
    "sns.distplot(y_pred[0:100])\n",
    "sns.distplot(y_test[0:100])"
   ]
  },
  {
   "cell_type": "code",
   "execution_count": 282,
   "metadata": {},
   "outputs": [
    {
     "data": {
      "text/html": [
       "<div>\n",
       "<style scoped>\n",
       "    .dataframe tbody tr th:only-of-type {\n",
       "        vertical-align: middle;\n",
       "    }\n",
       "\n",
       "    .dataframe tbody tr th {\n",
       "        vertical-align: top;\n",
       "    }\n",
       "\n",
       "    .dataframe thead th {\n",
       "        text-align: right;\n",
       "    }\n",
       "</style>\n",
       "<table border=\"1\" class=\"dataframe\">\n",
       "  <thead>\n",
       "    <tr style=\"text-align: right;\">\n",
       "      <th></th>\n",
       "      <th>total_amount</th>\n",
       "    </tr>\n",
       "  </thead>\n",
       "  <tbody>\n",
       "    <tr>\n",
       "      <th>333867</th>\n",
       "      <td>17.15</td>\n",
       "    </tr>\n",
       "    <tr>\n",
       "      <th>853985</th>\n",
       "      <td>11.75</td>\n",
       "    </tr>\n",
       "    <tr>\n",
       "      <th>37097</th>\n",
       "      <td>14.69</td>\n",
       "    </tr>\n",
       "    <tr>\n",
       "      <th>65472</th>\n",
       "      <td>11.60</td>\n",
       "    </tr>\n",
       "    <tr>\n",
       "      <th>553098</th>\n",
       "      <td>7.30</td>\n",
       "    </tr>\n",
       "  </tbody>\n",
       "</table>\n",
       "</div>"
      ],
      "text/plain": [
       "        total_amount\n",
       "333867         17.15\n",
       "853985         11.75\n",
       "37097          14.69\n",
       "65472          11.60\n",
       "553098          7.30"
      ]
     },
     "execution_count": 282,
     "metadata": {},
     "output_type": "execute_result"
    }
   ],
   "source": [
    "pd.DataFrame(y_test).head()"
   ]
  },
  {
   "cell_type": "code",
   "execution_count": 283,
   "metadata": {},
   "outputs": [
    {
     "data": {
      "text/html": [
       "<div>\n",
       "<style scoped>\n",
       "    .dataframe tbody tr th:only-of-type {\n",
       "        vertical-align: middle;\n",
       "    }\n",
       "\n",
       "    .dataframe tbody tr th {\n",
       "        vertical-align: top;\n",
       "    }\n",
       "\n",
       "    .dataframe thead th {\n",
       "        text-align: right;\n",
       "    }\n",
       "</style>\n",
       "<table border=\"1\" class=\"dataframe\">\n",
       "  <thead>\n",
       "    <tr style=\"text-align: right;\">\n",
       "      <th></th>\n",
       "      <th>0</th>\n",
       "    </tr>\n",
       "  </thead>\n",
       "  <tbody>\n",
       "    <tr>\n",
       "      <th>0</th>\n",
       "      <td>16.362897</td>\n",
       "    </tr>\n",
       "    <tr>\n",
       "      <th>1</th>\n",
       "      <td>12.567049</td>\n",
       "    </tr>\n",
       "    <tr>\n",
       "      <th>2</th>\n",
       "      <td>13.601043</td>\n",
       "    </tr>\n",
       "    <tr>\n",
       "      <th>3</th>\n",
       "      <td>10.451470</td>\n",
       "    </tr>\n",
       "    <tr>\n",
       "      <th>4</th>\n",
       "      <td>9.854673</td>\n",
       "    </tr>\n",
       "  </tbody>\n",
       "</table>\n",
       "</div>"
      ],
      "text/plain": [
       "           0\n",
       "0  16.362897\n",
       "1  12.567049\n",
       "2  13.601043\n",
       "3  10.451470\n",
       "4   9.854673"
      ]
     },
     "execution_count": 283,
     "metadata": {},
     "output_type": "execute_result"
    }
   ],
   "source": [
    "pd.DataFrame(y_pred).head()"
   ]
  },
  {
   "cell_type": "markdown",
   "metadata": {},
   "source": [
    "### Predicting on test dataset"
   ]
  },
  {
   "cell_type": "code",
   "execution_count": 354,
   "metadata": {},
   "outputs": [],
   "source": [
    "y_pred_test = regressor.predict(test_dataset)\n",
    "#y_pred_test[y_pred_test<0] = 0"
   ]
  },
  {
   "cell_type": "code",
   "execution_count": 355,
   "metadata": {},
   "outputs": [],
   "source": [
    "arange = np.arange(1,y_pred_test.size+1)\n",
    "df = pd.DataFrame({\"ID\" : arange, \"total_amount\" : y_pred_test})\n",
    "df.to_csv(\"result1.csv\", index=False)"
   ]
  },
  {
   "cell_type": "code",
   "execution_count": 356,
   "metadata": {},
   "outputs": [
    {
     "data": {
      "text/html": [
       "<div>\n",
       "<style scoped>\n",
       "    .dataframe tbody tr th:only-of-type {\n",
       "        vertical-align: middle;\n",
       "    }\n",
       "\n",
       "    .dataframe tbody tr th {\n",
       "        vertical-align: top;\n",
       "    }\n",
       "\n",
       "    .dataframe thead th {\n",
       "        text-align: right;\n",
       "    }\n",
       "</style>\n",
       "<table border=\"1\" class=\"dataframe\">\n",
       "  <thead>\n",
       "    <tr style=\"text-align: right;\">\n",
       "      <th></th>\n",
       "      <th>0</th>\n",
       "    </tr>\n",
       "  </thead>\n",
       "  <tbody>\n",
       "    <tr>\n",
       "      <th>count</th>\n",
       "      <td>64000.000000</td>\n",
       "    </tr>\n",
       "    <tr>\n",
       "      <th>mean</th>\n",
       "      <td>27.398255</td>\n",
       "    </tr>\n",
       "    <tr>\n",
       "      <th>std</th>\n",
       "      <td>25.851791</td>\n",
       "    </tr>\n",
       "    <tr>\n",
       "      <th>min</th>\n",
       "      <td>0.300000</td>\n",
       "    </tr>\n",
       "    <tr>\n",
       "      <th>25%</th>\n",
       "      <td>9.493750</td>\n",
       "    </tr>\n",
       "    <tr>\n",
       "      <th>50%</th>\n",
       "      <td>14.616500</td>\n",
       "    </tr>\n",
       "    <tr>\n",
       "      <th>75%</th>\n",
       "      <td>38.492500</td>\n",
       "    </tr>\n",
       "    <tr>\n",
       "      <th>max</th>\n",
       "      <td>98.900000</td>\n",
       "    </tr>\n",
       "  </tbody>\n",
       "</table>\n",
       "</div>"
      ],
      "text/plain": [
       "                  0\n",
       "count  64000.000000\n",
       "mean      27.398255\n",
       "std       25.851791\n",
       "min        0.300000\n",
       "25%        9.493750\n",
       "50%       14.616500\n",
       "75%       38.492500\n",
       "max       98.900000"
      ]
     },
     "execution_count": 356,
     "metadata": {},
     "output_type": "execute_result"
    }
   ],
   "source": [
    "pd.DataFrame(y_pred_test).describe()"
   ]
  },
  {
   "cell_type": "code",
   "execution_count": 357,
   "metadata": {},
   "outputs": [
    {
     "data": {
      "text/plain": [
       "<matplotlib.axes._subplots.AxesSubplot at 0x234030d6908>"
      ]
     },
     "execution_count": 357,
     "metadata": {},
     "output_type": "execute_result"
    },
    {
     "data": {
      "image/png": "[encoded data removed]",
      "text/plain": [
       "<matplotlib.figure.Figure at 0x2341419e978>"
      ]
     },
     "metadata": {},
     "output_type": "display_data"
    }
   ],
   "source": [
    "sns.distplot(y_pred_test)"
   ]
  },
  {
   "cell_type": "code",
   "execution_count": null,
   "metadata": {},
   "outputs": [],
   "source": []
  }
 ],
 "metadata": {
  "kernelspec": {
   "display_name": "Python 3",
   "language": "python",
   "name": "python3"
  },
  "language_info": {
   "codemirror_mode": {
    "name": "ipython",
    "version": 3
   },
   "file_extension": ".py",
   "mimetype": "text/x-python",
   "name": "python",
   "nbconvert_exporter": "python",
   "pygments_lexer": "ipython3",
   "version": "3.6.4"
  }
 },
 "nbformat": 4,
 "nbformat_minor": 2
}
